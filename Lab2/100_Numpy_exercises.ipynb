{
 "cells": [
  {
   "cell_type": "markdown",
   "id": "f44a2f2b",
   "metadata": {},
   "source": [
    "# 100 numpy exercises\n",
    "\n",
    "This is a collection of exercises that have been collected in the numpy mailing list, on stack overflow\n",
    "and in the numpy documentation. The goal of this collection is to offer a quick reference for both old\n",
    "and new users but also to provide a set of exercises for those who teach."
   ]
  },
  {
   "cell_type": "markdown",
   "id": "96443564",
   "metadata": {},
   "source": [
    "#### 1. Import the numpy package under the name `np` (★☆☆)"
   ]
  },
  {
   "cell_type": "code",
   "execution_count": 86,
   "id": "ffe1047e",
   "metadata": {},
   "outputs": [],
   "source": [
    "import numpy as np"
   ]
  },
  {
   "cell_type": "markdown",
   "id": "c807bf1d",
   "metadata": {},
   "source": [
    "#### 2. Print the numpy version and the configuration (★☆☆)"
   ]
  },
  {
   "cell_type": "code",
   "execution_count": 87,
   "id": "f396b717",
   "metadata": {},
   "outputs": [
    {
     "name": "stdout",
     "output_type": "stream",
     "text": [
      "1.23.5\n",
      "openblas64__info:\n",
      "    library_dirs = ['D:\\\\a\\\\numpy\\\\numpy\\\\build\\\\openblas64__info']\n",
      "    libraries = ['openblas64__info']\n",
      "    language = f77\n",
      "    define_macros = [('HAVE_CBLAS', None), ('BLAS_SYMBOL_SUFFIX', '64_'), ('HAVE_BLAS_ILP64', None)]\n",
      "blas_ilp64_opt_info:\n",
      "    library_dirs = ['D:\\\\a\\\\numpy\\\\numpy\\\\build\\\\openblas64__info']\n",
      "    libraries = ['openblas64__info']\n",
      "    language = f77\n",
      "    define_macros = [('HAVE_CBLAS', None), ('BLAS_SYMBOL_SUFFIX', '64_'), ('HAVE_BLAS_ILP64', None)]\n",
      "openblas64__lapack_info:\n",
      "    library_dirs = ['D:\\\\a\\\\numpy\\\\numpy\\\\build\\\\openblas64__lapack_info']\n",
      "    libraries = ['openblas64__lapack_info']\n",
      "    language = f77\n",
      "    define_macros = [('HAVE_CBLAS', None), ('BLAS_SYMBOL_SUFFIX', '64_'), ('HAVE_BLAS_ILP64', None), ('HAVE_LAPACKE', None)]\n",
      "lapack_ilp64_opt_info:\n",
      "    library_dirs = ['D:\\\\a\\\\numpy\\\\numpy\\\\build\\\\openblas64__lapack_info']\n",
      "    libraries = ['openblas64__lapack_info']\n",
      "    language = f77\n",
      "    define_macros = [('HAVE_CBLAS', None), ('BLAS_SYMBOL_SUFFIX', '64_'), ('HAVE_BLAS_ILP64', None), ('HAVE_LAPACKE', None)]\n",
      "Supported SIMD extensions in this NumPy install:\n",
      "    baseline = SSE,SSE2,SSE3\n",
      "    found = SSSE3,SSE41,POPCNT,SSE42,AVX,F16C,FMA3,AVX2\n",
      "    not found = AVX512F,AVX512CD,AVX512_SKX,AVX512_CLX,AVX512_CNL,AVX512_ICL\n"
     ]
    }
   ],
   "source": [
    "print(np.__version__)\n",
    "\n",
    "np.show_config()"
   ]
  },
  {
   "cell_type": "markdown",
   "id": "572c1bdb",
   "metadata": {},
   "source": [
    "#### 3. Create a null vector of size 10 (★☆☆)"
   ]
  },
  {
   "cell_type": "code",
   "execution_count": 88,
   "id": "31c9f6a5",
   "metadata": {},
   "outputs": [
    {
     "data": {
      "text/plain": [
       "array([0., 0., 0., 0., 0., 0., 0., 0., 0., 0.])"
      ]
     },
     "execution_count": 88,
     "metadata": {},
     "output_type": "execute_result"
    }
   ],
   "source": [
    "myarray = np.zeros(10)\n",
    "myarray"
   ]
  },
  {
   "cell_type": "markdown",
   "id": "337e6e36",
   "metadata": {},
   "source": [
    "#### 4. How to find the memory size of any array (★☆☆)"
   ]
  },
  {
   "cell_type": "code",
   "execution_count": 89,
   "id": "31e8ec2e",
   "metadata": {},
   "outputs": [
    {
     "data": {
      "text/plain": [
       "80"
      ]
     },
     "execution_count": 89,
     "metadata": {},
     "output_type": "execute_result"
    }
   ],
   "source": [
    "myarray.nbytes"
   ]
  },
  {
   "cell_type": "markdown",
   "id": "166079c8",
   "metadata": {},
   "source": [
    "#### 5. How to get the documentation of the numpy add function from the command line? (★☆☆)"
   ]
  },
  {
   "cell_type": "code",
   "execution_count": 90,
   "id": "593cd80f",
   "metadata": {},
   "outputs": [
    {
     "data": {
      "text/plain": [
       "\"add(x1, x2, /, out=None, *, where=True, casting='same_kind', order='K', dtype=None, subok=True[, signature, extobj])\\n\\nAdd arguments element-wise.\\n\\nParameters\\n----------\\nx1, x2 : array_like\\n    The arrays to be added.\\n    If ``x1.shape != x2.shape``, they must be broadcastable to a common\\n    shape (which becomes the shape of the output).\\nout : ndarray, None, or tuple of ndarray and None, optional\\n    A location into which the result is stored. If provided, it must have\\n    a shape that the inputs broadcast to. If not provided or None,\\n    a freshly-allocated array is returned. A tuple (possible only as a\\n    keyword argument) must have length equal to the number of outputs.\\nwhere : array_like, optional\\n    This condition is broadcast over the input. At locations where the\\n    condition is True, the `out` array will be set to the ufunc result.\\n    Elsewhere, the `out` array will retain its original value.\\n    Note that if an uninitialized `out` array is created via the default\\n    ``out=None``, locations within it where the condition is False will\\n    remain uninitialized.\\n**kwargs\\n    For other keyword-only arguments, see the\\n    :ref:`ufunc docs <ufuncs.kwargs>`.\\n\\nReturns\\n-------\\nadd : ndarray or scalar\\n    The sum of `x1` and `x2`, element-wise.\\n    This is a scalar if both `x1` and `x2` are scalars.\\n\\nNotes\\n-----\\nEquivalent to `x1` + `x2` in terms of array broadcasting.\\n\\nExamples\\n--------\\n>>> np.add(1.0, 4.0)\\n5.0\\n>>> x1 = np.arange(9.0).reshape((3, 3))\\n>>> x2 = np.arange(3.0)\\n>>> np.add(x1, x2)\\narray([[  0.,   2.,   4.],\\n       [  3.,   5.,   7.],\\n       [  6.,   8.,  10.]])\\n\\nThe ``+`` operator can be used as a shorthand for ``np.add`` on ndarrays.\\n\\n>>> x1 = np.arange(9.0).reshape((3, 3))\\n>>> x2 = np.arange(3.0)\\n>>> x1 + x2\\narray([[ 0.,  2.,  4.],\\n       [ 3.,  5.,  7.],\\n       [ 6.,  8., 10.]])\""
      ]
     },
     "execution_count": 90,
     "metadata": {},
     "output_type": "execute_result"
    }
   ],
   "source": [
    "np.add.__doc__"
   ]
  },
  {
   "cell_type": "markdown",
   "id": "3add7101",
   "metadata": {},
   "source": [
    "#### 6. Create a null vector of size 10 but the fifth value which is 1 (★☆☆)"
   ]
  },
  {
   "cell_type": "code",
   "execution_count": 91,
   "id": "2edf3c42",
   "metadata": {},
   "outputs": [
    {
     "data": {
      "text/plain": [
       "array([0., 0., 0., 0., 1., 0., 0., 0., 0., 0.])"
      ]
     },
     "execution_count": 91,
     "metadata": {},
     "output_type": "execute_result"
    }
   ],
   "source": [
    "myarray = np.zeros(10)\n",
    "myarray[4] = 1\n",
    "myarray"
   ]
  },
  {
   "cell_type": "markdown",
   "id": "cfc46304",
   "metadata": {},
   "source": [
    "#### 7. Create a vector with values ranging from 10 to 49 (★☆☆)"
   ]
  },
  {
   "cell_type": "code",
   "execution_count": 92,
   "id": "d8b86640",
   "metadata": {},
   "outputs": [
    {
     "data": {
      "text/plain": [
       "array([10, 11, 12, 13, 14, 15, 16, 17, 18, 19, 20, 21, 22, 23, 24, 25, 26,\n",
       "       27, 28, 29, 30, 31, 32, 33, 34, 35, 36, 37, 38, 39, 40, 41, 42, 43,\n",
       "       44, 45, 46, 47, 48, 49])"
      ]
     },
     "execution_count": 92,
     "metadata": {},
     "output_type": "execute_result"
    }
   ],
   "source": [
    "myarray1 = np.arange(10,50)\n",
    "myarray1"
   ]
  },
  {
   "cell_type": "markdown",
   "id": "0cc200be",
   "metadata": {},
   "source": [
    "#### 8. Reverse a vector (first element becomes last) (★☆☆)"
   ]
  },
  {
   "cell_type": "code",
   "execution_count": 93,
   "id": "ec044bb5",
   "metadata": {},
   "outputs": [
    {
     "data": {
      "text/plain": [
       "array([49, 48, 47, 46, 45, 44, 43, 42, 41, 40, 39, 38, 37, 36, 35, 34, 33,\n",
       "       32, 31, 30, 29, 28, 27, 26, 25, 24, 23, 22, 21, 20, 19, 18, 17, 16,\n",
       "       15, 14, 13, 12, 11, 10])"
      ]
     },
     "execution_count": 93,
     "metadata": {},
     "output_type": "execute_result"
    }
   ],
   "source": [
    "myarray2 = myarray1[::-1]\n",
    "myarray2"
   ]
  },
  {
   "cell_type": "markdown",
   "id": "29d9ede4",
   "metadata": {},
   "source": [
    "#### 9. Create a 3x3 matrix with values ranging from 0 to 8 (★☆☆)"
   ]
  },
  {
   "cell_type": "code",
   "execution_count": 94,
   "id": "d9e39043",
   "metadata": {},
   "outputs": [
    {
     "data": {
      "text/plain": [
       "array([[0, 1, 2],\n",
       "       [3, 4, 5],\n",
       "       [6, 7, 8]])"
      ]
     },
     "execution_count": 94,
     "metadata": {},
     "output_type": "execute_result"
    }
   ],
   "source": [
    "myarray = np.arange(0,9).reshape(3,3)\n",
    "myarray"
   ]
  },
  {
   "cell_type": "markdown",
   "id": "88905ceb",
   "metadata": {},
   "source": [
    "#### 10. Find indices of non-zero elements from [1,2,0,0,4,0] (★☆☆)"
   ]
  },
  {
   "cell_type": "code",
   "execution_count": 95,
   "id": "b2f3c90a",
   "metadata": {},
   "outputs": [
    {
     "data": {
      "text/plain": [
       "(array([0, 1, 4], dtype=int64),)"
      ]
     },
     "execution_count": 95,
     "metadata": {},
     "output_type": "execute_result"
    }
   ],
   "source": [
    "myarray = np.array([1,2,0,0,4,0])\n",
    "np.nonzero(myarray)"
   ]
  },
  {
   "cell_type": "markdown",
   "id": "49603e91",
   "metadata": {},
   "source": [
    "#### 11. Create a 3x3 identity matrix (★☆☆)"
   ]
  },
  {
   "cell_type": "code",
   "execution_count": 96,
   "id": "5b607b5c",
   "metadata": {},
   "outputs": [
    {
     "data": {
      "text/plain": [
       "array([[1., 0., 0.],\n",
       "       [0., 1., 0.],\n",
       "       [0., 0., 1.]])"
      ]
     },
     "execution_count": 96,
     "metadata": {},
     "output_type": "execute_result"
    }
   ],
   "source": [
    "myarray = np.eye(3)\n",
    "myarray"
   ]
  },
  {
   "cell_type": "markdown",
   "id": "e15c249a",
   "metadata": {},
   "source": [
    "#### 12. Create a 3x3x3 array with random values (★☆☆)"
   ]
  },
  {
   "cell_type": "code",
   "execution_count": 97,
   "id": "ab21ed50",
   "metadata": {},
   "outputs": [
    {
     "data": {
      "text/plain": [
       "array([[[7.03623999e-01, 5.70249298e-01, 3.53529849e-01],\n",
       "        [6.16349777e-01, 5.88660188e-01, 5.76579759e-01],\n",
       "        [7.10134170e-01, 5.90044579e-01, 4.29418902e-01]],\n",
       "\n",
       "       [[8.85304244e-01, 8.07029530e-04, 6.85952556e-01],\n",
       "        [7.42111620e-01, 4.79331578e-02, 1.22509854e-01],\n",
       "        [9.25346154e-01, 3.97850576e-01, 1.16455893e-01]],\n",
       "\n",
       "       [[3.10854537e-01, 1.01767414e-01, 3.01397185e-01],\n",
       "        [2.76779567e-01, 3.58032986e-01, 6.08462058e-02],\n",
       "        [8.17552985e-01, 7.73371247e-01, 1.07386519e-01]]])"
      ]
     },
     "execution_count": 97,
     "metadata": {},
     "output_type": "execute_result"
    }
   ],
   "source": [
    "myarray = np.random.random((3,3,3))\n",
    "myarray"
   ]
  },
  {
   "cell_type": "markdown",
   "id": "157a129c",
   "metadata": {},
   "source": [
    "#### 13. Create a 10x10 array with random values and find the minimum and maximum values (★☆☆)"
   ]
  },
  {
   "cell_type": "code",
   "execution_count": 98,
   "id": "c0066de5",
   "metadata": {},
   "outputs": [
    {
     "name": "stdout",
     "output_type": "stream",
     "text": [
      "[[3.74487307e-01 6.22711081e-01 1.06649798e-01 1.72550916e-01\n",
      "  2.73865565e-01 8.23798241e-01 4.14853688e-01 1.60051784e-01\n",
      "  2.18315839e-01 3.25382094e-01]\n",
      " [7.59211835e-01 5.21141217e-01 7.86105699e-01 3.96657611e-01\n",
      "  4.84702758e-01 2.28637026e-01 9.94231106e-01 6.88224171e-01\n",
      "  8.03362078e-02 3.64750963e-01]\n",
      " [7.88517560e-01 1.97526229e-01 5.14311592e-01 4.57273048e-01\n",
      "  7.95643341e-01 7.19767949e-01 4.95490618e-01 3.06399093e-02\n",
      "  4.80416179e-01 3.76517084e-01]\n",
      " [3.15804344e-01 4.94491774e-01 7.47551805e-01 6.91728963e-01\n",
      "  2.00248732e-01 7.84726006e-02 1.49515485e-01 6.81448817e-01\n",
      "  7.66793443e-01 1.66067772e-01]\n",
      " [2.73059407e-01 2.48499603e-01 9.42988329e-01 7.17499224e-01\n",
      "  4.85782220e-04 3.12628601e-01 4.61636500e-01 3.90706445e-01\n",
      "  4.76839794e-01 2.74077499e-01]\n",
      " [8.26173543e-01 3.35186826e-01 4.22611731e-01 2.20106956e-01\n",
      "  1.33843252e-01 7.35679762e-01 3.93448336e-01 3.62097682e-01\n",
      "  7.53561049e-01 4.74878600e-02]\n",
      " [1.90393891e-01 6.59172543e-02 4.39088858e-01 5.78212905e-01\n",
      "  2.70216982e-01 7.30498057e-01 1.29946669e-01 5.69439384e-01\n",
      "  1.69424517e-01 3.31798231e-01]\n",
      " [5.22059687e-01 8.22276057e-01 6.52754749e-01 5.47632190e-01\n",
      "  3.20230377e-01 9.88658859e-01 4.79988403e-02 4.60688637e-02\n",
      "  7.82121130e-01 9.98558903e-01]\n",
      " [5.44318846e-01 6.33290939e-01 5.91908713e-01 3.61240599e-01\n",
      "  6.67910983e-01 2.62820419e-01 1.54656227e-01 4.96414871e-01\n",
      "  6.04294062e-01 8.95325698e-01]\n",
      " [9.47989689e-01 6.87108040e-01 4.90745684e-01 4.20228596e-01\n",
      "  8.27689725e-02 1.39564919e-02 3.10243902e-01 6.04332680e-01\n",
      "  7.33839565e-01 2.17868366e-01]]\n",
      "0.9985589030003448\n",
      "0.0004857822196715489\n"
     ]
    }
   ],
   "source": [
    "myarray = np.random.random((10,10))\n",
    "print(myarray)\n",
    "print(myarray.max())\n",
    "print(myarray.min())"
   ]
  },
  {
   "cell_type": "markdown",
   "id": "d92d7b32",
   "metadata": {},
   "source": [
    "#### 14. Create a random vector of size 30 and find the mean value (★☆☆)"
   ]
  },
  {
   "cell_type": "code",
   "execution_count": 99,
   "id": "9672d023",
   "metadata": {},
   "outputs": [
    {
     "name": "stdout",
     "output_type": "stream",
     "text": [
      "[0.87482659 0.14460054 0.4168333  0.96916721 0.34669477 0.72988706\n",
      " 0.70081278 0.51469645 0.24198637 0.06207992 0.09616738 0.68620898\n",
      " 0.07040692 0.95457339 0.47345677 0.94954733 0.5564258  0.47782558\n",
      " 0.62596809 0.21660167 0.35231179 0.49604856 0.45494249 0.41376932\n",
      " 0.87100021 0.73272198 0.31695985 0.09749836 0.13091787 0.20865021]\n",
      "0.4727862506364044\n"
     ]
    }
   ],
   "source": [
    "myarray = np.random.random((30))\n",
    "print(myarray)\n",
    "print(myarray.mean())"
   ]
  },
  {
   "cell_type": "markdown",
   "id": "f361efc0",
   "metadata": {},
   "source": [
    "#### 15. Create a 2d array with 1 on the border and 0 inside (★☆☆)"
   ]
  },
  {
   "cell_type": "code",
   "execution_count": 100,
   "id": "a55b6666",
   "metadata": {},
   "outputs": [
    {
     "data": {
      "text/plain": [
       "array([[1., 1., 1., 1., 1.],\n",
       "       [1., 0., 0., 0., 1.],\n",
       "       [1., 0., 0., 0., 1.],\n",
       "       [1., 0., 0., 0., 1.],\n",
       "       [1., 1., 1., 1., 1.]])"
      ]
     },
     "execution_count": 100,
     "metadata": {},
     "output_type": "execute_result"
    }
   ],
   "source": [
    "myarray = np.ones((5,5)) \n",
    "myarray[1:-1,1:-1] = 0\n",
    "myarray"
   ]
  },
  {
   "cell_type": "markdown",
   "id": "475808cb",
   "metadata": {},
   "source": [
    "#### 16. How to add a border (filled with 0's) around an existing array? (★☆☆)"
   ]
  },
  {
   "cell_type": "code",
   "execution_count": 101,
   "id": "b2df3a8a",
   "metadata": {},
   "outputs": [
    {
     "data": {
      "text/plain": [
       "array([[0., 0., 0., 0., 0., 0., 0.],\n",
       "       [0., 1., 1., 1., 1., 1., 0.],\n",
       "       [0., 1., 0., 0., 0., 1., 0.],\n",
       "       [0., 1., 0., 0., 0., 1., 0.],\n",
       "       [0., 1., 0., 0., 0., 1., 0.],\n",
       "       [0., 1., 1., 1., 1., 1., 0.],\n",
       "       [0., 0., 0., 0., 0., 0., 0.]])"
      ]
     },
     "execution_count": 101,
     "metadata": {},
     "output_type": "execute_result"
    }
   ],
   "source": [
    "myarray = np.pad(myarray, pad_width=1, mode='constant', constant_values=0)\n",
    "myarray"
   ]
  },
  {
   "cell_type": "markdown",
   "id": "1af07d85",
   "metadata": {},
   "source": [
    "#### 17. What is the result of the following expression? (★☆☆)\n",
    "```python\n",
    "0 * np.nan\n",
    "np.nan == np.nan\n",
    "np.inf > np.nan\n",
    "np.nan - np.nan\n",
    "np.nan in set([np.nan])\n",
    "0.3 == 3 * 0.1\n",
    "```"
   ]
  },
  {
   "cell_type": "code",
   "execution_count": 102,
   "id": "109cf327",
   "metadata": {},
   "outputs": [
    {
     "name": "stdout",
     "output_type": "stream",
     "text": [
      "nan\n",
      "False\n",
      "False\n",
      "nan\n",
      "True\n",
      "False\n"
     ]
    }
   ],
   "source": [
    "print(0 * np.nan)\n",
    "print(np.nan == np.nan)\n",
    "print(np.inf > np.nan)\n",
    "print(np.nan - np.nan)\n",
    "print(np.nan in set([np.nan]))\n",
    "print(0.3 == 3 * 0.1)"
   ]
  },
  {
   "cell_type": "markdown",
   "id": "6a235316",
   "metadata": {},
   "source": [
    "#### 18. Create a 5x5 matrix with values 1,2,3,4 just below the diagonal (★☆☆)"
   ]
  },
  {
   "cell_type": "code",
   "execution_count": 103,
   "id": "f2e6cfa6",
   "metadata": {},
   "outputs": [
    {
     "data": {
      "text/plain": [
       "array([[0, 0, 0, 0, 0],\n",
       "       [1, 0, 0, 0, 0],\n",
       "       [0, 2, 0, 0, 0],\n",
       "       [0, 0, 3, 0, 0],\n",
       "       [0, 0, 0, 4, 0]])"
      ]
     },
     "execution_count": 103,
     "metadata": {},
     "output_type": "execute_result"
    }
   ],
   "source": [
    "myarray = np.zeros((5,5))\n",
    "myarray = np.diag(1+np.arange(4), k = -1)\n",
    "myarray"
   ]
  },
  {
   "cell_type": "markdown",
   "id": "25362e98",
   "metadata": {},
   "source": [
    "#### 19. Create a 8x8 matrix and fill it with a checkerboard pattern (★☆☆)"
   ]
  },
  {
   "cell_type": "code",
   "execution_count": 104,
   "id": "cabdf298",
   "metadata": {},
   "outputs": [
    {
     "data": {
      "text/plain": [
       "array([[0., 1., 0., 1., 0., 1., 0., 1.],\n",
       "       [1., 0., 1., 0., 1., 0., 1., 0.],\n",
       "       [0., 1., 0., 1., 0., 1., 0., 1.],\n",
       "       [1., 0., 1., 0., 1., 0., 1., 0.],\n",
       "       [0., 1., 0., 1., 0., 1., 0., 1.],\n",
       "       [1., 0., 1., 0., 1., 0., 1., 0.],\n",
       "       [0., 1., 0., 1., 0., 1., 0., 1.],\n",
       "       [1., 0., 1., 0., 1., 0., 1., 0.]])"
      ]
     },
     "execution_count": 104,
     "metadata": {},
     "output_type": "execute_result"
    }
   ],
   "source": [
    "myarray = np.zeros((8,8))\n",
    "myarray[1::2, ::2]= 1\n",
    "myarray[::2, 1::2] = 1\n",
    "myarray"
   ]
  },
  {
   "cell_type": "markdown",
   "id": "6431e977",
   "metadata": {},
   "source": [
    "#### 20. Consider a (6,7,8) shape array, what is the index (x,y,z) of the 100th element? (★☆☆)"
   ]
  },
  {
   "cell_type": "code",
   "execution_count": 105,
   "id": "de8b0245",
   "metadata": {},
   "outputs": [
    {
     "data": {
      "text/plain": [
       "(1, 5, 4)"
      ]
     },
     "execution_count": 105,
     "metadata": {},
     "output_type": "execute_result"
    }
   ],
   "source": [
    "myarray = np.unravel_index(100, (6,7,8))\n",
    "myarray"
   ]
  },
  {
   "cell_type": "markdown",
   "id": "31abe6fe",
   "metadata": {},
   "source": [
    "#### 21. Create a checkerboard 8x8 matrix using the tile function (★☆☆)"
   ]
  },
  {
   "cell_type": "code",
   "execution_count": 106,
   "id": "6da26fd3",
   "metadata": {},
   "outputs": [
    {
     "name": "stdout",
     "output_type": "stream",
     "text": [
      "[[0 1 0 1 0 1 0 1]\n",
      " [1 0 1 0 1 0 1 0]\n",
      " [0 1 0 1 0 1 0 1]\n",
      " [1 0 1 0 1 0 1 0]\n",
      " [0 1 0 1 0 1 0 1]\n",
      " [1 0 1 0 1 0 1 0]\n",
      " [0 1 0 1 0 1 0 1]\n",
      " [1 0 1 0 1 0 1 0]]\n"
     ]
    }
   ],
   "source": [
    "myarray= np.array([[0,1], [1,0]])\n",
    "myarray = np.tile(myarray,(4,4))\n",
    "print (myarray)"
   ]
  },
  {
   "cell_type": "markdown",
   "id": "fd88b3f4",
   "metadata": {},
   "source": [
    "#### 22. Normalize a 5x5 random matrix (★☆☆)"
   ]
  },
  {
   "cell_type": "code",
   "execution_count": 107,
   "id": "ee6ced60",
   "metadata": {},
   "outputs": [
    {
     "data": {
      "text/plain": [
       "array([[0.16587868, 0.23393624, 0.2988002 , 0.91715018, 0.52021839],\n",
       "       [0.4989768 , 0.85524994, 0.15179412, 1.        , 0.86322419],\n",
       "       [0.74013037, 0.32584221, 0.12432155, 0.61758093, 0.68991657],\n",
       "       [0.6278244 , 0.22726509, 0.88653171, 0.74012109, 0.        ],\n",
       "       [0.17394313, 0.06548106, 0.68214247, 0.39942058, 0.68144359]])"
      ]
     },
     "execution_count": 107,
     "metadata": {},
     "output_type": "execute_result"
    }
   ],
   "source": [
    "myarray = np.random.random((5,5))\n",
    "max = myarray.max()\n",
    "min = myarray.min()\n",
    "myarray = (myarray - min)/(max - min)\n",
    "myarray"
   ]
  },
  {
   "cell_type": "markdown",
   "id": "464d8590",
   "metadata": {},
   "source": [
    "#### 23. Create a custom dtype that describes a color as four unsigned bytes (RGBA) (★☆☆)"
   ]
  },
  {
   "cell_type": "code",
   "execution_count": 108,
   "id": "e2f9cfc6",
   "metadata": {},
   "outputs": [
    {
     "data": {
      "text/plain": [
       "dtype([('r', 'u1'), ('g', 'u1'), ('b', 'u1'), ('a', 'u1')])"
      ]
     },
     "execution_count": 108,
     "metadata": {},
     "output_type": "execute_result"
    }
   ],
   "source": [
    "color = np.dtype([(\"r\", np.ubyte),(\"g\", np.ubyte),(\"b\", np.ubyte),(\"a\", np.ubyte)])\n",
    "color\n"
   ]
  },
  {
   "cell_type": "markdown",
   "id": "06c63bb3",
   "metadata": {},
   "source": [
    "#### 24. Multiply a 5x3 matrix by a 3x2 matrix (real matrix product) (★☆☆)"
   ]
  },
  {
   "cell_type": "code",
   "execution_count": 109,
   "id": "9fc0d553",
   "metadata": {},
   "outputs": [
    {
     "data": {
      "text/plain": [
       "array([[3., 3.],\n",
       "       [3., 3.],\n",
       "       [3., 3.],\n",
       "       [3., 3.],\n",
       "       [3., 3.]])"
      ]
     },
     "execution_count": 109,
     "metadata": {},
     "output_type": "execute_result"
    }
   ],
   "source": [
    "myarray = np.dot(np.ones((5,3)), np.ones((3,2)))\n",
    "myarray"
   ]
  },
  {
   "cell_type": "markdown",
   "id": "76fa6285",
   "metadata": {},
   "source": [
    "#### 25. Given a 1D array, negate all elements which are between 3 and 8, in place. (★☆☆)"
   ]
  },
  {
   "cell_type": "code",
   "execution_count": 110,
   "id": "0e25eca7",
   "metadata": {},
   "outputs": [
    {
     "name": "stdout",
     "output_type": "stream",
     "text": [
      "[4 4 0 2 6 4 4 7 8 1]\n",
      "[-4 -4  0  2 -6 -4 -4 -7  8  1]\n"
     ]
    }
   ],
   "source": [
    "myarray = np.random.randint(0,10,10)\n",
    "print(myarray)\n",
    "myarray[(3 < myarray) & (myarray < 8)] = -myarray[(3 < myarray) & (myarray < 8)]\n",
    "print(myarray)"
   ]
  },
  {
   "cell_type": "markdown",
   "id": "930ed8bb",
   "metadata": {},
   "source": [
    "#### 26. What is the output of the following script? (★☆☆)\n",
    "```python\n",
    "# Author: Jake VanderPlas\n",
    "\n",
    "print(sum(range(5),-1))\n",
    "from numpy import *\n",
    "print(sum(range(5),-1))\n",
    "```"
   ]
  },
  {
   "cell_type": "code",
   "execution_count": 111,
   "id": "f02eedba",
   "metadata": {},
   "outputs": [
    {
     "name": "stdout",
     "output_type": "stream",
     "text": [
      "10\n",
      "10\n"
     ]
    }
   ],
   "source": [
    "print(sum(range(5),-1))\n",
    "from numpy import *\n",
    "print(sum(range(5),-1))"
   ]
  },
  {
   "cell_type": "markdown",
   "id": "177120e7",
   "metadata": {},
   "source": [
    "#### 27. Consider an integer vector Z, which of these expressions are legal? (★☆☆)\n",
    "```python\n",
    "Z**Z\n",
    "2 << Z >> 2\n",
    "Z <- Z\n",
    "1j*Z\n",
    "Z/1/1\n",
    "Z<Z>Z\n",
    "```"
   ]
  },
  {
   "cell_type": "code",
   "execution_count": 112,
   "id": "86d6cbef",
   "metadata": {},
   "outputs": [
    {
     "name": "stdout",
     "output_type": "stream",
     "text": [
      "[1 1 4]\n",
      "[0 1 2]\n",
      "[False False False]\n",
      "[0.+0.j 0.+1.j 0.+2.j]\n",
      "[0. 1. 2.]\n",
      "myarray<myarray>myarray\n"
     ]
    }
   ],
   "source": [
    "myarray = np.arange(3)\n",
    "print(myarray**myarray)\n",
    "print(2 << myarray >> 2)\n",
    "print(myarray <- myarray)\n",
    "print(1j*myarray)\n",
    "print(myarray/1/1)\n",
    "print('myarray<myarray>myarray')"
   ]
  },
  {
   "cell_type": "markdown",
   "id": "a6eaf0e8",
   "metadata": {},
   "source": [
    "#### 28. What are the result of the following expressions? (★☆☆)\n",
    "```python\n",
    "np.array(0) / np.array(0)\n",
    "np.array(0) // np.array(0)\n",
    "np.array([np.nan]).astype(int).astype(float)\n",
    "```"
   ]
  },
  {
   "cell_type": "code",
   "execution_count": 113,
   "id": "93684068",
   "metadata": {},
   "outputs": [
    {
     "name": "stdout",
     "output_type": "stream",
     "text": [
      "nan\n",
      "0\n",
      "[-2.14748365e+09]\n"
     ]
    }
   ],
   "source": [
    "print(np.array(0) / np.array(0))\n",
    "print(np.array(0) // np.array(0))\n",
    "print(np.array([np.nan]).astype(int).astype(float))"
   ]
  },
  {
   "cell_type": "markdown",
   "id": "524b65f8",
   "metadata": {},
   "source": [
    "#### 29. How to round away from zero a float array ? (★☆☆)"
   ]
  },
  {
   "cell_type": "code",
   "execution_count": 114,
   "id": "61fbb78e",
   "metadata": {},
   "outputs": [
    {
     "data": {
      "text/plain": [
       "array([-5., -4., -4., -3., -3., -2., -2., -1., -1., -0.,  0.,  1.,  1.,\n",
       "        2.,  2.,  3.,  3.,  4.,  4.,  5.])"
      ]
     },
     "execution_count": 114,
     "metadata": {},
     "output_type": "execute_result"
    }
   ],
   "source": [
    "def roundAwayFromZero(array):\n",
    "    a = np.abs(array)\n",
    "    b = np.floor(a) + np.floor(2*(a%1))\n",
    "    return np.copysign(b, array)\n",
    "\n",
    "x = np.linspace(-5, 5, 20)\n",
    "roundAwayFromZero(x)"
   ]
  },
  {
   "cell_type": "markdown",
   "id": "8dc40752",
   "metadata": {},
   "source": [
    "#### 30. How to find common values between two arrays? (★☆☆)"
   ]
  },
  {
   "cell_type": "code",
   "execution_count": 115,
   "id": "54399cbe",
   "metadata": {},
   "outputs": [
    {
     "name": "stdout",
     "output_type": "stream",
     "text": [
      "[5 6 2 9 5 7 4 2 3 6]\n",
      "[4 7 2 7 7 5 4 3 4 9]\n",
      "[2 3 4 5 7 9]\n"
     ]
    }
   ],
   "source": [
    "myarray1 = np.random.randint(0,10,10)\n",
    "myarray2 = np.random.randint(0,10,10)\n",
    "myarray = np.intersect1d(myarray1,myarray2)\n",
    "print(myarray1)\n",
    "print(myarray2)\n",
    "print(myarray)"
   ]
  },
  {
   "cell_type": "markdown",
   "id": "b7f38e21",
   "metadata": {},
   "source": [
    "#### 31. How to ignore all numpy warnings (not recommended)? (★☆☆)"
   ]
  },
  {
   "cell_type": "code",
   "execution_count": 116,
   "id": "2ca3289c",
   "metadata": {},
   "outputs": [],
   "source": [
    "defaults = np.seterr(all=\"ignore\")"
   ]
  },
  {
   "cell_type": "markdown",
   "id": "2d850aab",
   "metadata": {},
   "source": [
    "#### 32. Is the following expressions true? (★☆☆)\n",
    "```python\n",
    "np.sqrt(-1) == np.emath.sqrt(-1)\n",
    "```"
   ]
  },
  {
   "cell_type": "code",
   "execution_count": 117,
   "id": "5c83ffce",
   "metadata": {},
   "outputs": [
    {
     "name": "stdout",
     "output_type": "stream",
     "text": [
      "False\n"
     ]
    }
   ],
   "source": [
    "print(np.sqrt(-1) == np.emath.sqrt(-1))"
   ]
  },
  {
   "cell_type": "markdown",
   "id": "5c4a556f",
   "metadata": {},
   "source": [
    "#### 33. How to get the dates of yesterday, today and tomorrow? (★☆☆)"
   ]
  },
  {
   "cell_type": "code",
   "execution_count": 118,
   "id": "c3b683a0",
   "metadata": {},
   "outputs": [
    {
     "name": "stdout",
     "output_type": "stream",
     "text": [
      "2022-11-26\n",
      "2022-11-27\n",
      "2022-11-28\n"
     ]
    }
   ],
   "source": [
    "yesterday = np.datetime64('today', 'D') - np.timedelta64(1, 'D')\n",
    "today     = np.datetime64('today', 'D')\n",
    "tomorrow  = np.datetime64('today', 'D') + np.timedelta64(1, 'D')\n",
    "print(yesterday)\n",
    "print(today)\n",
    "print(tomorrow)"
   ]
  },
  {
   "cell_type": "markdown",
   "id": "453cdd64",
   "metadata": {},
   "source": [
    "#### 34. How to get all the dates corresponding to the month of July 2016? (★★☆)"
   ]
  },
  {
   "cell_type": "code",
   "execution_count": 119,
   "id": "4ba4d37c",
   "metadata": {},
   "outputs": [
    {
     "data": {
      "text/plain": [
       "array(['2016-07-01', '2016-07-02', '2016-07-03', '2016-07-04',\n",
       "       '2016-07-05', '2016-07-06', '2016-07-07', '2016-07-08',\n",
       "       '2016-07-09', '2016-07-10', '2016-07-11', '2016-07-12',\n",
       "       '2016-07-13', '2016-07-14', '2016-07-15', '2016-07-16',\n",
       "       '2016-07-17', '2016-07-18', '2016-07-19', '2016-07-20',\n",
       "       '2016-07-21', '2016-07-22', '2016-07-23', '2016-07-24',\n",
       "       '2016-07-25', '2016-07-26', '2016-07-27', '2016-07-28',\n",
       "       '2016-07-29', '2016-07-30', '2016-07-31'], dtype='datetime64[D]')"
      ]
     },
     "execution_count": 119,
     "metadata": {},
     "output_type": "execute_result"
    }
   ],
   "source": [
    "days = np.arange('2016-07', '2016-08', dtype='datetime64[D]')\n",
    "days"
   ]
  },
  {
   "cell_type": "markdown",
   "id": "52667b6e",
   "metadata": {},
   "source": [
    "#### 35. How to compute ((A+B)*(-A/2)) in place (without copy)? (★★☆)"
   ]
  },
  {
   "cell_type": "code",
   "execution_count": 120,
   "id": "e6e7c030",
   "metadata": {},
   "outputs": [
    {
     "data": {
      "text/plain": [
       "array([-1.5, -1.5, -1.5])"
      ]
     },
     "execution_count": 120,
     "metadata": {},
     "output_type": "execute_result"
    }
   ],
   "source": [
    "A = np.ones(3)*1\n",
    "B = np.ones(3)*2\n",
    "np.add(A,B,out=B)\n",
    "np.negative(A,out=A)\n",
    "np.divide(A,2,out=A)\n",
    "np.multiply(A,B,out=A)\n",
    "A"
   ]
  },
  {
   "cell_type": "markdown",
   "id": "9a8f3738",
   "metadata": {},
   "source": [
    "#### 36. Extract the integer part of a random array of positive numbers using 4 different methods (★★☆)"
   ]
  },
  {
   "cell_type": "code",
   "execution_count": 121,
   "id": "368a801a",
   "metadata": {},
   "outputs": [
    {
     "name": "stdout",
     "output_type": "stream",
     "text": [
      "[4. 2. 1. 1. 2. 4. 5. 3. 3. 4.]\n",
      "[4. 2. 1. 1. 2. 4. 5. 3. 3. 4.]\n",
      "[4. 2. 1. 1. 2. 4. 5. 3. 3. 4.]\n",
      "[4 2 1 1 2 4 5 3 3 4]\n",
      "[4. 2. 1. 1. 2. 4. 5. 3. 3. 4.]\n"
     ]
    }
   ],
   "source": [
    "myarray = np.random.uniform(0,10,10)\n",
    "\n",
    "print(myarray - myarray%1)\n",
    "print(myarray // 1)\n",
    "print(np.floor(myarray))\n",
    "print(myarray.astype(int))\n",
    "print(np.trunc(myarray))"
   ]
  },
  {
   "cell_type": "markdown",
   "id": "cab1eed1",
   "metadata": {},
   "source": [
    "#### 37. Create a 5x5 matrix with row values ranging from 0 to 4 (★★☆)"
   ]
  },
  {
   "cell_type": "code",
   "execution_count": 122,
   "id": "f1b579ba",
   "metadata": {},
   "outputs": [
    {
     "data": {
      "text/plain": [
       "array([[0., 1., 2., 3., 4.],\n",
       "       [0., 1., 2., 3., 4.],\n",
       "       [0., 1., 2., 3., 4.],\n",
       "       [0., 1., 2., 3., 4.],\n",
       "       [0., 1., 2., 3., 4.]])"
      ]
     },
     "execution_count": 122,
     "metadata": {},
     "output_type": "execute_result"
    }
   ],
   "source": [
    "myarray = np.zeros((5,5))\n",
    "myarray += np.arange(5)\n",
    "myarray"
   ]
  },
  {
   "cell_type": "markdown",
   "id": "cd0ce6b1",
   "metadata": {},
   "source": [
    "#### 38. Consider a generator function that generates 10 integers and use it to build an array (★☆☆)"
   ]
  },
  {
   "cell_type": "code",
   "execution_count": 123,
   "id": "aab193a6",
   "metadata": {},
   "outputs": [
    {
     "data": {
      "text/plain": [
       "array([0., 1., 2., 3., 4., 5., 6., 7., 8., 9.])"
      ]
     },
     "execution_count": 123,
     "metadata": {},
     "output_type": "execute_result"
    }
   ],
   "source": [
    "def generate():\n",
    "    for x in range(10):\n",
    "        yield x\n",
    "myarray = np.fromiter(generate(),dtype=float,count=-1)\n",
    "myarray"
   ]
  },
  {
   "cell_type": "markdown",
   "id": "c4c942d1",
   "metadata": {},
   "source": [
    "#### 39. Create a vector of size 10 with values ranging from 0 to 1, both excluded (★★☆)"
   ]
  },
  {
   "cell_type": "code",
   "execution_count": 124,
   "id": "e42eaa4b",
   "metadata": {},
   "outputs": [
    {
     "data": {
      "text/plain": [
       "array([0.09090909, 0.18181818, 0.27272727, 0.36363636, 0.45454545,\n",
       "       0.54545455, 0.63636364, 0.72727273, 0.81818182, 0.90909091])"
      ]
     },
     "execution_count": 124,
     "metadata": {},
     "output_type": "execute_result"
    }
   ],
   "source": [
    "myarray = np.linspace(0,1,11,endpoint=False)[1:]\n",
    "myarray"
   ]
  },
  {
   "cell_type": "markdown",
   "id": "9b3cb8d2",
   "metadata": {},
   "source": [
    "#### 40. Create a random vector of size 10 and sort it (★★☆)"
   ]
  },
  {
   "cell_type": "code",
   "execution_count": 125,
   "id": "37d2b341",
   "metadata": {},
   "outputs": [
    {
     "data": {
      "text/plain": [
       "array([0, 1, 3, 3, 3, 4, 4, 5, 6, 6])"
      ]
     },
     "execution_count": 125,
     "metadata": {},
     "output_type": "execute_result"
    }
   ],
   "source": [
    "myarray = np.random.randint(0,10,10)\n",
    "myarray.sort()\n",
    "myarray"
   ]
  },
  {
   "cell_type": "markdown",
   "id": "2facfddc",
   "metadata": {},
   "source": [
    "#### 41. How to sum a small array faster than np.sum? (★★☆)"
   ]
  },
  {
   "cell_type": "code",
   "execution_count": 126,
   "id": "4bb8864f",
   "metadata": {},
   "outputs": [
    {
     "name": "stdout",
     "output_type": "stream",
     "text": [
      "[4 1 3 2 8 6 3 5 1 8]\n",
      "41\n"
     ]
    }
   ],
   "source": [
    "myarray = np.random.randint(0,10,10)\n",
    "print(myarray)\n",
    "print(np.add.reduce(myarray))"
   ]
  },
  {
   "cell_type": "markdown",
   "id": "539cd2a5",
   "metadata": {},
   "source": [
    "#### 42. Consider two random array A and B, check if they are equal (★★☆)"
   ]
  },
  {
   "cell_type": "code",
   "execution_count": 127,
   "id": "5246d7bf",
   "metadata": {},
   "outputs": [
    {
     "name": "stdout",
     "output_type": "stream",
     "text": [
      "[0 2 2 9 2 6 1 3 0 0]\n",
      "[2 0 4 4 3 3 9 4 3 0]\n",
      "False\n"
     ]
    }
   ],
   "source": [
    "myarrayA = np.random.randint(0,10,10)\n",
    "myarrayB = np.random.randint(0,10,10)\n",
    "result = np.allclose(myarrayA, myarrayB)\n",
    "print(myarrayA)\n",
    "print(myarrayB)\n",
    "print(result)"
   ]
  },
  {
   "cell_type": "markdown",
   "id": "448f8274",
   "metadata": {},
   "source": [
    "#### 43. Make an array immutable (read-only) (★★☆)"
   ]
  },
  {
   "cell_type": "code",
   "execution_count": 128,
   "id": "7cf2b3dd",
   "metadata": {},
   "outputs": [
    {
     "name": "stdout",
     "output_type": "stream",
     "text": [
      "  C_CONTIGUOUS : True\n",
      "  F_CONTIGUOUS : True\n",
      "  OWNDATA : True\n",
      "  WRITEABLE : False\n",
      "  ALIGNED : True\n",
      "  WRITEBACKIFCOPY : False\n",
      "\n"
     ]
    }
   ],
   "source": [
    "myarray = np.zeros(10)\n",
    "myarray.flags.writeable = False\n",
    "'myarray[1] = 100'\n",
    "print(myarray.flags)"
   ]
  },
  {
   "cell_type": "markdown",
   "id": "d7b7aaf3",
   "metadata": {},
   "source": [
    "#### 44. Consider a random 10x2 matrix representing cartesian coordinates, convert them to polar coordinates (★★☆)"
   ]
  },
  {
   "cell_type": "code",
   "execution_count": 129,
   "id": "e2337585",
   "metadata": {},
   "outputs": [
    {
     "name": "stdout",
     "output_type": "stream",
     "text": [
      "[[0.69848855 0.16352381]\n",
      " [0.59411219 0.49155071]\n",
      " [0.07165646 0.47983773]\n",
      " [0.23958641 0.18734252]\n",
      " [0.50414159 0.63795937]\n",
      " [0.43678269 0.54234891]\n",
      " [0.89614293 0.60612867]\n",
      " [0.88964901 0.66522868]\n",
      " [0.59815252 0.30957847]\n",
      " [0.98978259 0.89994751]]\n",
      "[0.71737458 0.77109752 0.48515862 0.30413626 0.81311186 0.69636302\n",
      " 1.0818799  1.11085758 0.67351708 1.33775001]\n",
      "[0.22996926 0.6912087  1.42255702 0.66363216 0.90203444 0.89279945\n",
      " 0.59469367 0.64205496 0.47759495 0.73789535]\n"
     ]
    }
   ],
   "source": [
    "myarray = np.random.random((10,2))\n",
    "x = myarray[:,0]\n",
    "y = myarray[:,1]\n",
    "r = np.sqrt(x**2+y**2)\n",
    "t = np.arctan2(y,x)\n",
    "print(myarray)\n",
    "print(r)\n",
    "print(t)"
   ]
  },
  {
   "cell_type": "markdown",
   "id": "a556027a",
   "metadata": {},
   "source": [
    "#### 45. Create random vector of size 10 and replace the maximum value by 0 (★★☆)"
   ]
  },
  {
   "cell_type": "code",
   "execution_count": 130,
   "id": "9e07cb87",
   "metadata": {},
   "outputs": [
    {
     "name": "stdout",
     "output_type": "stream",
     "text": [
      "[0.05330473 0.05077788 0.2520305  0.29080201 0.35906134 0.08312605\n",
      " 0.13118733 0.51373585 0.42843051 0.4398534 ]\n",
      "7\n",
      "[0.05330473 0.05077788 0.2520305  0.29080201 0.35906134 0.08312605\n",
      " 0.13118733 0.         0.42843051 0.4398534 ]\n"
     ]
    }
   ],
   "source": [
    "myarray = np.random.random((10))\n",
    "print(myarray)\n",
    "max = myarray.argmax()\n",
    "myarray[max] = 0\n",
    "print(max)\n",
    "print(myarray)"
   ]
  },
  {
   "cell_type": "markdown",
   "id": "004f3da1",
   "metadata": {},
   "source": [
    "#### 46. Create a structured array with `x` and `y` coordinates covering the [0,1]x[0,1] area (★★☆)"
   ]
  },
  {
   "cell_type": "code",
   "execution_count": 131,
   "id": "b3824741",
   "metadata": {},
   "outputs": [
    {
     "name": "stdout",
     "output_type": "stream",
     "text": [
      "[[(0.  , 0.  ) (0.25, 0.  ) (0.5 , 0.  ) (0.75, 0.  ) (1.  , 0.  )]\n",
      " [(0.  , 0.25) (0.25, 0.25) (0.5 , 0.25) (0.75, 0.25) (1.  , 0.25)]\n",
      " [(0.  , 0.5 ) (0.25, 0.5 ) (0.5 , 0.5 ) (0.75, 0.5 ) (1.  , 0.5 )]\n",
      " [(0.  , 0.75) (0.25, 0.75) (0.5 , 0.75) (0.75, 0.75) (1.  , 0.75)]\n",
      " [(0.  , 1.  ) (0.25, 1.  ) (0.5 , 1.  ) (0.75, 1.  ) (1.  , 1.  )]]\n"
     ]
    }
   ],
   "source": [
    "myarray = np.zeros((5,5), [('x',float),('y',float)])\n",
    "myarray['x'], myarray['y'] = np.meshgrid(np.linspace(0,1,5), np.linspace(0,1,5))\n",
    "print(myarray)"
   ]
  },
  {
   "cell_type": "markdown",
   "id": "1c0adc0d",
   "metadata": {},
   "source": [
    "#### 47. Given two arrays, X and Y, construct the Cauchy matrix C (Cij =1/(xi - yj)) (★★☆)"
   ]
  },
  {
   "cell_type": "code",
   "execution_count": 132,
   "id": "01b3bbb7",
   "metadata": {},
   "outputs": [
    {
     "name": "stdout",
     "output_type": "stream",
     "text": [
      "[[-2.         -0.66666667 -0.4        -0.28571429 -0.22222222 -0.18181818\n",
      "  -0.15384615 -0.13333333]\n",
      " [ 2.         -2.         -0.66666667 -0.4        -0.28571429 -0.22222222\n",
      "  -0.18181818 -0.15384615]\n",
      " [ 0.66666667  2.         -2.         -0.66666667 -0.4        -0.28571429\n",
      "  -0.22222222 -0.18181818]\n",
      " [ 0.4         0.66666667  2.         -2.         -0.66666667 -0.4\n",
      "  -0.28571429 -0.22222222]\n",
      " [ 0.28571429  0.4         0.66666667  2.         -2.         -0.66666667\n",
      "  -0.4        -0.28571429]\n",
      " [ 0.22222222  0.28571429  0.4         0.66666667  2.         -2.\n",
      "  -0.66666667 -0.4       ]\n",
      " [ 0.18181818  0.22222222  0.28571429  0.4         0.66666667  2.\n",
      "  -2.         -0.66666667]\n",
      " [ 0.15384615  0.18181818  0.22222222  0.28571429  0.4         0.66666667\n",
      "   2.         -2.        ]]\n",
      "3638.163637117973\n"
     ]
    }
   ],
   "source": [
    "x = np.arange(8)\n",
    "y = x + 0.5\n",
    "c = 1.0 / np.subtract.outer(x, y)\n",
    "print(c)\n",
    "c = np.linalg.det(c)\n",
    "print(c)"
   ]
  },
  {
   "cell_type": "markdown",
   "id": "c8a2f65a",
   "metadata": {},
   "source": [
    "#### 48. Print the minimum and maximum representable value for each numpy scalar type (★★☆)"
   ]
  },
  {
   "cell_type": "code",
   "execution_count": 133,
   "id": "35d844d6",
   "metadata": {},
   "outputs": [
    {
     "name": "stdout",
     "output_type": "stream",
     "text": [
      "-128\n",
      "127\n",
      "-32768\n",
      "32767\n",
      "-2147483648\n",
      "2147483647\n",
      "-3.4028235e+38\n",
      "3.4028235e+38\n",
      "1.1920929e-07\n",
      "-1.7976931348623157e+308\n",
      "1.7976931348623157e+308\n",
      "2.220446049250313e-16\n"
     ]
    }
   ],
   "source": [
    "print(np.iinfo(np.int8).min)\n",
    "print(np.iinfo(np.int8).max)\n",
    "print(np.iinfo(np.int16).min)\n",
    "print(np.iinfo(np.int16).max)\n",
    "print(np.iinfo(np.int32).min)\n",
    "print(np.iinfo(np.int32).max)\n",
    "print(np.finfo(np.float32).min)\n",
    "print(np.finfo(np.float32).max)\n",
    "print(np.finfo(np.float32).eps)\n",
    "print(np.finfo(np.float64).min)\n",
    "print(np.finfo(np.float64).max)\n",
    "print(np.finfo(np.float64).eps)"
   ]
  },
  {
   "cell_type": "markdown",
   "id": "11727a69",
   "metadata": {},
   "source": [
    "#### 49. How to print all the values of an array? (★★☆)"
   ]
  },
  {
   "cell_type": "code",
   "execution_count": 134,
   "id": "47e98473",
   "metadata": {},
   "outputs": [
    {
     "name": "stdout",
     "output_type": "stream",
     "text": [
      "[[3.47534320e-01 8.25755014e-01 3.24646757e-01 7.20497513e-01\n",
      "  4.23310154e-01 6.78450697e-01 5.53850512e-01 3.19003782e-01\n",
      "  6.46786377e-01 7.78761203e-01 5.03513643e-01 2.06449365e-01\n",
      "  4.05618117e-01 2.31443635e-01 1.79795381e-01 3.49989813e-01\n",
      "  6.74146915e-01 1.00263291e-02 8.51327268e-01 8.02244728e-01\n",
      "  9.54587396e-01 1.59963949e-01 6.25037466e-01 1.15807597e-01\n",
      "  1.27232900e-01 5.04322425e-01 3.23614775e-01 7.80644400e-01\n",
      "  3.88096872e-01 9.95790476e-01 8.28990024e-01 8.80139817e-03\n",
      "  1.32046929e-01 6.10761675e-01 2.82145507e-01 7.35252433e-01\n",
      "  9.41159010e-01 2.60638217e-01 6.68040707e-01 5.51821996e-01\n",
      "  1.39317386e-01 7.42952452e-01 4.49382531e-01 4.25114050e-01\n",
      "  3.26087726e-01 8.57006527e-01 8.61672525e-01 8.94482239e-01\n",
      "  1.49367701e-01 3.53153338e-01]\n",
      " [1.44895388e-01 4.08437764e-01 4.66400827e-01 3.93337389e-01\n",
      "  6.59904388e-01 9.25108124e-01 9.69806063e-01 8.55836470e-02\n",
      "  2.56180347e-01 7.01056452e-01 8.44984799e-01 4.92403496e-01\n",
      "  2.43454984e-01 3.63831652e-01 8.39745934e-01 1.46976761e-01\n",
      "  4.94249167e-01 9.31057286e-01 3.11450604e-01 7.25552799e-01\n",
      "  5.51402309e-01 4.49912278e-01 4.95709838e-01 7.99532822e-01\n",
      "  7.14570594e-01 2.80380313e-01 8.52810079e-01 6.66159146e-01\n",
      "  5.63700061e-01 2.83233037e-02 5.28634919e-01 5.74467677e-01\n",
      "  1.68389287e-01 2.68153163e-01 3.38894188e-01 7.09886496e-01\n",
      "  2.81615562e-01 4.66796083e-01 2.56266488e-01 7.89288629e-01\n",
      "  8.13380603e-01 2.17686026e-01 4.71598596e-01 5.51273235e-01\n",
      "  7.62139751e-01 2.94461837e-01 3.88403145e-01 8.59000452e-01\n",
      "  1.72010455e-01 8.00079114e-01]\n",
      " [2.14220695e-01 1.67631471e-01 7.32582544e-01 1.73899228e-01\n",
      "  8.05882707e-01 7.92684357e-01 3.50522334e-01 1.72650349e-01\n",
      "  7.91116502e-01 8.05276082e-01 9.57575440e-01 8.81888532e-01\n",
      "  2.85706798e-01 3.08860596e-01 7.43861678e-01 7.53487529e-01\n",
      "  6.05023479e-01 4.78012219e-01 9.58825015e-01 4.84397139e-01\n",
      "  5.16225038e-01 2.48156200e-01 4.10693102e-01 8.77049632e-01\n",
      "  3.99552619e-01 6.26329939e-02 1.41151296e-01 6.97021602e-01\n",
      "  8.85296308e-01 5.79532219e-01 1.77948898e-01 9.89607899e-01\n",
      "  3.68885083e-01 7.53351934e-01 1.98265256e-01 9.02446136e-01\n",
      "  9.08084407e-01 5.49987376e-01 1.66549164e-02 4.25154031e-01\n",
      "  3.21378552e-01 6.82593124e-01 1.43050234e-01 4.71876093e-01\n",
      "  9.74629857e-01 9.49954470e-01 7.79023886e-01 2.71240793e-01\n",
      "  2.88942401e-01 8.74175779e-02]\n",
      " [1.78288840e-01 6.13866801e-01 3.36722537e-01 5.19745183e-01\n",
      "  8.84968884e-01 9.63522007e-01 8.41411269e-01 6.99118430e-01\n",
      "  5.87380732e-01 1.82804412e-01 8.48887813e-01 2.90466284e-01\n",
      "  1.82044454e-01 6.84964498e-01 3.34097926e-01 7.87308369e-01\n",
      "  3.09443751e-01 6.72374304e-01 1.96269178e-02 9.60056628e-01\n",
      "  4.97834804e-01 3.09785986e-01 8.77935210e-01 4.46055538e-01\n",
      "  8.02810244e-01 6.04023962e-01 2.43487110e-01 9.12751515e-02\n",
      "  8.70664129e-01 9.66567919e-02 6.09404941e-01 3.48879394e-03\n",
      "  4.93053699e-01 9.21190646e-01 4.34449067e-01 8.98563367e-01\n",
      "  7.41471283e-01 4.77432470e-01 5.85435744e-01 5.87907547e-01\n",
      "  4.61902729e-01 4.27622826e-01 1.11559029e-01 5.76867887e-01\n",
      "  2.50550448e-01 8.74941907e-01 8.47901234e-01 7.71643805e-01\n",
      "  4.93133518e-01 6.30057006e-01]\n",
      " [4.12317074e-02 8.22399478e-01 1.79109644e-01 8.81526776e-01\n",
      "  1.20443165e-01 8.46436576e-01 5.66894556e-02 3.58230620e-01\n",
      "  7.20410949e-01 9.06384920e-01 6.53899819e-01 9.35644317e-01\n",
      "  8.11450319e-03 3.93508588e-01 9.18304357e-02 1.07795600e-01\n",
      "  8.91386731e-01 5.87730691e-02 2.07237765e-01 9.35493824e-01\n",
      "  4.44062361e-01 2.08428143e-01 1.04207152e-01 1.16083210e-01\n",
      "  4.60437483e-01 6.13133884e-01 2.87288398e-02 7.78195029e-01\n",
      "  8.44381482e-02 7.02009755e-01 1.19337502e-01 9.59856902e-02\n",
      "  3.25489265e-01 1.12118665e-01 2.86972284e-01 2.76815629e-01\n",
      "  1.36278993e-01 5.57285357e-01 8.25486630e-01 4.97613056e-01\n",
      "  8.03688717e-01 2.46766158e-01 3.15768602e-02 8.17842181e-01\n",
      "  5.56756266e-02 7.21088072e-01 6.35579400e-01 2.33686984e-01\n",
      "  3.88312782e-01 7.21212924e-01]\n",
      " [8.28773015e-01 7.54330327e-01 7.37491758e-01 5.84040346e-01\n",
      "  9.34100466e-01 6.73884496e-01 7.92332633e-01 6.32730281e-01\n",
      "  7.42078956e-01 6.28897221e-01 1.46296442e-01 7.59248405e-02\n",
      "  3.95118880e-01 6.94680068e-01 1.92975882e-01 2.55162383e-01\n",
      "  2.99017145e-01 9.43311972e-01 8.42236991e-01 9.79159001e-03\n",
      "  4.08646894e-01 5.07937235e-01 1.99595876e-01 5.31979023e-01\n",
      "  9.94962903e-01 7.49024578e-01 8.56595979e-01 4.88850126e-01\n",
      "  9.07305997e-01 7.19958044e-01 1.29460843e-01 9.55923272e-01\n",
      "  9.45844237e-01 5.39208714e-01 9.83837077e-01 4.78207112e-01\n",
      "  6.19538228e-01 8.02382109e-01 8.06379442e-02 8.63172105e-01\n",
      "  8.87855304e-01 5.41620919e-01 9.47153683e-01 2.85122826e-01\n",
      "  8.81478029e-01 4.69544293e-01 6.61960132e-01 2.40039620e-01\n",
      "  4.97105823e-01 3.16844209e-01]\n",
      " [8.45022918e-01 9.30493889e-01 5.06385133e-01 1.27780906e-01\n",
      "  5.10549109e-01 1.68178395e-01 7.67510787e-01 7.95708338e-01\n",
      "  3.31343735e-02 9.72045592e-02 7.78266474e-01 6.72905808e-01\n",
      "  7.85856471e-01 3.64878579e-01 2.86713290e-01 4.06773352e-01\n",
      "  6.15531079e-01 3.48398685e-01 8.55068163e-01 3.05930751e-01\n",
      "  8.01206027e-01 8.43143553e-01 4.73768682e-02 5.62462271e-01\n",
      "  4.51720476e-01 7.89228075e-01 5.24452023e-01 7.06149286e-01\n",
      "  7.96022134e-01 6.33521561e-02 2.35018308e-01 6.87884145e-01\n",
      "  7.68156351e-02 5.40832863e-01 2.03977585e-01 1.20735268e-01\n",
      "  4.69466206e-02 2.90788091e-01 1.39395192e-01 4.22143622e-01\n",
      "  1.88739660e-01 6.90917128e-01 3.15532895e-01 6.55724311e-01\n",
      "  4.65593672e-01 7.26414375e-01 4.81351495e-01 1.92474706e-01\n",
      "  1.40536230e-01 3.99026798e-01]\n",
      " [6.79625142e-01 6.90525462e-01 3.10363223e-01 1.67608383e-02\n",
      "  9.02787303e-02 9.72352238e-01 3.07018452e-02 5.12777444e-01\n",
      "  9.32352484e-01 4.19627824e-01 5.41982619e-01 6.42574050e-01\n",
      "  4.44477424e-01 5.46671662e-02 7.49297974e-01 3.62403421e-02\n",
      "  2.74943973e-01 4.11450483e-01 8.89399692e-01 6.47908630e-01\n",
      "  3.48695705e-01 2.68824627e-01 5.50317486e-01 6.93532118e-02\n",
      "  5.62924268e-01 7.05222564e-01 1.36465838e-01 7.07963009e-01\n",
      "  7.86630529e-01 4.15437826e-01 4.91783712e-02 8.01678125e-01\n",
      "  9.32221837e-01 5.51898183e-01 1.76696711e-01 7.46304490e-01\n",
      "  5.18937492e-01 2.21496490e-01 2.89331717e-01 9.50459020e-01\n",
      "  6.88126637e-02 1.94447932e-02 2.06593802e-01 4.78652323e-01\n",
      "  5.96749881e-01 3.36975125e-01 4.63961435e-01 5.33746947e-01\n",
      "  8.19692773e-01 3.28889497e-01]\n",
      " [7.81068298e-01 6.03333590e-01 6.77079229e-01 6.14049598e-01\n",
      "  5.38970961e-01 8.30289113e-01 2.52588032e-01 9.90629734e-01\n",
      "  7.16639873e-01 3.32829938e-01 8.28030256e-01 6.82538539e-01\n",
      "  9.68517840e-01 4.21069279e-03 4.65521352e-01 8.02947853e-02\n",
      "  6.11776157e-01 2.69087924e-01 3.58128853e-01 1.79445630e-01\n",
      "  9.82234843e-01 7.83450111e-01 7.69852946e-01 3.09664613e-01\n",
      "  5.59577504e-01 5.88560486e-01 5.65684306e-02 1.18825521e-01\n",
      "  9.82949927e-01 6.42539539e-01 9.25328973e-01 2.28865891e-02\n",
      "  2.44193355e-01 5.65826720e-01 4.25248510e-01 7.90249764e-01\n",
      "  7.98167824e-01 8.25684543e-01 9.48267495e-01 8.06789591e-01\n",
      "  3.50674487e-01 9.72764114e-02 9.44816648e-01 9.54445751e-01\n",
      "  1.29883166e-01 3.02229602e-01 1.22822251e-01 5.95948479e-01\n",
      "  9.55961729e-02 6.38664747e-01]\n",
      " [1.14193868e-01 8.89277518e-01 7.32226730e-01 3.58422578e-01\n",
      "  5.28191765e-01 5.50178263e-01 1.47229166e-01 1.66784514e-01\n",
      "  4.54251771e-01 8.99890653e-01 7.87699194e-01 2.06143373e-01\n",
      "  9.79011647e-02 5.01286857e-01 7.93096237e-01 2.96786104e-01\n",
      "  9.72033855e-01 6.53760225e-01 3.08393876e-01 5.91643022e-02\n",
      "  6.89767444e-01 8.31032076e-01 7.88359129e-01 9.09704305e-01\n",
      "  4.81163533e-01 6.40099643e-01 3.08597330e-01 4.89950456e-01\n",
      "  5.54211577e-02 8.98503962e-01 1.34156430e-02 9.33084335e-01\n",
      "  9.16377664e-01 5.59453824e-01 9.06657724e-01 2.10955351e-02\n",
      "  1.09445340e-01 9.05396360e-01 5.15837266e-01 9.68632266e-01\n",
      "  5.72754915e-01 8.71224022e-01 6.35091129e-01 1.72196210e-01\n",
      "  3.98594664e-01 7.45095220e-01 4.54146922e-01 5.37686797e-02\n",
      "  8.74209338e-01 8.15008279e-01]\n",
      " [6.31175447e-01 5.70575738e-01 4.61738023e-01 9.94376991e-01\n",
      "  7.52682382e-01 7.33381862e-01 1.55771186e-01 5.45969434e-01\n",
      "  8.08581158e-02 7.11401558e-02 6.47546806e-02 8.96740530e-01\n",
      "  1.58878323e-01 7.08299009e-01 5.47136426e-01 7.62838083e-01\n",
      "  7.39796999e-01 4.22703159e-01 6.26605420e-01 8.31865400e-01\n",
      "  2.41435776e-01 2.39837527e-02 4.86494055e-01 4.41637106e-01\n",
      "  8.15223014e-01 9.25340234e-01 1.59140745e-01 3.30714801e-01\n",
      "  8.18632696e-01 6.59023434e-02 9.34339410e-01 6.54923475e-01\n",
      "  5.92363377e-01 5.61669498e-01 1.51401777e-01 5.59575253e-01\n",
      "  4.64982268e-01 5.00816166e-01 9.16740812e-01 6.36264456e-01\n",
      "  8.65568370e-01 9.88565911e-01 7.69439966e-01 3.50646555e-01\n",
      "  3.81082417e-01 1.41320583e-01 4.92371423e-01 4.48969424e-01\n",
      "  3.23889093e-01 6.78225358e-01]\n",
      " [4.07904465e-01 1.05812631e-02 8.55527740e-01 6.96158945e-01\n",
      "  4.39945195e-01 2.25012353e-01 5.69497126e-01 4.94919168e-02\n",
      "  9.35820178e-01 3.48103828e-01 9.03245045e-01 1.58145549e-01\n",
      "  8.32487804e-01 9.77547657e-01 1.85114984e-01 1.77127448e-01\n",
      "  1.05783133e-01 5.93706056e-01 9.74281295e-01 9.61830735e-01\n",
      "  5.52683690e-01 8.76406993e-01 6.36836483e-01 8.78261267e-01\n",
      "  5.78362602e-02 7.15184744e-01 6.51088561e-01 4.91990325e-01\n",
      "  9.71937954e-01 3.48127848e-01 1.43625926e-01 1.72029967e-02\n",
      "  2.64689348e-01 2.60447395e-01 9.02659866e-01 2.72882185e-01\n",
      "  1.75343920e-01 7.79239671e-01 1.70383805e-01 3.97004770e-01\n",
      "  1.27207577e-01 3.94037974e-01 1.72173090e-01 5.91095143e-01\n",
      "  8.02788639e-01 9.46842829e-01 1.70714251e-01 8.50165290e-01\n",
      "  1.72168985e-01 1.48106631e-01]\n",
      " [2.93648798e-01 8.29430933e-01 2.54197843e-01 3.37338109e-01\n",
      "  1.59225245e-01 6.18480110e-01 1.14608442e-01 6.13435640e-01\n",
      "  7.00055227e-01 7.60077275e-03 3.23003902e-01 6.95270631e-01\n",
      "  2.46853261e-01 8.34759637e-01 8.60137310e-01 3.06127854e-01\n",
      "  7.74244039e-01 5.44491511e-01 8.09587258e-01 6.87144136e-01\n",
      "  4.53104595e-01 6.35432119e-01 1.78307390e-01 6.24302480e-01\n",
      "  9.16626999e-02 8.65919772e-01 2.45887752e-01 9.77028228e-01\n",
      "  6.37069545e-01 2.48846991e-01 4.13424769e-01 2.23210129e-02\n",
      "  5.57089502e-01 4.26571546e-01 6.74454030e-01 1.67327693e-01\n",
      "  7.78408331e-01 5.08359263e-01 3.40458094e-01 4.49146487e-02\n",
      "  7.21333435e-01 2.50489902e-01 5.24535075e-01 2.58579911e-01\n",
      "  3.23569783e-01 5.03013342e-01 9.19352113e-01 8.59987419e-01\n",
      "  5.40515797e-01 4.38738430e-01]\n",
      " [7.72915419e-01 7.43086928e-01 5.80867056e-01 2.95840766e-01\n",
      "  6.38955969e-01 6.52021497e-01 4.99155694e-01 4.63840863e-01\n",
      "  9.95067450e-01 1.67737262e-01 4.05104887e-01 1.94228257e-01\n",
      "  6.11902102e-01 4.98078472e-01 1.19842483e-01 5.60680678e-01\n",
      "  4.84182411e-01 3.09575212e-01 1.10998844e-01 9.18963926e-01\n",
      "  9.57666797e-01 9.78275875e-02 8.63614455e-01 6.28872234e-01\n",
      "  7.56695937e-01 2.18147415e-02 1.61938182e-01 5.66637597e-02\n",
      "  5.43966197e-01 8.20223776e-01 8.42693718e-01 8.10681484e-01\n",
      "  8.69861538e-01 2.01647823e-01 9.41190269e-01 9.92365487e-01\n",
      "  1.26812522e-01 7.20319661e-01 3.35851492e-01 8.77283472e-01\n",
      "  1.77524580e-01 4.52083390e-01 8.64854983e-01 2.78879570e-01\n",
      "  2.76953510e-01 9.57826827e-01 5.58647912e-01 6.99269846e-01\n",
      "  5.40699091e-01 8.76095531e-01]\n",
      " [1.11137527e-01 5.17404119e-01 2.97968593e-01 8.21776871e-01\n",
      "  6.58443645e-01 1.86621092e-01 2.48857147e-01 5.39377337e-01\n",
      "  4.53974578e-01 5.21233960e-01 6.38921903e-01 7.50694848e-01\n",
      "  6.57657658e-01 8.53245559e-01 4.36617905e-01 1.21813547e-01\n",
      "  6.45852571e-01 3.42428160e-01 6.08512772e-01 5.85080260e-02\n",
      "  1.88530916e-01 1.30827423e-01 8.26258181e-01 9.08231275e-01\n",
      "  9.23221881e-01 3.78523920e-01 8.90100255e-01 3.85204746e-01\n",
      "  7.25670997e-01 6.16037065e-02 7.11940979e-01 9.94612681e-01\n",
      "  8.41550175e-01 8.65422434e-01 1.68770152e-01 1.89912502e-01\n",
      "  9.61220145e-01 2.27785949e-01 7.01049775e-01 4.61854322e-01\n",
      "  9.06503675e-01 3.92839460e-01 2.76263494e-01 3.70817629e-01\n",
      "  9.55000396e-01 9.66609329e-01 7.88412512e-01 9.87248898e-01\n",
      "  9.74888382e-01 2.76437405e-01]\n",
      " [4.69451866e-01 6.93390483e-01 8.99396792e-01 9.50097893e-01\n",
      "  2.04357671e-01 6.31339502e-01 5.46625362e-01 3.04223595e-01\n",
      "  5.77393302e-02 6.39983428e-01 5.23387775e-01 2.03221436e-01\n",
      "  4.83269893e-01 1.53182310e-02 8.93103959e-01 9.04803269e-01\n",
      "  1.18880286e-01 3.05721749e-01 1.45940762e-01 6.32656949e-01\n",
      "  2.37036358e-01 2.34726341e-01 7.24533869e-01 3.15148096e-01\n",
      "  2.76976375e-01 4.53349049e-01 3.61647434e-02 1.61426390e-01\n",
      "  7.33700520e-01 9.62502553e-03 8.56336937e-01 9.03563474e-01\n",
      "  8.86224109e-01 6.38426801e-01 3.34350071e-01 9.82542612e-01\n",
      "  7.48539295e-01 5.15488748e-01 5.26052388e-01 6.02201292e-01\n",
      "  4.02505769e-01 4.34576557e-01 6.76395743e-01 8.73031966e-02\n",
      "  4.57766635e-01 2.09161085e-01 7.92322218e-01 2.40934856e-02\n",
      "  8.91439763e-01 8.89960646e-01]\n",
      " [2.10860369e-01 7.82368350e-01 6.28834601e-01 4.93074910e-01\n",
      "  3.28154783e-01 8.20798822e-01 8.10789045e-01 7.62115660e-01\n",
      "  3.59445999e-01 1.17853753e-01 8.17741527e-01 6.84217695e-01\n",
      "  1.65258126e-01 5.38402434e-01 1.28606789e-01 9.55157979e-01\n",
      "  4.75462645e-01 7.73803745e-01 1.22734550e-03 9.46361967e-02\n",
      "  8.11550561e-01 7.53436336e-01 1.59412021e-01 8.72460820e-01\n",
      "  2.21739797e-01 9.87968065e-01 4.66784097e-01 9.90333344e-01\n",
      "  5.07638187e-01 8.76314945e-01 1.83462452e-02 4.97811215e-01\n",
      "  6.98609034e-01 9.87445239e-01 7.38110408e-01 5.23364508e-01\n",
      "  9.74042395e-01 9.43340946e-01 2.86788481e-01 5.24220536e-01\n",
      "  8.74113449e-01 8.65464006e-01 9.60791217e-01 7.08653187e-01\n",
      "  5.80611537e-01 6.76838508e-01 8.44023828e-02 4.16281448e-01\n",
      "  4.11588097e-01 5.38402912e-02]\n",
      " [7.53627327e-01 3.11706691e-01 3.19461214e-01 9.59517355e-01\n",
      "  1.79075149e-01 3.25458644e-01 8.67526840e-01 8.39528120e-01\n",
      "  1.82805707e-01 7.99327808e-01 2.07673275e-01 9.03314410e-01\n",
      "  2.15089181e-01 4.68357426e-01 1.94655207e-02 6.59350298e-02\n",
      "  6.36736562e-01 2.55722836e-01 8.59962059e-01 4.72874506e-01\n",
      "  2.43548703e-01 5.18605884e-01 8.28433222e-01 1.58020332e-01\n",
      "  4.13589474e-01 9.80547732e-01 5.58337927e-01 8.03666953e-01\n",
      "  9.91744165e-02 3.32119789e-02 6.23720996e-01 1.42181422e-01\n",
      "  8.88461559e-01 3.30371665e-02 6.56861749e-01 3.31457597e-01\n",
      "  1.89756601e-01 1.75283304e-01 4.14206383e-01 7.29108088e-01\n",
      "  8.32119922e-01 6.95720363e-01 1.44498206e-01 9.84925061e-01\n",
      "  5.59096919e-01 6.08702096e-01 4.31167023e-01 3.20716189e-01\n",
      "  1.39806801e-01 2.63828983e-01]\n",
      " [4.38067667e-01 7.72564288e-01 9.97005566e-01 9.52402704e-01\n",
      "  6.44064115e-01 7.30394916e-01 7.54276938e-01 2.49769090e-01\n",
      "  6.17496255e-01 5.16909465e-01 5.82514598e-01 1.27868843e-01\n",
      "  6.24623386e-01 3.89873938e-01 6.10011666e-01 2.66027279e-02\n",
      "  5.71632459e-01 6.46252568e-01 5.78954367e-02 9.70012006e-01\n",
      "  4.92351397e-01 5.58677686e-01 6.67694537e-01 4.47054354e-01\n",
      "  6.69493017e-01 5.37435326e-02 2.19911840e-01 5.84120840e-01\n",
      "  1.00544233e-01 4.22025490e-01 7.23224784e-01 1.71930654e-01\n",
      "  3.38656389e-01 2.77359016e-01 5.12840410e-02 8.09702682e-01\n",
      "  7.00899997e-01 3.06389879e-01 4.79014617e-01 9.56719930e-01\n",
      "  2.40781198e-01 3.18990551e-02 8.82604570e-01 7.63132963e-01\n",
      "  1.48457182e-01 1.25254264e-01 7.96980920e-02 1.12341341e-01\n",
      "  4.13791814e-01 8.33601433e-01]\n",
      " [1.49606877e-01 1.26498291e-01 8.72496270e-01 8.08911339e-01\n",
      "  8.91260597e-01 4.51018864e-01 8.20719239e-01 8.63420615e-01\n",
      "  2.09682330e-01 5.25291626e-02 2.57227774e-01 5.62144181e-01\n",
      "  3.82522039e-01 4.19688722e-01 6.18327964e-01 2.86140059e-01\n",
      "  3.01558187e-01 1.56844531e-01 6.14219913e-01 9.60735987e-02\n",
      "  7.38743459e-01 1.54945459e-01 4.14904304e-01 7.46290050e-01\n",
      "  2.66528816e-01 1.21435074e-01 9.96573500e-01 1.88953571e-01\n",
      "  6.64754780e-01 5.46524769e-01 8.38795438e-02 2.73577313e-01\n",
      "  6.12785757e-01 2.59239957e-01 7.13597973e-01 2.85023848e-01\n",
      "  2.81954295e-01 2.33267892e-01 6.01968773e-01 5.62486547e-01\n",
      "  4.15434938e-03 5.13069322e-01 6.80735499e-01 9.31810082e-01\n",
      "  4.25922316e-01 1.67486818e-01 8.80162599e-01 2.93000127e-01\n",
      "  6.27307179e-01 4.09370165e-01]\n",
      " [5.78542085e-02 9.07225481e-01 6.74401229e-01 5.93960655e-01\n",
      "  7.15452696e-01 7.65568639e-01 7.12199588e-01 3.58112075e-01\n",
      "  8.61978137e-01 5.86285296e-01 3.09779085e-01 8.35363510e-01\n",
      "  4.92520956e-01 4.45268327e-01 3.66778104e-01 3.07252948e-01\n",
      "  5.24626509e-01 8.07454409e-01 4.40916524e-01 2.33813926e-01\n",
      "  3.34205415e-02 5.93231467e-01 9.24074925e-01 3.57312766e-01\n",
      "  6.08784981e-01 8.14077656e-01 6.44969323e-01 9.11238586e-02\n",
      "  8.14099005e-02 1.73958546e-01 9.86472367e-01 1.45454574e-02\n",
      "  4.89117509e-02 7.19863806e-01 6.96037016e-01 9.05955610e-01\n",
      "  6.86201941e-01 6.94459713e-01 7.24273327e-01 4.89393112e-01\n",
      "  5.17301479e-01 7.71200184e-01 4.33792314e-01 3.33917242e-01\n",
      "  2.55789382e-01 9.21399218e-02 2.66189888e-01 3.09271317e-01\n",
      "  1.50488506e-01 9.16688324e-01]\n",
      " [1.49497201e-01 2.47335127e-01 7.24485980e-01 4.45460948e-03\n",
      "  5.72519213e-01 5.68104194e-01 6.80823743e-01 3.31552174e-01\n",
      "  3.19381415e-01 3.00458443e-01 8.08791860e-01 2.17614950e-01\n",
      "  6.46942969e-01 9.98469831e-01 4.77240836e-01 8.37466391e-01\n",
      "  3.86818935e-01 6.53372020e-01 8.19785332e-01 9.18467628e-01\n",
      "  2.45905606e-01 8.42233730e-02 9.50407905e-01 1.45471102e-01\n",
      "  9.41173224e-01 3.71235932e-01 4.36145979e-01 6.03908622e-01\n",
      "  7.46287496e-01 8.37402189e-01 5.25820124e-01 8.48175583e-01\n",
      "  6.07887083e-01 1.65431095e-01 7.28712142e-01 7.79619232e-01\n",
      "  1.47294517e-01 9.90126495e-01 5.63442243e-01 5.43708353e-01\n",
      "  5.84855594e-01 2.00611841e-01 5.57543006e-01 1.01924370e-02\n",
      "  4.53986651e-01 7.09832012e-01 6.36245208e-01 3.13744779e-01\n",
      "  8.02774932e-01 3.58968443e-01]\n",
      " [5.94343283e-01 6.10914145e-01 5.68861052e-01 3.78345579e-01\n",
      "  1.79822627e-01 1.78658703e-01 2.16572363e-01 7.88067615e-01\n",
      "  3.20983113e-01 4.97695510e-01 1.81821133e-01 3.07519390e-02\n",
      "  4.84751149e-01 1.03613405e-01 4.37434819e-01 3.36039607e-01\n",
      "  2.82699204e-01 3.11541606e-02 5.52102183e-01 3.71383596e-01\n",
      "  5.54773343e-01 3.16701104e-01 4.89067491e-01 9.22621294e-01\n",
      "  9.06190330e-01 2.85228455e-01 1.96190520e-01 4.48394864e-01\n",
      "  3.85010399e-01 6.93151507e-01 7.72892244e-01 7.23998433e-01\n",
      "  4.25236924e-01 2.12780300e-01 9.15778490e-02 1.50380300e-01\n",
      "  7.59985497e-01 1.15883621e-01 1.27235483e-01 8.60577711e-02\n",
      "  9.34226040e-01 7.80452689e-01 1.76662007e-01 7.51482161e-01\n",
      "  1.47941971e-01 1.49281580e-01 2.89188584e-01 4.33166318e-01\n",
      "  8.16041835e-01 1.08287281e-01]\n",
      " [5.45542907e-01 8.56018186e-01 9.96179589e-01 9.08667731e-01\n",
      "  8.43798952e-01 6.81589452e-01 2.14004321e-02 4.53844276e-01\n",
      "  7.55452414e-02 8.10992192e-02 3.27854591e-01 6.60966880e-01\n",
      "  8.40880796e-01 6.94921922e-02 5.80766138e-01 8.01449904e-01\n",
      "  4.84700073e-01 1.19071117e-01 3.08781329e-02 2.43010338e-01\n",
      "  2.94717845e-01 8.60917181e-02 5.02980170e-01 9.06802623e-01\n",
      "  6.36662284e-01 3.57611425e-01 8.80129461e-01 4.13195527e-01\n",
      "  5.61589431e-02 3.25275282e-01 6.70305678e-01 6.79699838e-01\n",
      "  5.93552590e-01 3.54302983e-01 2.78714302e-02 1.17466086e-01\n",
      "  2.86367453e-02 3.28313026e-01 8.15440693e-01 1.38844369e-01\n",
      "  6.26118021e-01 4.36386501e-01 5.11930769e-01 2.39201983e-01\n",
      "  8.11452681e-02 9.73642470e-01 7.61132340e-01 3.33605875e-01\n",
      "  7.76194153e-01 1.91197325e-01]\n",
      " [9.68423285e-01 5.27983690e-01 3.97113084e-01 6.26710652e-01\n",
      "  7.70013580e-02 7.45307216e-01 3.18153370e-02 8.68605168e-01\n",
      "  5.27865820e-01 9.61689591e-01 3.73752804e-01 4.83446196e-01\n",
      "  2.22405221e-01 7.91627333e-02 3.66280031e-01 1.33250559e-01\n",
      "  6.13513714e-02 3.88140578e-01 2.83660641e-01 3.27822341e-01\n",
      "  7.57675463e-01 8.19358910e-01 5.30358211e-01 6.28256392e-01\n",
      "  3.22676458e-01 7.17173172e-01 2.68811240e-01 3.22780039e-01\n",
      "  9.24206409e-01 3.38798604e-01 6.65718960e-01 7.59674361e-01\n",
      "  3.92496303e-01 3.65937421e-01 4.42935146e-01 6.37388268e-01\n",
      "  3.47207815e-01 8.34757802e-01 2.30549950e-01 6.94569775e-01\n",
      "  6.18726335e-01 4.83019482e-01 2.13032361e-01 7.67410843e-01\n",
      "  3.01389407e-01 4.62636781e-01 2.39630640e-01 4.49583836e-01\n",
      "  1.08044032e-01 3.90583408e-01]\n",
      " [2.78097650e-01 2.21390462e-01 7.13850653e-01 5.15186873e-02\n",
      "  7.46100286e-01 5.63475977e-01 8.65543605e-01 9.95496944e-01\n",
      "  1.50561243e-01 4.35097874e-01 3.04930393e-01 3.01178224e-01\n",
      "  6.46145398e-01 8.46083649e-01 3.07921301e-01 5.29751414e-01\n",
      "  9.64137210e-01 2.75591663e-01 1.63911176e-01 4.58506461e-01\n",
      "  1.01582482e-01 6.31280334e-01 8.06569025e-01 8.66059398e-01\n",
      "  4.29002234e-01 4.37250288e-02 9.04052978e-01 1.24040528e-01\n",
      "  5.31452751e-01 1.24167851e-01 2.00961505e-01 4.40064540e-01\n",
      "  9.05532399e-01 5.37388114e-01 4.31792395e-01 5.85018245e-05\n",
      "  5.48722980e-03 3.91448473e-01 1.43012569e-01 1.05764962e-01\n",
      "  7.58540352e-01 8.66372985e-01 5.73100004e-01 5.48928768e-01\n",
      "  3.04013184e-01 9.81072420e-01 6.12778930e-01 8.86302050e-01\n",
      "  5.44824889e-01 6.28365013e-01]\n",
      " [8.93915051e-01 7.12668244e-01 3.71128319e-01 6.99197620e-01\n",
      "  6.93423443e-01 7.97057446e-01 4.15997044e-01 7.05628022e-01\n",
      "  8.09344005e-01 2.61706145e-01 6.76385060e-02 7.04451299e-01\n",
      "  9.74556976e-01 6.68936257e-01 3.90052345e-01 1.99683444e-01\n",
      "  9.65038872e-01 2.01551496e-01 7.67115567e-01 9.06658825e-01\n",
      "  4.10460075e-01 1.10571751e-02 9.50404002e-01 6.91583531e-01\n",
      "  6.74386371e-01 8.50316355e-01 1.34575168e-02 9.74900543e-01\n",
      "  2.14484061e-01 3.30510478e-01 3.12494512e-02 5.30190018e-02\n",
      "  2.14885141e-01 5.73829476e-01 6.91587691e-01 2.26591725e-01\n",
      "  6.00721269e-01 3.61108412e-01 3.60470292e-01 8.91107759e-01\n",
      "  4.11372333e-01 4.00111693e-01 3.09924555e-01 9.93200343e-01\n",
      "  9.63461507e-01 5.50773097e-01 2.56191311e-01 2.65244339e-01\n",
      "  2.40137718e-01 2.41732341e-01]\n",
      " [9.29775657e-01 6.87613448e-01 6.14262616e-01 1.49466945e-01\n",
      "  4.64540802e-02 8.63968446e-01 5.31951566e-01 2.47956101e-01\n",
      "  2.84257470e-01 5.27798142e-01 7.43556493e-01 8.61674818e-01\n",
      "  8.61212580e-01 8.36381699e-01 7.62851134e-01 3.70259119e-01\n",
      "  8.68955699e-01 6.06904272e-01 9.66560794e-01 2.96866952e-01\n",
      "  4.96231273e-01 6.43245322e-01 6.50684856e-01 9.43360740e-01\n",
      "  9.57676187e-01 2.78610349e-01 8.92039981e-01 3.76964122e-01\n",
      "  9.31904783e-01 1.32640361e-01 8.09548909e-01 4.14647727e-01\n",
      "  4.76706266e-01 3.87574851e-01 6.81866430e-01 8.37635038e-01\n",
      "  9.98525990e-01 6.68558688e-01 7.72726382e-01 7.07688378e-01\n",
      "  8.74866020e-01 3.93408358e-01 1.66794866e-01 4.98523651e-02\n",
      "  4.31235172e-01 3.26532674e-01 2.99225030e-01 5.50737356e-02\n",
      "  7.79262767e-01 3.36157258e-01]\n",
      " [7.79001656e-01 9.44449327e-01 3.64912032e-01 9.44652748e-01\n",
      "  5.91917645e-01 7.52516721e-01 4.18640417e-01 4.01561298e-01\n",
      "  3.92311651e-01 7.44408947e-01 5.89884397e-01 6.15122019e-01\n",
      "  6.74857986e-02 8.22886017e-01 5.35239555e-01 8.76418615e-01\n",
      "  3.36962083e-01 4.27759666e-01 4.92915888e-01 7.28894106e-01\n",
      "  3.01669563e-01 8.05332973e-01 6.80663966e-01 5.36020671e-02\n",
      "  5.96180674e-01 2.17437883e-01 3.31558275e-01 7.44514312e-01\n",
      "  3.63273529e-01 7.62895774e-01 1.69672919e-01 1.82635467e-01\n",
      "  1.58395816e-01 9.73267716e-01 4.70343707e-01 2.97483781e-02\n",
      "  9.71794613e-02 4.50355862e-01 1.08768143e-01 1.70840885e-01\n",
      "  3.20859706e-01 4.73821240e-01 7.68945202e-03 7.35231929e-01\n",
      "  5.61711626e-01 1.37507364e-01 6.09343216e-01 3.86265853e-01\n",
      "  2.68907655e-01 8.09644628e-01]\n",
      " [1.30418122e-01 1.02604341e-01 4.18885127e-01 8.05815002e-01\n",
      "  6.85766956e-01 2.43380444e-01 2.00738395e-02 6.48608651e-01\n",
      "  9.87999785e-01 2.77451010e-01 3.68794798e-02 6.29545709e-01\n",
      "  1.64020883e-01 6.02226471e-01 1.71064171e-01 7.92476150e-01\n",
      "  8.61954216e-01 2.44160085e-01 4.32996963e-01 2.30930793e-01\n",
      "  8.90347678e-01 4.67963447e-01 2.36649220e-01 8.69554678e-01\n",
      "  7.30648758e-01 5.40770118e-01 5.02508692e-02 6.96933367e-01\n",
      "  4.22414757e-01 5.81446543e-01 5.80206581e-01 1.51089797e-01\n",
      "  1.39429161e-01 4.19047909e-01 7.71444151e-01 5.46886502e-01\n",
      "  8.07925070e-01 2.52209163e-01 8.02321419e-02 7.17578965e-01\n",
      "  1.99727498e-01 7.25484464e-01 3.52355784e-01 2.69215071e-01\n",
      "  5.09422311e-01 8.95239881e-01 8.54241094e-01 9.40495371e-01\n",
      "  8.87703118e-01 1.89154883e-01]\n",
      " [5.37484047e-01 9.21214193e-01 1.02500801e-01 4.58368374e-01\n",
      "  5.65544092e-02 1.07756388e-02 4.57983474e-01 1.75266092e-01\n",
      "  3.20480752e-01 3.83372629e-01 8.19959198e-02 3.94080507e-01\n",
      "  5.17068759e-01 9.09942656e-01 1.19592041e-01 6.35236339e-02\n",
      "  8.34309348e-01 7.92423740e-01 3.09793378e-01 4.10517409e-01\n",
      "  5.17991528e-01 7.24127408e-01 5.62954745e-01 8.65838291e-01\n",
      "  9.50409456e-01 3.88017801e-01 8.50088829e-01 5.49225741e-01\n",
      "  1.63314872e-02 3.49168571e-01 5.51672652e-01 8.22780223e-01\n",
      "  8.34815803e-01 1.36843466e-01 2.46725723e-01 2.93280583e-02\n",
      "  7.91873474e-01 8.46807034e-01 1.78406700e-01 8.59369811e-01\n",
      "  6.25394058e-01 7.63955872e-01 6.18090056e-01 5.29139733e-01\n",
      "  9.03132588e-01 5.68721666e-01 3.47876005e-01 8.59080695e-01\n",
      "  8.91862290e-01 2.04949243e-01]\n",
      " [8.98558798e-01 1.40402840e-01 7.88499565e-02 6.79050577e-01\n",
      "  2.90188520e-01 9.46342778e-02 2.74700346e-01 6.83196356e-01\n",
      "  4.48463909e-01 1.72037561e-01 1.82533037e-01 1.25967367e-01\n",
      "  5.76335048e-01 6.36461666e-01 8.75623328e-01 3.88837039e-01\n",
      "  5.78927298e-01 9.66362429e-02 6.31808947e-01 8.35965528e-01\n",
      "  6.51296639e-01 2.26186267e-01 4.84350806e-01 2.44073962e-01\n",
      "  3.03719765e-01 5.89578849e-01 9.94643165e-01 5.64658260e-01\n",
      "  1.97223183e-01 6.80385326e-01 4.77984615e-01 5.66477660e-01\n",
      "  2.28130769e-01 6.87506338e-02 8.26226886e-01 3.04976360e-01\n",
      "  6.67846646e-01 7.70592609e-01 6.07748524e-01 5.20192894e-01\n",
      "  2.68776350e-01 7.20600952e-01 1.98209743e-01 6.28107746e-02\n",
      "  6.24751396e-01 2.13926367e-01 3.60391161e-01 2.03908135e-02\n",
      "  3.46131550e-01 8.35065007e-01]\n",
      " [7.57141408e-01 7.42310103e-01 4.58993281e-02 1.64285308e-01\n",
      "  4.19706348e-01 8.47414370e-01 5.40145398e-01 2.34065263e-02\n",
      "  4.56975503e-01 3.73303087e-02 1.91639233e-01 1.58771570e-01\n",
      "  9.10566937e-01 4.87717891e-01 9.38957997e-01 8.48454802e-01\n",
      "  4.09686800e-01 2.22282930e-01 1.59537755e-01 6.54296804e-01\n",
      "  4.23462712e-01 6.92612087e-01 5.39614433e-02 2.82626065e-01\n",
      "  2.29644179e-01 9.66917543e-01 2.33395634e-01 4.74780469e-01\n",
      "  7.01753636e-01 2.88408891e-01 9.00212269e-01 7.44480511e-01\n",
      "  2.44563192e-01 6.65280769e-01 8.61161781e-01 2.94466409e-01\n",
      "  3.05869905e-01 8.46184661e-03 7.84068501e-01 2.89486827e-01\n",
      "  1.29476149e-01 9.61705172e-02 8.15073053e-01 3.03140873e-02\n",
      "  6.83655895e-01 4.58991523e-01 8.16994217e-02 2.00376585e-01\n",
      "  1.41386869e-01 3.45274387e-01]\n",
      " [7.21092512e-01 4.03501852e-01 4.50189943e-01 8.25548813e-01\n",
      "  5.21033780e-01 3.07463095e-01 2.40916280e-01 2.30947860e-01\n",
      "  3.31638448e-01 8.77135567e-01 2.06013637e-02 9.55260434e-01\n",
      "  9.08586355e-01 1.54070239e-01 8.58224929e-01 2.16189872e-01\n",
      "  1.99280268e-01 6.13672095e-02 7.35040838e-01 1.95266560e-01\n",
      "  3.18500702e-01 2.91944746e-01 7.55914526e-01 6.28907323e-02\n",
      "  1.72978932e-01 7.57910828e-02 9.87170327e-02 1.15545324e-01\n",
      "  4.81591942e-01 6.09472617e-01 4.88874838e-01 3.71321867e-01\n",
      "  7.10208862e-01 9.74400838e-01 8.58032320e-01 1.94835307e-01\n",
      "  5.99779038e-01 3.00513471e-01 7.57109950e-02 7.43367049e-01\n",
      "  1.82910669e-02 2.23668160e-01 7.01466030e-02 2.04155016e-01\n",
      "  1.73076548e-01 8.15188287e-01 5.84362694e-01 4.14131632e-01\n",
      "  4.13076805e-01 8.97253506e-01]\n",
      " [9.90978534e-01 3.94980710e-02 5.89711408e-01 9.95113562e-01\n",
      "  3.78434617e-02 5.99696534e-01 2.61820039e-01 3.97399159e-01\n",
      "  5.98482151e-01 4.08397760e-02 2.28817080e-01 8.67697693e-02\n",
      "  5.02217619e-01 6.28908230e-01 9.60650307e-01 5.77750842e-01\n",
      "  1.66257306e-01 3.84053112e-01 4.54953083e-01 7.34577167e-01\n",
      "  1.99445828e-01 4.95045587e-01 9.10105675e-01 8.16286193e-01\n",
      "  5.52638627e-01 5.83598744e-01 6.84110524e-01 2.51260750e-01\n",
      "  5.46543916e-01 4.29811801e-01 8.39248239e-01 3.20313348e-02\n",
      "  5.89255977e-01 4.02467241e-01 4.49739798e-01 6.00697926e-01\n",
      "  7.41192042e-01 5.26961162e-01 9.47787172e-01 6.65626244e-01\n",
      "  2.63754679e-03 5.65949783e-01 1.25570347e-01 7.28690515e-01\n",
      "  3.32205116e-01 2.72562861e-01 9.89278866e-01 7.13422146e-02\n",
      "  8.13275717e-01 6.85847818e-01]\n",
      " [3.70909024e-01 1.00291642e-01 5.93307542e-01 7.62266810e-01\n",
      "  8.85592893e-01 7.81772025e-01 7.62325949e-01 9.96849370e-01\n",
      "  7.54298353e-01 8.09244156e-01 6.50140898e-01 5.03538385e-01\n",
      "  4.11010730e-01 6.95792856e-01 7.13816526e-01 8.83823560e-02\n",
      "  4.59099984e-01 7.87853233e-01 5.18090863e-01 3.29751514e-01\n",
      "  4.81303926e-01 4.29852981e-01 3.63419235e-02 3.50778031e-01\n",
      "  7.46172892e-01 5.10691781e-02 6.68333890e-01 6.02931534e-01\n",
      "  7.51989788e-01 5.34564309e-01 3.06739380e-01 2.07381083e-01\n",
      "  4.19200936e-01 4.52079851e-01 2.64275964e-01 5.64591930e-01\n",
      "  1.62635007e-01 3.88845666e-01 4.63147313e-01 1.36002577e-01\n",
      "  5.61506805e-01 1.19621379e-01 5.72610902e-02 5.11019756e-01\n",
      "  4.39565687e-01 6.67162771e-01 3.65859312e-01 5.66927876e-01\n",
      "  3.36411508e-01 9.48011083e-01]\n",
      " [1.69969992e-01 9.63720354e-01 8.52309873e-01 6.43264189e-01\n",
      "  7.22290759e-01 3.13764637e-01 3.90920890e-02 6.38289970e-01\n",
      "  8.08485388e-01 7.89752733e-02 4.86071564e-01 5.30859764e-01\n",
      "  6.01075927e-01 3.97407632e-01 7.20730745e-01 6.61996373e-01\n",
      "  7.00680298e-01 8.56351321e-01 2.31457818e-01 1.11553031e-01\n",
      "  2.54783665e-01 5.95886856e-01 7.59304953e-02 8.59780404e-01\n",
      "  3.02805467e-01 7.78761615e-01 7.95764982e-02 6.74006598e-03\n",
      "  6.89672445e-01 3.72738672e-01 9.62846390e-01 3.96128223e-01\n",
      "  1.10483144e-01 4.12197838e-01 7.50641429e-01 7.62592571e-02\n",
      "  8.06215281e-01 4.55618191e-01 3.33242816e-01 2.69053457e-01\n",
      "  4.91928981e-01 5.11661454e-01 1.12642855e-01 2.92032693e-01\n",
      "  6.28194139e-02 4.71161986e-01 3.52940060e-01 7.66884571e-01\n",
      "  7.60314527e-02 9.45903811e-02]\n",
      " [5.79825030e-01 2.28775519e-01 2.16921458e-01 8.22529614e-01\n",
      "  8.26118538e-03 1.71072446e-01 2.94764098e-01 7.71507403e-01\n",
      "  1.51825588e-01 4.65352465e-01 1.81844607e-01 2.32008762e-01\n",
      "  1.67322289e-01 9.91752137e-01 6.07123505e-01 5.83895738e-01\n",
      "  4.39167832e-01 9.69498675e-01 7.44786231e-01 8.15870479e-01\n",
      "  8.33850432e-01 2.46812098e-01 6.21286086e-01 8.97017934e-01\n",
      "  3.11182642e-01 3.54955417e-01 3.26483046e-01 8.21560674e-01\n",
      "  1.81401562e-01 8.90531421e-01 9.33411762e-01 2.46170538e-01\n",
      "  3.74623643e-01 7.88110978e-01 2.73173040e-01 5.11081907e-01\n",
      "  1.83405073e-01 4.82869083e-01 2.97328048e-01 2.35355672e-01\n",
      "  4.22861893e-01 8.96925263e-01 7.42495914e-01 4.71853437e-02\n",
      "  3.23175453e-02 8.32519484e-01 8.90618313e-01 6.73796485e-02\n",
      "  7.83148630e-01 3.15363116e-01]\n",
      " [8.56563041e-01 7.02536045e-01 8.59747285e-01 2.65858317e-01\n",
      "  7.64725434e-02 1.49142727e-01 4.29401595e-01 6.23438242e-01\n",
      "  2.65962063e-01 3.80963519e-02 8.72259467e-01 1.12788547e-01\n",
      "  1.02496939e-01 2.57596042e-01 4.35688508e-01 7.04782130e-01\n",
      "  8.91959664e-01 7.33305701e-01 9.72519077e-01 9.89914760e-01\n",
      "  5.06611683e-01 6.78564670e-02 4.35885558e-01 6.70409177e-01\n",
      "  6.30931666e-01 7.46975212e-01 5.36068253e-01 1.72999633e-01\n",
      "  3.07516448e-01 1.66748892e-02 5.96193825e-02 9.38201570e-01\n",
      "  2.13265510e-01 1.03367932e-01 8.95746976e-01 9.39907753e-01\n",
      "  2.06930820e-01 6.88177182e-02 4.53659809e-01 9.45926389e-01\n",
      "  4.39931989e-01 8.12477782e-01 3.42559316e-01 6.97831493e-01\n",
      "  9.50063004e-01 7.82066600e-01 6.42293290e-01 2.93062181e-01\n",
      "  8.02110693e-01 1.51937548e-01]\n",
      " [4.54597672e-01 6.02731484e-02 1.26694375e-01 1.71479065e-01\n",
      "  5.16851193e-01 5.59617777e-02 3.33273571e-01 4.63470434e-02\n",
      "  6.22756156e-01 1.09577100e-01 2.22144078e-01 8.34539588e-01\n",
      "  9.64586954e-01 1.19140753e-01 1.03204753e-01 6.54372421e-01\n",
      "  5.74770827e-01 8.39309018e-01 2.81687502e-01 2.43146140e-01\n",
      "  8.50257807e-01 1.65096644e-01 3.94888067e-01 4.98438206e-01\n",
      "  4.17224185e-01 6.10417299e-01 1.37033436e-01 4.68486435e-01\n",
      "  8.18826520e-01 2.53495749e-01 2.89612360e-01 1.46917322e-01\n",
      "  2.01086622e-01 4.50672271e-01 4.65959496e-01 7.74359269e-01\n",
      "  7.57086879e-01 3.22839668e-01 1.37361189e-01 5.76831537e-01\n",
      "  1.74440238e-01 1.37267211e-01 7.51969957e-01 8.65751862e-01\n",
      "  5.86843096e-01 2.87076763e-02 6.82632031e-01 4.11642939e-01\n",
      "  5.32775878e-01 3.29747095e-01]\n",
      " [3.30453957e-02 6.77554658e-01 1.61169781e-01 1.06203792e-01\n",
      "  2.15691403e-01 9.39939678e-01 3.39179571e-02 1.39866772e-01\n",
      "  5.42661898e-02 1.24119767e-01 3.62200771e-01 7.82972350e-01\n",
      "  8.72612528e-01 2.22670990e-01 5.47967708e-01 9.08106302e-01\n",
      "  1.90735884e-01 5.97747026e-01 8.19940396e-01 1.61371741e-01\n",
      "  1.09421484e-01 3.92189960e-01 6.67712341e-01 7.76767448e-01\n",
      "  9.20973414e-01 2.96537962e-01 3.95178685e-02 9.15733321e-02\n",
      "  9.92421002e-01 2.43855543e-01 2.27099406e-01 3.44521704e-01\n",
      "  1.12790972e-01 1.27297385e-01 7.40585873e-01 4.53634802e-01\n",
      "  2.18238871e-01 1.39999078e-02 2.57742725e-01 4.77209443e-01\n",
      "  8.36982637e-02 5.61880794e-01 6.95204188e-01 6.55042551e-01\n",
      "  7.49490619e-01 8.79464899e-01 8.15604657e-03 5.48838352e-01\n",
      "  2.19722415e-01 3.46918858e-01]\n",
      " [3.47930268e-02 9.56033510e-01 8.55282808e-03 6.47494514e-01\n",
      "  1.14111987e-01 7.98358877e-01 4.85849876e-02 5.08827886e-01\n",
      "  8.36623729e-01 3.53628593e-01 9.01565984e-01 7.87566238e-03\n",
      "  5.29183580e-01 4.19652842e-01 5.35295315e-01 2.24595197e-01\n",
      "  3.13963413e-01 8.09612147e-01 9.76243866e-02 9.34492704e-01\n",
      "  2.65836843e-01 2.11726219e-01 9.56863954e-02 9.38475127e-01\n",
      "  3.01340668e-01 7.36281727e-01 9.32086991e-01 9.48003987e-01\n",
      "  8.56631627e-01 1.35007203e-01 4.08625284e-01 2.42185363e-01\n",
      "  1.03721038e-01 7.55080998e-01 7.62586990e-01 4.48885597e-02\n",
      "  2.94805872e-01 4.24238429e-01 5.34811914e-01 8.82870760e-01\n",
      "  1.45550121e-01 5.68532517e-01 9.24110346e-01 3.49287497e-01\n",
      "  1.14870711e-01 4.71945790e-01 3.75824464e-01 3.66209983e-01\n",
      "  4.06240666e-01 8.09186608e-01]\n",
      " [5.80870886e-01 1.32850007e-01 1.78216219e-02 2.21282582e-01\n",
      "  5.30791251e-01 8.63805375e-01 2.73438085e-01 9.20205875e-01\n",
      "  1.91668083e-01 3.81104148e-01 4.84450097e-01 6.52040172e-01\n",
      "  4.32509256e-01 3.82170273e-01 1.06056815e-01 2.92280196e-01\n",
      "  9.42690021e-01 9.69935935e-01 8.68609715e-01 4.58216735e-01\n",
      "  5.84296209e-01 7.38346429e-02 7.96157111e-01 5.20808284e-01\n",
      "  2.24105536e-01 2.26747378e-02 8.39941794e-01 5.87275737e-01\n",
      "  6.58359234e-01 8.24640612e-02 5.68520992e-02 5.96780579e-01\n",
      "  5.42045656e-02 3.66423267e-01 7.01426379e-01 4.54383534e-01\n",
      "  2.97243807e-01 7.51175963e-02 5.36569107e-01 4.09071284e-01\n",
      "  2.54807894e-01 9.71264822e-01 1.77296760e-01 9.92853593e-01\n",
      "  1.27400941e-01 1.42129581e-01 6.07597340e-01 5.58903617e-01\n",
      "  8.21004839e-02 4.46372562e-01]\n",
      " [1.33869621e-01 2.62719727e-01 6.96900024e-01 4.64469694e-01\n",
      "  2.01096043e-01 7.84993038e-01 9.92296989e-01 4.35336627e-01\n",
      "  3.42447083e-01 2.50293915e-01 2.39221316e-01 8.02935192e-01\n",
      "  2.11418693e-01 5.22192954e-01 1.37568362e-01 9.27073613e-01\n",
      "  5.74341949e-01 5.56034011e-01 5.53049374e-01 7.85325340e-01\n",
      "  7.69667294e-01 3.13704430e-01 7.18736849e-01 4.64763697e-03\n",
      "  7.78392307e-01 6.21030443e-01 4.05169191e-01 5.11410281e-01\n",
      "  7.77600839e-01 4.01480927e-01 5.10769220e-01 3.70461951e-01\n",
      "  5.42131396e-01 1.84947890e-01 8.65318813e-01 7.05010077e-01\n",
      "  1.62092848e-01 3.42254825e-01 4.10826128e-01 5.78244942e-01\n",
      "  7.56800408e-01 6.88088310e-01 7.32305011e-01 9.36274320e-01\n",
      "  8.48447921e-01 6.12596114e-03 8.10121314e-01 1.95766280e-01\n",
      "  7.37309312e-01 8.84596436e-02]\n",
      " [6.61892938e-01 7.75482462e-01 9.85431071e-02 3.32630504e-01\n",
      "  7.40667802e-01 8.71901307e-01 1.10118064e-01 3.73290780e-01\n",
      "  3.99320865e-01 1.95065614e-01 7.61024515e-01 4.68679823e-02\n",
      "  7.32436209e-01 5.23423981e-01 1.79790605e-01 2.43326029e-02\n",
      "  9.49901200e-01 6.92776906e-01 5.75008168e-01 4.83773154e-01\n",
      "  1.42937613e-01 4.54051314e-01 9.54352594e-01 2.86683015e-01\n",
      "  9.63100476e-01 2.12818840e-01 6.11893432e-01 2.54173661e-01\n",
      "  9.01609440e-01 3.36495403e-03 1.24814637e-01 3.03098218e-01\n",
      "  9.17970721e-01 9.28361031e-02 3.09594382e-01 3.69065536e-01\n",
      "  4.59984297e-01 5.43051947e-01 2.88036483e-01 7.43576924e-01\n",
      "  8.02059151e-01 4.91978612e-02 8.35305248e-01 3.84895454e-01\n",
      "  5.41006738e-01 3.94170905e-02 8.90523531e-01 1.96989448e-01\n",
      "  3.72664968e-01 4.90164174e-01]\n",
      " [8.36528412e-01 1.20991978e-01 2.39848113e-01 1.11920601e-01\n",
      "  7.01319760e-01 8.72061887e-01 2.95706113e-01 6.53591335e-01\n",
      "  2.24018629e-01 1.83888447e-01 5.30678902e-01 1.18024321e-01\n",
      "  2.85103879e-01 9.41931352e-01 6.20341533e-01 4.87324064e-01\n",
      "  6.73937559e-01 3.92183954e-02 1.71028319e-01 6.17079575e-02\n",
      "  5.61809051e-01 7.89210318e-01 6.33948475e-01 2.23075027e-01\n",
      "  7.00886680e-01 2.80758869e-01 9.39859555e-02 1.82670338e-01\n",
      "  1.67642170e-01 5.29966321e-01 9.78632937e-01 3.47060450e-01\n",
      "  8.60661610e-01 4.65386534e-01 4.87011930e-01 6.49180710e-01\n",
      "  9.55542901e-02 7.05688176e-01 5.23792347e-01 3.65709848e-01\n",
      "  7.42893434e-01 1.89000945e-01 9.31873409e-01 1.27698954e-01\n",
      "  5.73228188e-01 2.38735705e-01 4.10548588e-01 3.90978889e-01\n",
      "  6.36655236e-01 5.66141680e-01]\n",
      " [2.35939931e-01 9.91041683e-01 3.20514995e-01 9.00313128e-01\n",
      "  6.37134752e-01 8.35952744e-01 1.39901420e-01 2.49434574e-01\n",
      "  1.50808397e-01 3.43702377e-02 4.58669638e-01 8.12784147e-01\n",
      "  7.55477537e-02 5.80740964e-01 1.18727311e-01 7.30521207e-01\n",
      "  6.66227524e-01 5.40550434e-01 5.74056304e-02 2.89531119e-01\n",
      "  6.15165540e-01 3.63746422e-01 9.76701599e-01 9.79810655e-01\n",
      "  9.02362312e-01 1.50869494e-01 7.67645526e-01 7.63083063e-01\n",
      "  9.97061345e-01 9.88127169e-01 9.17765946e-01 3.86445386e-01\n",
      "  6.30307771e-01 6.43334798e-01 6.25077422e-02 6.72117074e-01\n",
      "  2.35782939e-01 8.30598782e-01 7.51651803e-01 2.57130330e-01\n",
      "  7.65741013e-01 4.65937286e-01 9.49477736e-01 7.20573916e-01\n",
      "  1.32045944e-01 6.19228400e-01 1.38708171e-01 3.82682215e-01\n",
      "  5.16225768e-01 5.70744313e-01]\n",
      " [5.71172060e-01 3.74377759e-01 5.09849297e-02 9.05292858e-01\n",
      "  1.03177873e-01 1.53927219e-02 9.26222080e-01 3.87860608e-01\n",
      "  6.48416754e-02 2.20027413e-01 8.46381729e-01 5.90463664e-01\n",
      "  4.20222459e-01 8.52816892e-01 2.16281212e-01 9.67279363e-01\n",
      "  1.42394311e-01 1.56456522e-01 5.86913440e-01 4.83727646e-01\n",
      "  8.47303689e-01 3.90010079e-01 7.38309456e-01 6.75355651e-01\n",
      "  1.04405435e-01 1.38897107e-01 5.90380911e-01 1.89332496e-01\n",
      "  6.85737863e-02 4.34842661e-01 8.98103721e-02 4.15580664e-01\n",
      "  2.98238639e-01 6.99768408e-01 2.80975492e-01 6.00242745e-01\n",
      "  4.26690281e-01 4.41329739e-01 1.35094720e-01 5.27420454e-01\n",
      "  5.70867428e-01 5.32911751e-01 1.83474824e-01 4.40371878e-02\n",
      "  7.21202960e-01 4.08599836e-01 6.28412251e-01 8.30989495e-01\n",
      "  6.38209404e-01 8.85335792e-01]\n",
      " [4.05757666e-01 3.43290267e-01 4.42602704e-01 1.90898710e-01\n",
      "  6.37503476e-01 7.64361817e-01 2.72762380e-01 7.14434731e-01\n",
      "  6.00848234e-01 4.01984155e-01 8.01422929e-01 5.36605372e-01\n",
      "  4.70598818e-01 3.44991493e-01 1.77866667e-01 9.38838901e-01\n",
      "  5.84706205e-01 4.62079508e-01 7.30094118e-02 8.05004078e-01\n",
      "  8.67847015e-01 6.05890817e-01 4.92967424e-01 5.75379697e-01\n",
      "  4.64079693e-01 9.69390290e-01 8.11761077e-01 1.43508291e-01\n",
      "  3.61572676e-01 8.64517582e-01 1.30663752e-01 4.80784189e-01\n",
      "  8.40397725e-01 3.44377530e-01 9.12701389e-01 9.18560395e-01\n",
      "  5.98302093e-01 8.85932769e-01 2.54671160e-01 6.74714064e-01\n",
      "  1.34048646e-01 2.85495109e-01 9.80627829e-01 3.61743298e-01\n",
      "  9.04110757e-01 7.05814202e-01 4.52773984e-01 8.12156844e-01\n",
      "  6.30785136e-01 6.67181871e-01]\n",
      " [9.26277610e-01 9.28319283e-01 8.05199488e-01 4.14858047e-01\n",
      "  2.76400057e-01 3.34510046e-01 9.96899975e-01 3.72831137e-01\n",
      "  4.95577599e-01 8.05201521e-01 1.10882911e-01 8.08607890e-01\n",
      "  9.32553134e-01 6.76853788e-02 4.20948145e-01 1.28142957e-02\n",
      "  2.07100038e-01 3.42847985e-01 2.67855873e-01 9.87046103e-01\n",
      "  6.53328927e-01 7.61757150e-01 1.26625018e-01 3.45786108e-01\n",
      "  1.24535753e-02 4.83797284e-01 4.88078577e-01 1.46694610e-01\n",
      "  9.45311472e-01 1.64174291e-01 5.96753823e-01 3.32344670e-01\n",
      "  3.42659021e-01 2.11740671e-01 5.36585666e-02 7.10835941e-01\n",
      "  4.76597023e-01 1.47833714e-01 2.85526707e-01 3.68382216e-01\n",
      "  3.75902051e-01 9.08187171e-01 7.16756395e-01 7.95104415e-01\n",
      "  1.04280603e-01 5.89291551e-01 4.93972390e-01 8.73933492e-01\n",
      "  9.67737678e-01 6.45522439e-01]]\n"
     ]
    }
   ],
   "source": [
    "np.set_printoptions(threshold=float(\"inf\"))\n",
    "myarray = np.random.random((50,50))\n",
    "print(myarray)"
   ]
  },
  {
   "cell_type": "markdown",
   "id": "e0e7d741",
   "metadata": {},
   "source": [
    "#### 50. How to find the closest value (to a given scalar) in a vector? (★★☆)"
   ]
  },
  {
   "cell_type": "code",
   "execution_count": 135,
   "id": "62cabf6f",
   "metadata": {},
   "outputs": [
    {
     "name": "stdout",
     "output_type": "stream",
     "text": [
      "[ 0  1  2  3  4  5  6  7  8  9 10 11 12 13 14 15 16 17 18 19 20 21 22 23\n",
      " 24 25 26 27 28 29 30 31 32 33 34 35 36 37 38 39 40 41 42 43 44 45 46 47\n",
      " 48 49 50 51 52 53 54 55 56 57 58 59 60 61 62 63 64 65 66 67 68 69 70 71\n",
      " 72 73 74 75 76 77 78 79 80 81 82 83 84 85 86 87 88 89 90 91 92 93 94 95\n",
      " 96 97 98 99]\n",
      "91.18832738482276\n",
      "91\n"
     ]
    }
   ],
   "source": [
    "myarray = np.arange(100)\n",
    "v = np.random.uniform(0,100)\n",
    "index = (np.abs(myarray-v)).argmin()\n",
    "print(myarray)\n",
    "print(v)\n",
    "print(myarray[index])"
   ]
  },
  {
   "cell_type": "markdown",
   "id": "c5611b9e",
   "metadata": {},
   "source": [
    "#### 51. Create a structured array representing a position (x,y) and a color (r,g,b) (★★☆)"
   ]
  },
  {
   "cell_type": "code",
   "execution_count": 136,
   "id": "f622939d",
   "metadata": {},
   "outputs": [
    {
     "data": {
      "text/plain": [
       "array([((0., 0.), (0., 0., 0.)), ((0., 0.), (0., 0., 0.)),\n",
       "       ((0., 0.), (0., 0., 0.)), ((0., 0.), (0., 0., 0.)),\n",
       "       ((0., 0.), (0., 0., 0.)), ((0., 0.), (0., 0., 0.)),\n",
       "       ((0., 0.), (0., 0., 0.)), ((0., 0.), (0., 0., 0.)),\n",
       "       ((0., 0.), (0., 0., 0.)), ((0., 0.), (0., 0., 0.))],\n",
       "      dtype=[('position', [('x', '<f8'), ('y', '<f8')]), ('color', [('r', '<f8'), ('g', '<f8'), ('b', '<f8')])])"
      ]
     },
     "execution_count": 136,
     "metadata": {},
     "output_type": "execute_result"
    }
   ],
   "source": [
    "array = np.zeros(10, [('position', [('x', float),('y', float)]),\n",
    "                     ('color', [('r', float),('g', float),('b', float)])])\n",
    "array"
   ]
  },
  {
   "cell_type": "markdown",
   "id": "d22b8574",
   "metadata": {},
   "source": [
    "#### 52. Consider a random vector with shape (100,2) representing coordinates, find point by point distances (★★☆)"
   ]
  },
  {
   "cell_type": "code",
   "execution_count": 137,
   "id": "d5c9cdf8",
   "metadata": {},
   "outputs": [
    {
     "name": "stdout",
     "output_type": "stream",
     "text": [
      "[[0.         0.59445563 0.37475622 0.91263388 0.94462915 0.23026172\n",
      "  0.8681925  0.30546889 0.54427903 0.47067116 0.56553875 0.78679203\n",
      "  0.7218648  0.94607474 0.35324917 0.89206125 0.10428217 0.36779588\n",
      "  0.49961546 0.84079202 0.27077282 0.85728288 0.83076532 0.53747113\n",
      "  0.41147263 0.39844082 0.03719066 0.27397193 0.2442015  0.48980972\n",
      "  0.48115021 0.34325281 0.53987616 0.50412165 0.72153247 0.8089082\n",
      "  0.82509163 0.51506649 0.70290598 0.45867249 0.16389884 0.80460098\n",
      "  0.185563   0.29552376 0.42550526 0.47469159 0.43855118 0.23142455\n",
      "  0.46921918 0.25399881 0.55303106 0.71580512 0.3312901  0.4016414\n",
      "  0.28235716 0.12624247 0.13481736 0.23806371 0.96595086 0.10941695\n",
      "  0.8032965  0.31375457 0.42664801 0.21832224 0.45057135 0.56559992\n",
      "  0.64480378 0.26431117 0.77725743 0.39845263 0.3740732  0.28181178\n",
      "  0.85140365 0.37331558 0.76456896 0.76224182 0.54908211 0.70296726\n",
      "  0.37342912 0.43692689 0.42941823 0.3018336  0.16243707 0.55301924\n",
      "  0.25314024 0.63960396 0.43441322 0.78135047 0.89280943 0.5778402\n",
      "  0.22484153 0.49904707 0.47765261 0.47660793 0.16595872 0.19610358\n",
      "  0.63923006 0.21870677 0.52182801 0.42707348]\n",
      " [0.59445563 0.         0.78316321 0.32192679 0.35020337 0.67794227\n",
      "  0.27698037 0.72480688 0.28512131 0.57794688 0.03287303 0.59413127\n",
      "  0.16960168 0.68492343 0.5598461  0.29770384 0.53430772 0.22953678\n",
      "  0.55758427 0.32071425 0.71287958 0.70062126 0.3557211  0.74468095\n",
      "  0.53194764 0.66892909 0.62355123 0.40345994 0.5034009  0.28099813\n",
      "  0.65157693 0.27426561 0.311189   0.38435147 0.14951004 0.27843838\n",
      "  0.62562846 0.16111377 0.38540678 0.6241344  0.64157367 0.2677141\n",
      "  0.69133307 0.32600722 0.63885736 0.68674242 0.61771161 0.6386283\n",
      "  0.63418675 0.57429317 0.59839657 0.45549427 0.39341965 0.83638401\n",
      "  0.46201849 0.56154209 0.7174077  0.39228889 0.37624283 0.57280366\n",
      "  0.70066546 0.29954709 0.20776967 0.62148788 0.62641507 0.41036425\n",
      "  0.35885987 0.45130307 0.55761572 0.71960176 0.22050672 0.5843966\n",
      "  0.37798397 0.28903364 0.19242633 0.2570958  0.30673795 0.6288345\n",
      "  0.52295689 0.40639798 0.31678959 0.60563555 0.43217884 0.06694345\n",
      "  0.35706822 0.10202082 0.63692618 0.24114252 0.29854375 0.32954389\n",
      "  0.47997938 0.51983488 0.54473607 0.24301728 0.63479093 0.5672913\n",
      "  0.5951912  0.58464909 0.70813739 0.55493082]\n",
      " [0.37475622 0.78316321 0.         1.05481638 1.10387238 0.14620757\n",
      "  1.01567675 0.07159348 0.84894975 0.84229186 0.75029036 0.66222711\n",
      "  0.84605534 0.82141402 0.72643423 1.05299832 0.47200168 0.6082808\n",
      "  0.86808372 0.91368178 0.10410257 0.68913919 0.87340792 0.24443124\n",
      "  0.78056266 0.15854543 0.39139873 0.38205284 0.28244494 0.54907323\n",
      "  0.85589    0.6206301  0.85296043 0.48871645 0.93146357 0.89651452\n",
      "  0.6927229  0.77423559 0.68882504 0.83313266 0.2126064  0.89812522\n",
      "  0.19323683 0.59140072 0.80022447 0.84876647 0.81306819 0.16355011\n",
      "  0.84380355 0.21078626 0.37715769 0.66074303 0.39180711 0.05572412\n",
      "  0.32114575 0.28365038 0.30097491 0.55995149 1.14974768 0.28812701\n",
      "  0.61671435 0.49565019 0.69289238 0.58990673 0.24795435 0.52534249\n",
      "  0.63918443 0.61964945 0.67302294 0.10279807 0.59984749 0.1987799\n",
      "  0.88801252 0.67335184 0.97511727 1.01286294 0.86007654 0.53307632\n",
      "  0.74257196 0.78175043 0.7474675  0.67635168 0.45156    0.77043906\n",
      "  0.55002407 0.77999462 0.80916759 1.0146315  1.06135177 0.58935137\n",
      "  0.58636502 0.86268707 0.84565825 0.76839273 0.53229324 0.57078792\n",
      "  0.47803157 0.59334618 0.89604995 0.79808794]\n",
      " [0.91263388 0.32192679 1.05481638 0.         0.06457063 0.96954857\n",
      "  0.04496373 1.00524683 0.5386382  0.85847044 0.34825604 0.65692193\n",
      "  0.20878654 0.67186402 0.86299414 0.05456273 0.85608745 0.5511789\n",
      "  0.82936917 0.20939213 0.99964336 0.75391013 0.28443792 0.960645\n",
      "  0.82371924 0.91908099 0.94304259 0.6941038  0.7894961  0.50701967\n",
      "  0.93532774 0.59516175 0.56480779 0.58606959 0.24381601 0.19341555\n",
      "  0.67340366 0.45381942 0.45781376 0.91057222 0.94244496 0.18389696\n",
      "  0.99239703 0.64724764 0.93299569 0.97505069 0.90790697 0.92724184\n",
      "  0.91910675 0.85616297 0.78600022 0.53089966 0.66730705 1.11015408\n",
      "  0.74179658 0.86709279 1.03099522 0.71376378 0.14624263 0.88039726\n",
      "  0.78605095 0.60623844 0.52287076 0.94039651 0.85595492 0.57799436\n",
      "  0.4740439  0.76770031 0.61580004 0.97572336 0.54069756 0.86000062\n",
      "  0.29228268 0.60247081 0.22304323 0.33211685 0.55629461 0.75018293\n",
      "  0.82203376 0.69230368 0.61163898 0.91692439 0.7512718  0.37674344\n",
      "  0.67899481 0.28011976 0.92923433 0.27752603 0.07585241 0.49251369\n",
      "  0.79896674 0.78945441 0.82154106 0.53278299 0.95614467 0.88701673\n",
      "  0.74261317 0.90309489 0.98840286 0.84416218]\n",
      " [0.94462915 0.35020337 1.10387238 0.06457063 0.         1.01355318\n",
      "  0.09012766 1.05222881 0.53710165 0.85789031 0.379397   0.72130252\n",
      "  0.26104742 0.73563452 0.87125503 0.05272279 0.88258873 0.57893298\n",
      "  0.82632226 0.27394404 1.04505118 0.81847162 0.34896074 1.01769307\n",
      "  0.82755459 0.97147927 0.97370232 0.73716816 0.83426484 0.55883726\n",
      "  0.9350844  0.61796427 0.56234384 0.64195948 0.24628358 0.25728453\n",
      "  0.73795244 0.46611899 0.52091861 0.91152741 0.98345345 0.2472689\n",
      "  1.03345331 0.6702834  0.93671963 0.97614134 0.91029119 0.9719372\n",
      "  0.9194318  0.90226176 0.84497002 0.59450964 0.71394634 1.15892034\n",
      "  0.78776218 0.90615628 1.06640708 0.73696417 0.08369255 0.91864209\n",
      "  0.85027294 0.64383318 0.54162402 0.95864058 0.91093267 0.63690287\n",
      "  0.5352011  0.78451901 0.6801667  1.02738947 0.57070309 0.90751064\n",
      "  0.35649216 0.61896626 0.21558297 0.31000897 0.5531321  0.81317671\n",
      "  0.82883795 0.6958677  0.61983681 0.92918123 0.78238172 0.39793787\n",
      "  0.70457745 0.32445645 0.93225358 0.25609784 0.05520218 0.55053948\n",
      "  0.81796725 0.78629851 0.82017978 0.54128166 0.9781562  0.90646632\n",
      "  0.80424329 0.92099381 0.98647185 0.84681744]\n",
      " [0.23026172 0.67794227 0.14620757 0.96954857 1.01355318 0.\n",
      "  0.92805706 0.07544786 0.71387511 0.69613216 0.64542022 0.67257766\n",
      "  0.76305621 0.83580542 0.580514   0.96145892 0.32589114 0.4837138\n",
      "  0.72190723 0.85021733 0.04322247 0.72053455 0.82024385 0.32863057\n",
      "  0.6343584  0.19579748 0.25011035 0.27652449 0.18032512 0.47737556\n",
      "  0.7108025  0.48801794 0.71604571 0.44236681 0.82272505 0.82738664\n",
      "  0.70753901 0.64916345 0.65240793 0.68764801 0.06668843 0.82692736\n",
      "  0.06447214 0.45438096 0.65552672 0.7049516  0.66764052 0.04433592\n",
      "  0.69843127 0.12005979 0.39931425 0.64032499 0.30475001 0.18200904\n",
      "  0.22982692 0.14074652 0.18166096 0.41799442 1.05193001 0.14296017\n",
      "  0.65511581 0.38033554 0.56448586 0.44750839 0.27315269 0.49210607\n",
      "  0.59738164 0.47416299 0.67451343 0.17712243 0.47862489 0.1296883\n",
      "  0.83745449 0.53712609 0.86682568 0.89330814 0.72367886 0.56047774\n",
      "  0.59636496 0.63827955 0.6085934  0.53206193 0.31098823 0.65652599\n",
      "  0.41178381 0.689914   0.66428818 0.9000788  0.96743368 0.53832649\n",
      "  0.44033293 0.71684704 0.69949512 0.63535123 0.39166921 0.42573166\n",
      "  0.49864144 0.44890035 0.75208687 0.65190518]\n",
      " [0.8681925  0.27698037 1.01567675 0.04496373 0.09012766 0.92805706\n",
      "  0.         0.96503687 0.49797901 0.8169864  0.3034766  0.63992334\n",
      "  0.17117679 0.66554542 0.81947927 0.0487752  0.81118212 0.50628357\n",
      "  0.78862931 0.2002335  0.9587256  0.73941087 0.27468574 0.92758035\n",
      "  0.78114864 0.88200289 0.89845133 0.65216064 0.74824732 0.46940896\n",
      "  0.89368299 0.55021783 0.5243648  0.55183601 0.20388386 0.17591932\n",
      "  0.65863411 0.41002385 0.43531472 0.86863231 0.89991634 0.16434304\n",
      "  0.94989661 0.60229414 0.89036768 0.93302771 0.86561189 0.88601008\n",
      "  0.87732399 0.81550523 0.75521591 0.50997028 0.62681832 1.07086692\n",
      "  0.70103639 0.8239901  0.98711673 0.66880444 0.15932395 0.83709213\n",
      "  0.76767346 0.56266081 0.47816813 0.89560526 0.8208991  0.54719227\n",
      "  0.44688255 0.72305777 0.59875928 0.93815151 0.49594092 0.82000775\n",
      "  0.28575658 0.55793169 0.18767303 0.30187067 0.51609898 0.72691003\n",
      "  0.7788242  0.64993664 0.56835509 0.87274681 0.70668863 0.3319625\n",
      "  0.63404605 0.23814783 0.88677199 0.24793099 0.06918465 0.46061972\n",
      "  0.75415117 0.74879805 0.78031521 0.48955667 0.91119328 0.84216159\n",
      "  0.71611775 0.85833333 0.9471824  0.80185337]\n",
      " [0.30546889 0.72480688 0.07159348 1.00524683 1.05222881 0.07544786\n",
      "  0.96503687 0.         0.77976363 0.77138545 0.69199237 0.65547451\n",
      "  0.79700246 0.81744202 0.65592413 1.00076246 0.40122903 0.54229886\n",
      "  0.79681004 0.87330979 0.03634599 0.69316166 0.8375263  0.2727875\n",
      "  0.70938941 0.15441165 0.32411717 0.32153298 0.22144414 0.50344863\n",
      "  0.786215   0.55201847 0.78320914 0.45358889 0.87199012 0.85359506\n",
      "  0.68837195 0.70836198 0.65979891 0.76309474 0.14213495 0.85430347\n",
      "  0.12920831 0.52144507 0.73087133 0.78009076 0.74308478 0.09347564\n",
      "  0.77387263 0.15073898 0.37343186 0.63903555 0.33829125 0.11479217\n",
      "  0.26480711 0.21213205 0.2436289  0.48875814 1.0950128  0.21656442\n",
      "  0.62394104 0.4325182  0.62575201 0.52213619 0.24236921 0.4965704\n",
      "  0.6073884  0.54807648 0.66195859 0.1175084  0.53500865 0.14547106\n",
      "  0.85335644 0.60369669 0.91588403 0.94928218 0.79048539 0.53400036\n",
      "  0.67143036 0.71032584 0.67710327 0.60730249 0.38058296 0.70867652\n",
      "  0.47969816 0.72777647 0.73966688 0.95297741 1.00812886 0.5530453\n",
      "  0.51495409 0.79117173 0.77436027 0.69980035 0.46558049 0.5011237\n",
      "  0.47493233 0.52416625 0.82726998 0.72711801]\n",
      " [0.54427903 0.28512131 0.84894975 0.5386382  0.53710165 0.71387511\n",
      "  0.49797901 0.77976363 0.         0.32083055 0.28901597 0.85092275\n",
      "  0.44861036 0.95902494 0.34556687 0.49405475 0.44928373 0.25713711\n",
      "  0.29073516 0.59920021 0.75594197 0.95513906 0.6400569  0.88978109\n",
      "  0.29339204 0.78003318 0.55916082 0.49009823 0.57768511 0.49206919\n",
      "  0.39800201 0.22896599 0.02693813 0.59074259 0.29484604 0.55635375\n",
      "  0.88578483 0.13241381 0.65489083 0.37455273 0.65767287 0.5442712\n",
      "  0.70093643 0.25978039 0.40157736 0.43915155 0.37404301 0.68628828\n",
      "  0.38233982 0.64528378 0.78474468 0.71792695 0.51510319 0.89384604\n",
      "  0.55721939 0.57452624 0.67904262 0.3069575  0.51881087 0.57691552\n",
      "  0.94201692 0.37784612 0.16976902 0.46749285 0.76853964 0.63609305\n",
      "  0.61773164 0.30185434 0.81822752 0.8166795  0.2748258  0.66588424\n",
      "  0.66206625 0.17690421 0.32152165 0.25577776 0.02177461 0.85708917\n",
      "  0.30051289 0.16371197 0.11674539 0.41410939 0.40526395 0.2218453\n",
      "  0.30307342 0.38708829 0.39643925 0.29673575 0.48278984 0.57176818\n",
      "  0.34383077 0.25084668 0.28333074 0.08365387 0.50562787 0.42547584\n",
      "  0.81103193 0.4306713  0.45003103 0.31106887]\n",
      " [0.47067116 0.57794688 0.84229186 0.85847044 0.85789031 0.69613216\n",
      "  0.8169864  0.77138545 0.32083055 0.         0.5702949  1.06319687\n",
      "  0.74753345 1.19608038 0.118661   0.81473982 0.37031655 0.42897496\n",
      "  0.04426303 0.89858277 0.73837484 1.15886924 0.92811517 0.9658468\n",
      "  0.06615113 0.83283589 0.46299849 0.58373308 0.63253072 0.69376886\n",
      "  0.07721727 0.36584806 0.2956198  0.77053468 0.61503906 0.85638364\n",
      "  1.10128913 0.41811621 0.89711217 0.05692922 0.62970577 0.84558766\n",
      "  0.65619529 0.34336157 0.09723044 0.11985063 0.06512132 0.68704453\n",
      "  0.06238447 0.68004002 0.91784591 0.94604729 0.63350105 0.87206773\n",
      "  0.63861166 0.56493627 0.58314814 0.323833   0.83659799 0.55667229\n",
      "  1.1277637  0.51052478 0.38504341 0.28099002 0.85621336 0.82871952\n",
      "  0.84866873 0.23642054 1.03784099 0.84897465 0.45266877 0.70726706\n",
      "  0.9508362  0.31397784 0.64230918 0.56670384 0.30505104 1.0314785\n",
      "  0.10178259 0.17154892 0.26209388 0.18916275 0.4206128  0.51104355\n",
      "  0.35939031 0.67431777 0.08806344 0.61304848 0.80362028 0.78918593\n",
      "  0.2600597  0.07763434 0.03870351 0.33543004 0.34126179 0.27783759\n",
      "  0.97443183 0.26116404 0.13076304 0.04453549]\n",
      " [0.56553875 0.03287303 0.75029036 0.34825604 0.379397   0.64542022\n",
      "  0.3034766  0.69199237 0.28901597 0.5702949  0.         0.57603314\n",
      "  0.18139474 0.67301592 0.54576949 0.32673186 0.50818909 0.20339638\n",
      "  0.5522081  0.32992469 0.68020023 0.68221215 0.35847711 0.71348913\n",
      "  0.52163933 0.63643792 0.59525434 0.3706972  0.47060239 0.25220697\n",
      "  0.64261124 0.252209   0.31418838 0.3561539  0.1821354  0.28859752\n",
      "  0.60856111 0.15937107 0.37078694 0.61464641 0.6095925  0.27892893\n",
      "  0.65940668 0.30312422 0.62717478 0.67641108 0.60725598 0.60597057\n",
      "  0.62502957 0.54145629 0.56946927 0.438572   0.36063224 0.80352055\n",
      "  0.42914552 0.52994197 0.68721738 0.36876064 0.40794312 0.54146845\n",
      "  0.67934756 0.26762674 0.19204522 0.60006326 0.59481536 0.38496279\n",
      "  0.34029093 0.43203493 0.54049249 0.68691632 0.19246838 0.55152357\n",
      "  0.38109011 0.27286104 0.22522052 0.28591764 0.31078929 0.60498544\n",
      "  0.51047791 0.3991222  0.30821243 0.58825471 0.40358032 0.06751386\n",
      "  0.33200558 0.1040307  0.6257735  0.27253061 0.32860163 0.30644302\n",
      "  0.45886211 0.51533444 0.53828316 0.23821827 0.61103678 0.54535362\n",
      "  0.56941462 0.5636262  0.69970908 0.54516568]\n",
      " [0.78679203 0.59413127 0.66222711 0.65692193 0.72130252 0.67257766\n",
      "  0.63992334 0.65547451 0.85092275 1.06319687 0.57603314 0.\n",
      "  0.50398246 0.16329419 0.99126142 0.68868459 0.80984017 0.63702128\n",
      "  1.06095588 0.44931589 0.67447145 0.10660479 0.37625774 0.45087783\n",
      "  1.00059769 0.50566645 0.82355454 0.52377227 0.54612897 0.37056506\n",
      "  1.1201047  0.69836704 0.8727298  0.29813737 0.70383955 0.46461279\n",
      "  0.03902007 0.71937242 0.21488854 1.09052009 0.69474101 0.475652\n",
      "  0.72990099 0.72118216 1.08409163 1.14020747 1.07626094 0.6328631\n",
      "  1.10252502 0.56558049 0.28507007 0.13978125 0.46421137 0.71111908\n",
      "  0.50445914 0.66990164 0.83131199 0.75537868 0.79885758 0.68902315\n",
      "  0.13065658 0.55786228 0.70080465 0.9543348  0.41538305 0.23649951\n",
      "  0.23574321 0.84819427 0.04117053 0.55945346 0.61331672 0.54656462\n",
      "  0.37471792 0.75514735 0.73076477 0.83451262 0.87206258 0.14074326\n",
      "  0.97421126 0.91097433 0.82533657 0.9947481  0.69537122 0.6409206\n",
      "  0.7134119  0.50735449 1.0873091  0.80027156 0.70804144 0.28023844\n",
      "  0.84801937 1.03175005 1.04157043 0.78040519 0.9275589  0.90371291\n",
      "  0.18497389 0.93053051 1.17699756 1.02557728]\n",
      " [0.7218648  0.16960168 0.84605534 0.20878654 0.26104742 0.76305621\n",
      "  0.17117679 0.79700246 0.44861036 0.74753345 0.18139474 0.50398246\n",
      "  0.         0.56207118 0.72706816 0.21340015 0.6763924  0.37641523\n",
      "  0.72672257 0.15144111 0.79217403 0.60859754 0.19518207 0.75772676\n",
      "  0.70122906 0.71094141 0.75435634 0.48917657 0.58275337 0.29847826\n",
      "  0.82114386 0.43069038 0.47529871 0.38151089 0.20959254 0.10891789\n",
      "  0.52871653 0.33009572 0.29003242 0.79362813 0.73873763 0.09815229\n",
      "  0.78850357 0.48012041 0.80765421 0.85606    0.78697652 0.72031167\n",
      "  0.80373055 0.64844842 0.58799532 0.36640342 0.45956517 0.90141923\n",
      "  0.53432344 0.6659368  0.83402713 0.54417864 0.32069359 0.68023703\n",
      "  0.62576145 0.40953106 0.37340334 0.77757942 0.64994296 0.38081139\n",
      "  0.28888963 0.6121287  0.46370991 0.76727858 0.36104542 0.65163808\n",
      "  0.21609394 0.45425075 0.22943158 0.34169757 0.46973232 0.57352044\n",
      "  0.69129067 0.57598609 0.48631746 0.76920013 0.56396936 0.23649044\n",
      "  0.50485063 0.08368097 0.80595317 0.3007827  0.22668629 0.29323516\n",
      "  0.63718857 0.68867531 0.71417215 0.41241401 0.78456602 0.72232024\n",
      "  0.55605672 0.74174735 0.87773803 0.72435587]\n",
      " [0.94607474 0.68492343 0.82141402 0.67186402 0.73563452 0.83580542\n",
      "  0.66554542 0.81744202 0.95902494 1.19608038 0.67301592 0.16329419\n",
      "  0.56207118 0.         1.13205251 0.71319503 0.9638237  0.76711126\n",
      "  1.1900229  0.46533054 0.83716105 0.15347362 0.39109494 0.60070028\n",
      "  1.13552953 0.66630647 0.98303423 0.67888565 0.70737291 0.5044055\n",
      "  1.25695668 0.8303807  0.98273629 0.44830478 0.77122637 0.49334267\n",
      "  0.12908791 0.82668288 0.30445371 1.22733635 0.85779529 0.50654326\n",
      "  0.89318807 0.85863055 1.22434829 1.27992203 1.21422095 0.79615712\n",
      "  1.23916668 0.72867225 0.4450635  0.25018271 0.61932655 0.86886089\n",
      "  0.66426545 0.83111345 0.99409679 0.89856488 0.8180737  0.85024796\n",
      "  0.22843823 0.70095699 0.82150422 1.10625597 0.57619191 0.38538535\n",
      "  0.34792506 0.99035705 0.16901475 0.71866645 0.74341161 0.70983666\n",
      "  0.38017816 0.88344447 0.79061659 0.90356425 0.98067198 0.28985925\n",
      "  1.11158799 1.03704165 0.94829399 1.14129473 0.84678085 0.74031232\n",
      "  0.85553409 0.58800974 1.22678971 0.8623852  0.73460685 0.40735978\n",
      "  0.9937659  1.15843501 1.17175557 0.89533219 1.08255201 1.05428892\n",
      "  0.34359362 1.08069899 1.31451427 1.160599  ]\n",
      " [0.35324917 0.5598461  0.72643423 0.86299414 0.87125503 0.580514\n",
      "  0.81947927 0.65592413 0.34556687 0.118661   0.54576949 0.99126142\n",
      "  0.72706816 1.13205251 0.         0.82428907 0.25487971 0.37408038\n",
      "  0.15361025 0.87498087 0.62236414 1.08251843 0.89543097 0.85977004\n",
      "  0.07152984 0.72455658 0.34451507 0.49086751 0.52895316 0.6277712\n",
      "  0.13697512 0.31040561 0.32534005 0.69420005 0.62497539 0.83416202\n",
      "  1.02996226 0.40963324 0.84046771 0.10998521 0.51389304 0.82468657\n",
      "  0.53879294 0.27438276 0.09290025 0.14922157 0.09131512 0.5735436\n",
      "  0.12172326 0.57154308 0.82457745 0.88235751 0.54463033 0.75488764\n",
      "  0.54044925 0.45242766 0.46450823 0.23653793 0.86120256 0.44295233\n",
      "  1.04589074 0.43340269 0.35373778 0.16537327 0.75387845 0.75484759\n",
      "  0.78846144 0.14346425 0.96906899 0.73742971 0.39654719 0.5992868\n",
      "  0.91821611 0.27351484 0.65819357 0.60130469 0.33598964 0.9475228\n",
      "  0.04593194 0.18222327 0.25162949 0.07922522 0.31967376 0.49506079\n",
      "  0.27785982 0.64813968 0.09701476 0.64137039 0.81610374 0.7253969\n",
      "  0.15410697 0.16637687 0.13414567 0.33046585 0.2242454  0.15924933\n",
      "  0.8882202  0.14282077 0.18941029 0.0776787 ]\n",
      " [0.89206125 0.29770384 1.05299832 0.05456273 0.05272279 0.96145892\n",
      "  0.0487752  1.00076246 0.49405475 0.81473982 0.32673186 0.68868459\n",
      "  0.21340015 0.71319503 0.82428907 0.         0.83063946 0.52668138\n",
      "  0.78437119 0.24793432 0.99321779 0.78816425 0.3227051  0.97111877\n",
      "  0.78236296 0.92200775 0.9212507  0.68500348 0.78236731 0.50951199\n",
      "  0.89182234 0.56653755 0.51980264 0.59490693 0.20021093 0.224654\n",
      "  0.70739158 0.41724598 0.48360167 0.86768583 0.9309606  0.21311823\n",
      "  0.98095826 0.61884851 0.89164851 0.93227459 0.86579582 0.91997961\n",
      "  0.87589027 0.85062802 0.80032899 0.55845151 0.66254579 1.10793536\n",
      "  0.73614814 0.85351983 1.01369218 0.685537   0.11092058 0.86596328\n",
      "  0.81635502 0.5911563  0.49102237 0.90847167 0.86294091 0.59251634\n",
      "  0.49396009 0.73464931 0.64752188 0.97754988 0.51820908 0.85623995\n",
      "  0.33310273 0.56904993 0.17428323 0.27920791 0.5109303  0.77488613\n",
      "  0.78241261 0.65067634 0.57266676 0.88080899 0.72985649 0.34655612\n",
      "  0.652705   0.27310089 0.88748861 0.22456401 0.02242744 0.50547172\n",
      "  0.76753392 0.7443711  0.7773812  0.49388327 0.92707982 0.85596345\n",
      "  0.76318207 0.87090108 0.94406147 0.80215825]\n",
      " [0.10428217 0.53430772 0.47200168 0.85608745 0.88258873 0.32589114\n",
      "  0.81118212 0.40122903 0.44928373 0.37031655 0.50818909 0.80984017\n",
      "  0.6763924  0.9638237  0.25487971 0.83063946 0.         0.30491675\n",
      "  0.39732574 0.80623809 0.3680587  0.88943444 0.80533058 0.61296327\n",
      "  0.30934814 0.47539124 0.11060236 0.2861149  0.29253767 0.48006659\n",
      "  0.38745486 0.2668195  0.44271094 0.51561198 0.65009037 0.77112286\n",
      "  0.84876996 0.43504149 0.69937407 0.36309025 0.2594     0.76522297\n",
      "  0.28745977 0.21527581 0.33390151 0.38626975 0.34331475 0.31907334\n",
      "  0.37419659 0.32358161 0.60194515 0.72315722 0.34563233 0.50243253\n",
      "  0.31703915 0.19941846 0.23404669 0.15063856 0.89672516 0.18863003\n",
      "  0.84211521 0.28479498 0.34849831 0.14759276 0.51448886 0.57851623\n",
      "  0.64216319 0.16065218 0.79522651 0.4841951  0.31670143 0.3518425\n",
      "  0.82699767 0.28521427 0.69183932 0.67820536 0.45231959 0.74153726\n",
      "  0.27126559 0.33379253 0.33295326 0.21414539 0.12149816 0.48536242\n",
      "  0.17808946 0.59278454 0.34190944 0.70176753 0.82921276 0.57484131\n",
      "  0.12059144 0.39534841 0.37513651 0.38714058 0.11962675 0.10677414\n",
      "  0.67892022 0.13339102 0.4324217  0.32619346]\n",
      " [0.36779588 0.22953678 0.6082808  0.5511789  0.57893298 0.4837138\n",
      "  0.50628357 0.54229886 0.25713711 0.42897496 0.20339638 0.63702128\n",
      "  0.37641523 0.76711126 0.37408038 0.52668138 0.30491675 0.\n",
      "  0.42418809 0.51513123 0.52324434 0.73568307 0.52665074 0.63274686\n",
      "  0.36916781 0.52594491 0.39536479 0.23556462 0.32874964 0.26646263\n",
      "  0.49150337 0.0640876  0.26961699 0.35242897 0.35442451 0.47699174\n",
      "  0.67458841 0.16606626 0.46922042 0.46199243 0.43669621 0.46952599\n",
      "  0.48471675 0.10560883 0.4636363  0.51768884 0.45016299 0.45008096\n",
      "  0.47361531 0.39911517 0.53231017 0.5171318  0.25798853 0.65704044\n",
      "  0.3027758  0.35301336 0.49516747 0.16783298 0.59815538 0.36088959\n",
      "  0.71141492 0.12105163 0.08830021 0.40174472 0.51142434 0.40622025\n",
      "  0.41978591 0.2427489  0.61007252 0.56589333 0.0237635  0.41692925\n",
      "  0.54926601 0.11826706 0.39788296 0.41018007 0.27356415 0.61985772\n",
      "  0.34775065 0.27441698 0.1929703  0.40208734 0.20558702 0.18533458\n",
      "  0.12895317 0.29299205 0.4647341  0.42093825 0.52624826 0.36048635\n",
      "  0.262741   0.39478644 0.4052362  0.17359622 0.40867975 0.34624983\n",
      "  0.56841403 0.36652692 0.54939444 0.39420442]\n",
      " [0.49961546 0.55758427 0.86808372 0.82936917 0.82632226 0.72190723\n",
      "  0.78862931 0.79681004 0.29073516 0.04426303 0.5522081  1.06095588\n",
      "  0.72672257 1.1900229  0.15361025 0.78437119 0.39732574 0.42418809\n",
      "  0.         0.87812169 0.76454822 1.1584273  0.91068221 0.98257701\n",
      "  0.0881474  0.85151152 0.49440378 0.59398393 0.64867562 0.69052414\n",
      "  0.1140273  0.36269037 0.26463707 0.77142463 0.58556425 0.83562942\n",
      "  1.09867051 0.39663464 0.88888809 0.09914923 0.65588793 0.82443789\n",
      "  0.6845905  0.34626771 0.14133936 0.15866712 0.109251   0.71056636\n",
      "  0.1022055  0.69936861 0.92668336 0.94056155 0.64130683 0.89974361\n",
      "  0.65142476 0.58798844 0.61624236 0.33515001 0.80217274 0.58086985\n",
      "  1.13006064 0.51383324 0.37225744 0.31861943 0.87066612 0.82819448\n",
      "  0.84211777 0.25339881 1.03425708 0.87027993 0.44794484 0.72610798\n",
      "  0.9332974  0.30670355 0.61097762 0.53091584 0.27344488 1.0350577\n",
      "  0.12619153 0.15474922 0.24609868 0.22852338 0.4369113  0.49069202\n",
      "  0.36722309 0.65592014 0.13191958 0.57857187 0.77247958 0.78442916\n",
      "  0.28222352 0.04002443 0.02263865 0.31465633 0.37785474 0.31046239\n",
      "  0.97932185 0.29604237 0.16045704 0.07596207]\n",
      " [0.84079202 0.32071425 0.91368178 0.20939213 0.27394404 0.85021733\n",
      "  0.2002335  0.87330979 0.59920021 0.89858277 0.32992469 0.44931589\n",
      "  0.15144111 0.46533054 0.87498087 0.24793432 0.80623809 0.51513123\n",
      "  0.87812169 0.         0.87410501 0.54481246 0.07513601 0.78720518\n",
      "  0.85137734 0.76636655 0.87516504 0.58777762 0.67213319 0.37290207\n",
      "  0.97183053 0.57310032 0.62598427 0.4264905  0.34012696 0.04285038\n",
      "  0.46446719 0.48148708 0.26064641 0.94411927 0.83553657 0.05547109\n",
      "  0.8840862  0.62048058 0.95709451 1.00619644 0.93705685 0.8061489\n",
      "  0.95434645 0.73123391 0.60598214 0.3290451  0.54711584 0.96937029\n",
      "  0.62121212 0.76993778 0.9432169  0.68228674 0.35452169 0.78598903\n",
      "  0.57927638 0.52763268 0.52144677 0.91645877 0.69316077 0.40287517\n",
      "  0.28958805 0.75546898 0.40835971 0.82512926 0.49727132 0.72914189\n",
      "  0.0857857  0.60151495 0.34670096 0.46598495 0.6201431  0.5503397\n",
      "  0.84032628 0.7270435  0.63700269 0.9138975  0.68909403 0.38765701\n",
      "  0.64107316 0.22684126 0.95568599 0.41752786 0.26927694 0.32614272\n",
      "  0.77783231 0.84011211 0.86544409 0.56370014 0.9187149  0.86077901\n",
      "  0.5499654  0.88159309 1.02861123 0.87472998]\n",
      " [0.27077282 0.71287958 0.10410257 0.99964336 1.04505118 0.04322247\n",
      "  0.9587256  0.03634599 0.75594197 0.73837484 0.68020023 0.67447145\n",
      "  0.79217403 0.83716105 0.62236414 0.99321779 0.3680587  0.52324434\n",
      "  0.76454822 0.87410501 0.         0.71642496 0.84115191 0.305596\n",
      "  0.67689601 0.18094208 0.28844578 0.30977202 0.21091088 0.50219478\n",
      "  0.75185451 0.52943648 0.75844663 0.4594096  0.85878932 0.8528065\n",
      "  0.70828072 0.6890431  0.66791197 0.72903753 0.10870067 0.85292281\n",
      "  0.09286431 0.49667518 0.69627699 0.74509979 0.70897805 0.07434249\n",
      "  0.73972041 0.14389599 0.39538523 0.65109893 0.3326263  0.13892877\n",
      "  0.2578802  0.18376102 0.20781794 0.46106223 1.08543291 0.18617467\n",
      "  0.64861681 0.41714095 0.60504697 0.48670563 0.26556066 0.5056872\n",
      "  0.61418096 0.51726494 0.67902749 0.15063656 0.51730594 0.14561544\n",
      "  0.85766725 0.57932455 0.90282639 0.93209869 0.76599141 0.55665792\n",
      "  0.63887296 0.68149124 0.6512869  0.57250476 0.35380917 0.6936791\n",
      "  0.45427456 0.72080348 0.70517531 0.93767107 0.99982863 0.55748154\n",
      "  0.48319659 0.75980559 0.74216755 0.67697955 0.42979156 0.4667396\n",
      "  0.49632362 0.48944027 0.79233742 0.69421923]\n",
      " [0.85728288 0.70062126 0.68913919 0.75391013 0.81847162 0.72053455\n",
      "  0.73941087 0.69316166 0.95513906 1.15886924 0.68221215 0.10660479\n",
      "  0.60859754 0.15347362 1.08251843 0.78816425 0.88943444 0.73568307\n",
      "  1.1584273  0.54481246 0.71642496 0.         0.4702979  0.45839139\n",
      "  1.0953817  0.53918658 0.89333959 0.6043226  0.61341636 0.47008256\n",
      "  1.2134643  0.79583987 0.97653407 0.38881644 0.80991634 0.56351819\n",
      "  0.08080273 0.82401963 0.320775   1.18398037 0.75074316 0.5751643\n",
      "  0.78120406 0.8157355  1.17541189 1.23173058 1.16907646 0.68394881\n",
      "  1.19605459 0.62249391 0.32139859 0.24627123 0.54561452 0.73353371\n",
      "  0.57651287 0.73593874 0.8886923  0.84600145 0.89756139 0.75484471\n",
      "  0.07677834 0.65002431 0.80247334 1.03579706 0.45107626 0.33028066\n",
      "  0.34198427 0.93907436 0.14525098 0.58740413 0.71212079 0.60044038\n",
      "  0.46591463 0.8539484  0.83624491 0.94082113 0.97614211 0.1600611\n",
      "  1.06769711 1.01008889 0.92583898 1.08153037 0.7789277  0.74677717\n",
      "  0.80505221 0.61386054 1.17913296 0.90606619 0.80806683 0.38344809\n",
      "  0.9361285  1.13029137 1.1385925  0.88334665 1.00508785 0.9869367\n",
      "  0.22253301 1.01406916 1.26981611 1.12023675]\n",
      " [0.83076532 0.3557211  0.87340792 0.28443792 0.34896074 0.82024385\n",
      "  0.27468574 0.8375263  0.6400569  0.92811517 0.35847711 0.37625774\n",
      "  0.19518207 0.39109494 0.89543097 0.3227051  0.80533058 0.52665074\n",
      "  0.91068221 0.07513601 0.84115191 0.4702979  0.         0.73254008\n",
      "  0.87741702 0.72205934 0.86624669 0.56805036 0.64560154 0.34777398\n",
      "  0.99937705 0.58776403 0.66642017 0.38485339 0.3990778  0.10378392\n",
      "  0.39016524 0.51607096 0.19883194 0.97098251 0.81110499 0.11751543\n",
      "  0.8584851  0.63206971 0.9806656  1.03162395 0.96253921 0.77592197\n",
      "  0.98165865 0.70030625 0.549375   0.26151365 0.5221113  0.92882766\n",
      "  0.59422265 0.75056619 0.92551355 0.69063684 0.4296552  0.76753013\n",
      "  0.50664432 0.52177577 0.5450831  0.92368221 0.64468699 0.35267486\n",
      "  0.23715809 0.76933282 0.33553913 0.78126008 0.506705   0.69554168\n",
      "  0.02280256 0.62277349 0.41064344 0.52849787 0.66148989 0.48245465\n",
      "  0.86338993 0.75732947 0.66611751 0.92864294 0.68553411 0.42162624\n",
      "  0.64799141 0.25504675 0.98006216 0.48234497 0.34384385 0.28458783\n",
      "  0.78810377 0.87375103 0.89660495 0.59650788 0.92093087 0.86789973\n",
      "  0.48657117 0.8901544  1.05683181 0.90142601]\n",
      " [0.53747113 0.74468095 0.24443124 0.960645   1.01769307 0.32863057\n",
      "  0.92758035 0.2727875  0.88978109 0.9658468  0.71348913 0.45087783\n",
      "  0.75772676 0.60070028 0.85977004 0.97111877 0.61296327 0.63274686\n",
      "  0.98257701 0.78720518 0.305596   0.45839139 0.73254008 0.\n",
      "  0.90019738 0.13903074 0.56545648 0.40270355 0.33391123 0.46944652\n",
      "  0.99612509 0.66780698 0.90090532 0.37633536 0.89220995 0.78039516\n",
      "  0.47561865 0.78641576 0.5347078  0.96975484 0.38391968 0.78548473\n",
      "  0.39262198 0.6566445  0.94497485 0.99858464 0.95081489 0.31005347\n",
      "  0.98144629 0.28943058 0.18409605 0.48632826 0.37535152 0.28073788\n",
      "  0.3376129  0.41556001 0.51007806 0.64928536 1.07734507 0.42964966\n",
      "  0.38303142 0.51194435 0.72077103 0.75285379 0.12173397 0.38515107\n",
      "  0.4977277  0.72995005 0.47062617 0.15529148 0.61634103 0.26124932\n",
      "  0.74243232 0.72897565 0.93274326 0.99726456 0.905581   0.31210124\n",
      "  0.86418033 0.86647313 0.80918395 0.82710356 0.54576772 0.75325904\n",
      "  0.6238456  0.70984325 0.95225271 0.98581875 0.98395725 0.4683528\n",
      "  0.70709327 0.96797454 0.96005141 0.80614362 0.70338782 0.71959104\n",
      "  0.26927745 0.74568953 1.04409731 0.92162249]\n",
      " [0.41147263 0.53194764 0.78056266 0.82371924 0.82755459 0.6343584\n",
      "  0.78114864 0.70938941 0.29339204 0.06615113 0.52163933 1.00059769\n",
      "  0.70122906 1.13552953 0.07152984 0.78236296 0.30934814 0.36916781\n",
      "  0.0881474  0.85137734 0.67689601 1.0953817  0.87741702 0.90019738\n",
      "  0.         0.76764929 0.40648202 0.51767722 0.56670191 0.63210428\n",
      "  0.12290163 0.30538643 0.27066369 0.70674028 0.58216616 0.80964712\n",
      "  1.03885602 0.37510383 0.83831133 0.09383008 0.5682051  0.79936785\n",
      "  0.59650319 0.27966725 0.10930486 0.15483642 0.0857646  0.62385304\n",
      "  0.10499755 0.6150109  0.85186979 0.88535683 0.56775301 0.81177906\n",
      "  0.57246691 0.50143583 0.52874747 0.2578054  0.81216073 0.49381715\n",
      "  1.06323224 0.44613427 0.33238201 0.23578083 0.79019452 0.76548496\n",
      "  0.78878395 0.17044066 0.97596061 0.78474223 0.39268138 0.64209475\n",
      "  0.9002031  0.25722073 0.61260992 0.54702736 0.28097307 0.96657128\n",
      "  0.03808668 0.13170918 0.21561085 0.15056968 0.35471954 0.46553931\n",
      "  0.29392194 0.62546446 0.10576178 0.58997344 0.77269865 0.72825069\n",
      "  0.19575202 0.0951534  0.06643881 0.29295183 0.2932891  0.22323191\n",
      "  0.9091796  0.21035786 0.18087567 0.02506948]\n",
      " [0.39844082 0.66892909 0.15854543 0.91908099 0.97147927 0.19579748\n",
      "  0.88200289 0.15441165 0.78003318 0.83283589 0.63643792 0.50566645\n",
      "  0.71094141 0.66630647 0.72455658 0.92200775 0.47539124 0.52594491\n",
      "  0.85151152 0.76636655 0.18094208 0.53918658 0.72205934 0.13903074\n",
      "  0.76764929 0.         0.4265906  0.29044861 0.20675664 0.41264211\n",
      "  0.86034723 0.55307422 0.78865445 0.3399087  0.81842855 0.75218829\n",
      "  0.53727962 0.68702675 0.53355292 0.8344499  0.24655993 0.75491601\n",
      "  0.26025009 0.53573766 0.80840683 0.86151693 0.81526937 0.17235203\n",
      "  0.84601951 0.15302895 0.22125166 0.5027598  0.27852347 0.21127699\n",
      "  0.22319746 0.27706291 0.37697232 0.52146089 1.02321688 0.29079061\n",
      "  0.46955502 0.40562784 0.61405979 0.61411246 0.09028593 0.37086975\n",
      "  0.48589428 0.59816214 0.51511944 0.05928914 0.512478   0.12556884\n",
      "  0.73564556 0.61222003 0.86094816 0.9124805  0.79425248 0.38055011\n",
      "  0.7310533  0.74213737 0.69133404 0.6894737  0.41513724 0.66683644\n",
      "  0.49984096 0.65140501 0.81593179 0.90743531 0.93223032 0.44028413\n",
      "  0.57308799 0.83894463 0.82889979 0.69670687 0.56436292 0.58178069\n",
      "  0.32282329 0.60765156 0.90735528 0.78841696]\n",
      " [0.03719066 0.62355123 0.39139873 0.94304259 0.97370232 0.25011035\n",
      "  0.89845133 0.32411717 0.55916082 0.46299849 0.59525434 0.82355454\n",
      "  0.75435634 0.98303423 0.34451507 0.9212507  0.11060236 0.39536479\n",
      "  0.49440378 0.87516504 0.28844578 0.89333959 0.86624669 0.56545648\n",
      "  0.40648202 0.4265906  0.         0.31107155 0.27997423 0.52628652\n",
      "  0.46765709 0.36653404 0.55310083 0.54131191 0.74760903 0.84278349\n",
      "  0.86180067 0.53767635 0.73987766 0.44669771 0.18549414 0.83822605\n",
      "  0.19876832 0.31707082 0.41106734 0.45800132 0.42646454 0.25666205\n",
      "  0.45675215 0.28577726 0.58741791 0.75299531 0.36847401 0.41395737\n",
      "  0.31909621 0.15971792 0.12466813 0.2561198  0.99298072 0.14185702\n",
      "  0.83869608 0.34763531 0.44971465 0.1985451  0.48233703 0.60277502\n",
      "  0.68178358 0.26991259 0.81425556 0.42281814 0.40306673 0.3131499\n",
      "  0.88700697 0.39192648 0.79027328 0.78350532 0.56263727 0.73849828\n",
      "  0.36878039 0.44315494 0.44312    0.28679341 0.19177134 0.57996429\n",
      "  0.27607561 0.67171766 0.42046929 0.80454912 0.92142011 0.61476928\n",
      "  0.22844394 0.49681178 0.47292011 0.49479252 0.14156108 0.18530945\n",
      "  0.67471248 0.2048818  0.50538987 0.42029266]\n",
      " [0.27397193 0.40345994 0.38205284 0.6941038  0.73716816 0.27652449\n",
      "  0.65216064 0.32153298 0.49009823 0.58373308 0.3706972  0.52377227\n",
      "  0.48917657 0.67888565 0.49086751 0.68500348 0.2861149  0.23556462\n",
      "  0.59398393 0.58777762 0.30977202 0.6043226  0.56805036 0.40270355\n",
      "  0.51767722 0.29044861 0.31107155 0.         0.10012376 0.2209385\n",
      "  0.62669036 0.26526651 0.49966225 0.23203095 0.55047213 0.56090099\n",
      "  0.56268299 0.39825315 0.42923827 0.59813352 0.24985837 0.55899298\n",
      "  0.29945196 0.25576316 0.58248073 0.63867836 0.58109378 0.23576414\n",
      "  0.61024513 0.17156976 0.33441896 0.44289955 0.05962074 0.43409575\n",
      "  0.06725397 0.18264063 0.35747366 0.25990585 0.77578451 0.19948169\n",
      "  0.56015744 0.11613594 0.32361665 0.43159401 0.28360407 0.29450931\n",
      "  0.37112319 0.34977718 0.50998469 0.33111392 0.2229417  0.1849237\n",
      "  0.58751569 0.32627239 0.59435265 0.63158388 0.50486363 0.46024452\n",
      "  0.48477224 0.46708073 0.40651134 0.47999349 0.17566074 0.38839619\n",
      "  0.22726998 0.41407688 0.5876591  0.63258271 0.69091163 0.30446395\n",
      "  0.33852735 0.57475572 0.57200418 0.40660089 0.40395218 0.38276258\n",
      "  0.39921823 0.409973   0.68027438 0.54113935]\n",
      " [0.2442015  0.5034009  0.28244494 0.7894961  0.83426484 0.18032512\n",
      "  0.74824732 0.22144414 0.57768511 0.63253072 0.47060239 0.54612897\n",
      "  0.58275337 0.70737291 0.52895316 0.78236731 0.29253767 0.32874964\n",
      "  0.64867562 0.67213319 0.21091088 0.61341636 0.64560154 0.33391123\n",
      "  0.56670191 0.20675664 0.27997423 0.10012376 0.         0.29947259\n",
      "  0.66586082 0.34915887 0.58483383 0.2792953  0.65059186 0.64814306\n",
      "  0.58392045 0.49385714 0.48853128 0.63874964 0.16609053 0.64734162\n",
      "  0.21288358 0.32926156 0.61666417 0.67151547 0.620261   0.13776447\n",
      "  0.65060659 0.07166918 0.31128647 0.48812654 0.12513445 0.33406769\n",
      "  0.05139474 0.12378186 0.29217218 0.3158671  0.87471237 0.14291062\n",
      "  0.55917605 0.21340384 0.41537452 0.43918846 0.22497307 0.33631084\n",
      "  0.43147428 0.39630791 0.53962244 0.23901782 0.3186567  0.08838909\n",
      "  0.66372397 0.4069156  0.69446252 0.73049128 0.59090884 0.4587862\n",
      "  0.53105091 0.53552837 0.48538826 0.50340795 0.21201388 0.48814218\n",
      "  0.29309469 0.51018255 0.62328615 0.73241991 0.78891776 0.3685006\n",
      "  0.37519062 0.63432378 0.62615897 0.49508402 0.39929873 0.39824092\n",
      "  0.3950774  0.4253533  0.7158743  0.58847065]\n",
      " [0.48980972 0.28099813 0.54907323 0.50701967 0.55883726 0.47737556\n",
      "  0.46940896 0.50344863 0.49206919 0.69376886 0.25220697 0.37056506\n",
      "  0.29847826 0.5044055  0.6277712  0.50951199 0.48006659 0.26646263\n",
      "  0.69052414 0.37290207 0.50219478 0.47008256 0.34777398 0.46944652\n",
      "  0.63210428 0.41264211 0.52628652 0.2209385  0.29947259 0.\n",
      "  0.75294583 0.32819613 0.5115772  0.10430707 0.42491753 0.35061426\n",
      "  0.40815146 0.36515501 0.21983937 0.72331824 0.46399952 0.35093375\n",
      "  0.51198343 0.35425287 0.71996716 0.77551654 0.70994686 0.4333767\n",
      "  0.73520471 0.35876671 0.31741194 0.2545923  0.17484799 0.6046602\n",
      "  0.24839185 0.4030483  0.57823609 0.39583624 0.61210275 0.42025897\n",
      "  0.45070234 0.20050741 0.33324241 0.61396109 0.35570054 0.14410114\n",
      "  0.16373508 0.48668279 0.3440809  0.46880077 0.24275226 0.35823972\n",
      "  0.36686029 0.38458972 0.46433494 0.53787589 0.51229101 0.36529632\n",
      "  0.60736964 0.54050095 0.45576184 0.64020266 0.35872443 0.30421914\n",
      "  0.35232873 0.24130227 0.72238484 0.52061659 0.52022004 0.0980278\n",
      "  0.49267935 0.66119089 0.67131399 0.41622024 0.59938409 0.55977865\n",
      "  0.32245124 0.58510002 0.81036754 0.65715765]\n",
      " [0.48115021 0.65157693 0.85589    0.93532774 0.9350844  0.7108025\n",
      "  0.89368299 0.786215   0.39800201 0.07721727 0.64261124 1.1201047\n",
      "  0.82114386 1.25695668 0.13697512 0.89182234 0.38745486 0.49150337\n",
      "  0.1140273  0.97183053 0.75185451 1.2134643  0.99937705 0.99612509\n",
      "  0.12290163 0.86034723 0.46765709 0.62669036 0.66586082 0.75294583\n",
      "  0.         0.42755398 0.37283533 0.82465638 0.69202578 0.92984266\n",
      "  1.15855122 0.49271107 0.96072377 0.02962762 0.64413438 0.91928229\n",
      "  0.66546152 0.39909709 0.05747115 0.04497383 0.04572351 0.70642933\n",
      "  0.01791384 0.7074348  0.96080914 1.00678394 0.67949363 0.8813845\n",
      "  0.67723735 0.58651987 0.5815662  0.36951226 0.91364217 0.5760806\n",
      "  1.17902186 0.56344184 0.45465045 0.27289322 0.89080854 0.88428998\n",
      "  0.91074664 0.27728758 1.09631977 0.87154811 0.51491097 0.73531573\n",
      "  1.02214622 0.3801153  0.71950173 0.64337246 0.38226547 1.08131717\n",
      "  0.14589539 0.24594862 0.33484632 0.18106439 0.4565414  0.58481859\n",
      "  0.4088542  0.74659784 0.04736243 0.69005718 0.88078736 0.8495969\n",
      "  0.29106596 0.1524366  0.11542464 0.41001572 0.33422421 0.28511909\n",
      "  1.0227038  0.26301915 0.05798457 0.09825254]\n",
      " [0.34325281 0.27426561 0.6206301  0.59516175 0.61796427 0.48801794\n",
      "  0.55021783 0.55201847 0.22896599 0.36584806 0.252209   0.69836704\n",
      "  0.43069038 0.8303807  0.31040561 0.56653755 0.2668195  0.0640876\n",
      "  0.36269037 0.57310032 0.52943648 0.79583987 0.58776403 0.66780698\n",
      "  0.30538643 0.55307422 0.36653404 0.26526651 0.34915887 0.32819613\n",
      "  0.42755398 0.         0.23574935 0.40994106 0.38327086 0.53395971\n",
      "  0.73619948 0.17186245 0.53320094 0.3980204  0.4348865  0.52580395\n",
      "  0.48049906 0.05231916 0.39962094 0.45360586 0.38608992 0.4586065\n",
      "  0.40967589 0.41633272 0.58015447 0.58027179 0.29839895 0.66648215\n",
      "  0.33158155 0.35081838 0.47567323 0.11900445 0.62994575 0.35543719\n",
      "  0.76916788 0.16098491 0.08339537 0.34785452 0.54788872 0.46571362\n",
      "  0.48340055 0.1823918  0.67223998 0.58816087 0.08735834 0.43718127\n",
      "  0.61046486 0.06254833 0.4251188  0.41965176 0.24175164 0.67591331\n",
      "  0.28366309 0.21613212 0.14273481 0.34127251 0.18724854 0.22002845\n",
      "  0.09046091 0.34823505 0.40066214 0.43822322 0.56401256 0.42334253\n",
      "  0.20674096 0.33479037 0.34320479 0.14779158 0.36100821 0.29324064\n",
      "  0.62255023 0.31147952 0.48541623 0.3304423 ]\n",
      " [0.53987616 0.311189   0.85296043 0.56480779 0.56234384 0.71604571\n",
      "  0.5243648  0.78320914 0.02693813 0.2956198  0.31418838 0.8727298\n",
      "  0.47529871 0.98273629 0.32534005 0.51980264 0.44271094 0.26961699\n",
      "  0.26463707 0.62598427 0.75844663 0.97653407 0.66642017 0.90090532\n",
      "  0.27066369 0.78865445 0.55310083 0.49966225 0.58483383 0.5115772\n",
      "  0.37283533 0.23574935 0.         0.60900688 0.32099211 0.58314112\n",
      "  0.90789742 0.15623149 0.67841704 0.34989065 0.6584793  0.57109155\n",
      "  0.70071477 0.26182688 0.37810296 0.41442643 0.35002535 0.68980436\n",
      "  0.3574067  0.65135871 0.80011393 0.74058334 0.52726355 0.89682576\n",
      "  0.56650442 0.5759902  0.6743434  0.3042973  0.5423502  0.57749022\n",
      "  0.96205726 0.38928706 0.184143   0.45290602 0.78003733 0.65567834\n",
      "  0.64030592 0.29116948 0.84049841 0.82378497 0.28860891 0.67271471\n",
      "  0.68847743 0.17962225 0.34679067 0.27662376 0.01074539 0.87604147\n",
      "  0.27985478 0.14313479 0.11049338 0.39582096 0.405903   0.24729387\n",
      "  0.30428852 0.41306848 0.37264325 0.31951017 0.50821367 0.59308662\n",
      "  0.33363657 0.22467761 0.25783668 0.09721143 0.4933398  0.41289097\n",
      "  0.82896755 0.41658644 0.42430338 0.28747953]\n",
      " [0.50412165 0.38435147 0.48871645 0.58606959 0.64195948 0.44236681\n",
      "  0.55183601 0.45358889 0.59074259 0.77053468 0.3561539  0.29813737\n",
      "  0.38151089 0.44830478 0.69420005 0.59490693 0.51561198 0.35242897\n",
      "  0.77142463 0.4264905  0.4594096  0.38881644 0.38485339 0.37633536\n",
      "  0.70674028 0.3399087  0.54131191 0.23203095 0.2792953  0.10430707\n",
      "  0.82465638 0.40994106 0.60900688 0.         0.52605231 0.41285047\n",
      "  0.33709657 0.46642931 0.21045949 0.79516658 0.44361324 0.41615701\n",
      "  0.48750807 0.42720459 0.78709612 0.84334777 0.78032271 0.39826099\n",
      "  0.80723925 0.32282683 0.21472821 0.21176852 0.1731306  0.54423466\n",
      "  0.22992892 0.39845937 0.57110843 0.45787512 0.70104573 0.41722337\n",
      "  0.35926075 0.26123219 0.42727388 0.65814306 0.2702593  0.06292005\n",
      "  0.15503838 0.55086856 0.28012968 0.39863999 0.32950068 0.31432916\n",
      "  0.40003808 0.46989431 0.56429112 0.64143181 0.6104157  0.26792817\n",
      "  0.67888067 0.62576812 0.54514989 0.69662662 0.39868978 0.40840118\n",
      "  0.41646494 0.33579572 0.79062728 0.62264693 0.60762235 0.10070787\n",
      "  0.54990096 0.74465054 0.75119171 0.51248744 0.63457398 0.60665107\n",
      "  0.2204502  0.63327971 0.88107564 0.73155344]\n",
      " [0.72153247 0.14951004 0.93146357 0.24381601 0.24628358 0.82272505\n",
      "  0.20388386 0.87199012 0.29484604 0.61503906 0.1821354  0.70383955\n",
      "  0.20959254 0.77122637 0.62497539 0.20021093 0.65009037 0.35442451\n",
      "  0.58556425 0.34012696 0.85878932 0.80991634 0.3990778  0.89220995\n",
      "  0.58216616 0.81842855 0.74760903 0.55047213 0.65059186 0.42491753\n",
      "  0.69202578 0.38327086 0.32099211 0.52605231 0.         0.2994591\n",
      "  0.73135085 0.22194943 0.48914259 0.66765437 0.78313804 0.28572217\n",
      "  0.83246167 0.43503996 0.69144541 0.73222086 0.66561    0.78444794\n",
      "  0.67597086 0.721859   0.74077729 0.56423652 0.54269    0.98428695\n",
      "  0.61046086 0.70135754 0.84956465 0.50106848 0.24688475 0.71124083\n",
      "  0.8197306  0.44249291 0.3027338  0.71601897 0.77480522 0.54484701\n",
      "  0.47556006 0.54142191 0.66470565 0.86905149 0.35168323 0.73281472\n",
      "  0.4180105  0.37661777 0.04413285 0.13237933 0.31251489 0.75658288\n",
      "  0.58266857 0.45047216 0.37357064 0.68340941 0.55980745 0.16947975\n",
      "  0.47280105 0.19967367 0.68727941 0.09816546 0.19112948 0.45952569\n",
      "  0.57654803 0.54564175 0.57792243 0.29510218 0.73901061 0.66505026\n",
      "  0.72894416 0.67821933 0.74474807 0.60195855]\n",
      " [0.8089082  0.27843838 0.89651452 0.19341555 0.25728453 0.82738664\n",
      "  0.17591932 0.85359506 0.55635375 0.85638364 0.28859752 0.46461279\n",
      "  0.10891789 0.49334267 0.83416202 0.224654   0.77112286 0.47699174\n",
      "  0.83562942 0.04285038 0.8528065  0.56351819 0.10378392 0.78039516\n",
      "  0.80964712 0.75218829 0.84278349 0.56090099 0.64814306 0.35061426\n",
      "  0.92984266 0.53395971 0.58314112 0.41285047 0.2994591  0.\n",
      "  0.48275423 0.43900935 0.26495284 0.90223101 0.80995177 0.0139149\n",
      "  0.85894875 0.58201549 0.91568382 0.9644822  0.89536418 0.78357829\n",
      "  0.91239511 0.70928855 0.60151719 0.33750794 0.52302552 0.95223751\n",
      "  0.59769384 0.74216945 0.91429282 0.64456994 0.33431495 0.75776394\n",
      "  0.59313139 0.49520437 0.48046096 0.87868655 0.68209351 0.3952643\n",
      "  0.28571263 0.71618283 0.42344437 0.81047037 0.45979607 0.7086605\n",
      "  0.12003074 0.56084195 0.30821386 0.42690161 0.57729296 0.55724186\n",
      "  0.7990678  0.68483484 0.5949964  0.8742286  0.6551737  0.34536008\n",
      "  0.60386618 0.18634944 0.91414983 0.37961803 0.24478057 0.31407459\n",
      "  0.73941934 0.79754252 0.82308443 0.52132595 0.88241109 0.82310533\n",
      "  0.55194712 0.84349609 0.98652166 0.83289533]\n",
      " [0.82509163 0.62562846 0.6927229  0.67340366 0.73795244 0.70753901\n",
      "  0.65863411 0.68837195 0.88578483 1.10128913 0.60856111 0.03902007\n",
      "  0.52871653 0.12908791 1.02996226 0.70739158 0.84876996 0.67458841\n",
      "  1.09867051 0.46446719 0.70828072 0.08080273 0.39016524 0.47561865\n",
      "  1.03885602 0.53727962 0.86180067 0.56268299 0.58392045 0.40815146\n",
      "  1.15855122 0.73619948 0.90789742 0.33709657 0.73135085 0.48275423\n",
      "  0.         0.75393067 0.2426023  1.12895764 0.73110944 0.49437257\n",
      "  0.76552998 0.75955144 1.12277415 1.1788635  1.114783   0.6683312\n",
      "  1.14095137 0.60192891 0.31606416 0.17014425 0.50313765 0.74063312\n",
      "  0.54273479 0.70765418 0.86800937 0.79417382 0.81685933 0.72676377\n",
      "  0.12709195 0.59658332 0.73727429 0.99333133 0.44713291 0.27532795\n",
      "  0.26882565 0.88695111 0.06807034 0.58994011 0.65085953 0.58237624\n",
      "  0.38643934 0.79261415 0.75689985 0.86268586 0.907024   0.16352061\n",
      "  1.01266534 0.94829005 0.86222087 1.0337198  0.73438692 0.6740419\n",
      "  0.75213091 0.53660786 1.12594111 0.82704419 0.72727156 0.31648956\n",
      "  0.88695198 1.06919651 1.07939297 0.81617667 0.9664129  0.94273104\n",
      "  0.21471739 0.96955025 1.21550541 1.06385062]\n",
      " [0.51506649 0.16111377 0.77423559 0.45381942 0.46611899 0.64916345\n",
      "  0.41002385 0.70836198 0.13241381 0.41811621 0.15937107 0.71937242\n",
      "  0.33009572 0.82668288 0.40963324 0.41724598 0.43504149 0.16606626\n",
      "  0.39663464 0.48148708 0.6890431  0.82401963 0.51607096 0.78641576\n",
      "  0.37510383 0.68702675 0.53767635 0.39825315 0.49385714 0.36515501\n",
      "  0.49271107 0.17186245 0.15623149 0.46642931 0.22194943 0.43900935\n",
      "  0.75393067 0.         0.52249098 0.46588115 0.60029072 0.42790321\n",
      "  0.64742842 0.22068802 0.48348713 0.52929107 0.46065403 0.61605976\n",
      "  0.47555386 0.56466022 0.66773054 0.58571577 0.41208663 0.82310659\n",
      "  0.46486665 0.51619071 0.647465   0.28447668 0.46750818 0.52265827\n",
      "  0.81297078 0.28212653 0.08854714 0.49408461 0.66469879 0.50843168\n",
      "  0.48559436 0.31947514 0.68625808 0.7293667  0.17542272 0.58169065\n",
      "  0.53848758 0.15509276 0.26070339 0.24822284 0.15400513 0.73032104\n",
      "  0.36977887 0.24681859 0.15976071 0.4636329  0.35810894 0.09448969\n",
      "  0.26199962 0.26110843 0.48075917 0.26696273 0.41100626 0.4410449\n",
      "  0.35500139 0.35874195 0.38421279 0.08271548 0.51828759 0.44340254\n",
      "  0.68674664 0.45627763 0.54868556 0.39725574]\n",
      " [0.70290598 0.38540678 0.68882504 0.45781376 0.52091861 0.65240793\n",
      "  0.43531472 0.65979891 0.65489083 0.89711217 0.37078694 0.21488854\n",
      "  0.29003242 0.30445371 0.84046771 0.48360167 0.69937407 0.46922042\n",
      "  0.88888809 0.26064641 0.66791197 0.320775   0.19883194 0.5347078\n",
      "  0.83831133 0.53355292 0.73987766 0.42923827 0.48853128 0.21983937\n",
      "  0.96072377 0.53320094 0.67841704 0.21045949 0.48914259 0.26495284\n",
      "  0.2426023  0.52249098 0.         0.93120882 0.65368141 0.27391897\n",
      "  0.69793016 0.56614339 0.93155383 0.98625566 0.91918164 0.60842191\n",
      "  0.94283543 0.53314518 0.35104012 0.07638868 0.37421637 0.74348799\n",
      "  0.43820921 0.60485036 0.77910471 0.61275265 0.59451353 0.6232327\n",
      "  0.33600296 0.41990854 0.51838512 0.83372547 0.45203039 0.1636264\n",
      "  0.0581154  0.70181276 0.17557275 0.59278775 0.44584796 0.52369213\n",
      "  0.20773949 0.58327228 0.51590423 0.62019513 0.67649539 0.2923737\n",
      "  0.81660382 0.73502955 0.64542376 0.85759099 0.57823777 0.43759087\n",
      "  0.56892893 0.29413097 0.93316675 0.58539993 0.50165427 0.12526301\n",
      "  0.71049527 0.85632443 0.87125468 0.59097704 0.81885191 0.77939512\n",
      "  0.28935323 0.80453325 1.01860916 0.86332424]\n",
      " [0.45867249 0.6241344  0.83313266 0.91057222 0.91152741 0.68764801\n",
      "  0.86863231 0.76309474 0.37455273 0.05692922 0.61464641 1.09052009\n",
      "  0.79362813 1.22733635 0.10998521 0.86768583 0.36309025 0.46199243\n",
      "  0.09914923 0.94411927 0.72903753 1.18398037 0.97098251 0.96975484\n",
      "  0.09383008 0.8344499  0.44669771 0.59813352 0.63874964 0.72331824\n",
      "  0.02962762 0.3980204  0.34989065 0.79516658 0.66765437 0.90223101\n",
      "  1.12895764 0.46588115 0.93120882 0.         0.6209599  0.89177966\n",
      "  0.64363096 0.36948333 0.04621187 0.06461435 0.02024212 0.68215269\n",
      "  0.01214134 0.68145267 0.93238447 0.97716504 0.65061813 0.85975414\n",
      "  0.6492935  0.56160941 0.56267224 0.34043521 0.89177327 0.55163657\n",
      "  1.1497571  0.53396794 0.42605456 0.25480414 0.86361678 0.85474012\n",
      "  0.88116394 0.24849089 1.0667001  0.84669072 0.48537873 0.70922814\n",
      "  0.99376135 0.35099532 0.69599016 0.62260118 0.35957415 1.05216101\n",
      "  0.11633026 0.21950973 0.30734916 0.16180455 0.42877605 0.55748087\n",
      "  0.37951794 0.71857903 0.03543454 0.66836787 0.8570428  0.81997663\n",
      "  0.26362487 0.13455197 0.09543567 0.38327368 0.31621983 0.26263854\n",
      "  0.99368558 0.24183205 0.08740299 0.06955797]\n",
      " [0.16389884 0.64157367 0.2126064  0.94244496 0.98345345 0.06668843\n",
      "  0.89991634 0.14213495 0.65767287 0.62970577 0.6095925  0.69474101\n",
      "  0.73873763 0.85779529 0.51389304 0.9309606  0.2594     0.43669621\n",
      "  0.65588793 0.83553657 0.10870067 0.75074316 0.81110499 0.38391968\n",
      "  0.5682051  0.24655993 0.18549414 0.24985837 0.16609053 0.46399952\n",
      "  0.64413438 0.4348865  0.6584793  0.44361324 0.78313804 0.80995177\n",
      "  0.73110944 0.60029072 0.65368141 0.6209599  0.         0.80840308\n",
      "  0.05000086 0.39794045 0.5889187  0.63853851 0.60095218 0.0742264\n",
      "  0.6317438  0.12918153 0.43246696 0.64937977 0.28917068 0.24528241\n",
      "  0.21738784 0.08419039 0.13801096 0.35730437 1.01749861 0.08106619\n",
      "  0.68889326 0.34202662 0.51387997 0.38170814 0.31366846 0.49831423\n",
      "  0.59697531 0.40944515 0.69285019 0.23764829 0.43409116 0.15036449\n",
      "  0.82945914 0.48079988 0.82725492 0.84677923 0.66647518 0.59145666\n",
      "  0.53017751 0.57552859 0.54983912 0.46556298 0.25259882 0.61493821\n",
      "  0.35462082 0.66236486 0.59764908 0.85659007 0.93558125 0.53450516\n",
      "  0.37476286 0.65148453 0.63352331 0.58094402 0.32677468 0.35908636\n",
      "  0.52826014 0.38238431 0.68562774 0.58553149]\n",
      " [0.80460098 0.2677141  0.89812522 0.18389696 0.2472689  0.82692736\n",
      "  0.16434304 0.85430347 0.5442712  0.84558766 0.27892893 0.475652\n",
      "  0.09815229 0.50654326 0.82468657 0.21311823 0.76522297 0.46952599\n",
      "  0.82443789 0.05547109 0.85292281 0.5751643  0.11751543 0.78548473\n",
      "  0.79936785 0.75491601 0.83822605 0.55899298 0.64734162 0.35093375\n",
      "  0.91928229 0.52580395 0.57109155 0.41615701 0.28572217 0.0139149\n",
      "  0.49437257 0.42790321 0.27391897 0.89177966 0.80840308 0.\n",
      "  0.85755882 0.57427635 0.90569345 0.95420098 0.88511133 0.78324337\n",
      "  0.90187589 0.70924135 0.60744584 0.34724261 0.52230887 0.95383669\n",
      "  0.59712422 0.73974335 0.91128806 0.63726371 0.32323259 0.75513259\n",
      "  0.60376601 0.49084781 0.47094936 0.87126945 0.68590564 0.40054819\n",
      "  0.29243085 0.70785359 0.43448304 0.8129991  0.45275502 0.70916904\n",
      "  0.13394019 0.55155393 0.29430036 0.41300937 0.56513602 0.56629118\n",
      "  0.78922928 0.67404797 0.58446387 0.86559987 0.64994645 0.33455837\n",
      "  0.5968833  0.17767111 0.90404437 0.36570415 0.23290834 0.31817621\n",
      "  0.73164929 0.78622872 0.81208564 0.51035194 0.87583437 0.81576137\n",
      "  0.55973749 0.83589176 0.97584327 0.82250742]\n",
      " [0.185563   0.69133307 0.19323683 0.99239703 1.03345331 0.06447214\n",
      "  0.94989661 0.12920831 0.70093643 0.65619529 0.65940668 0.72990099\n",
      "  0.78850357 0.89318807 0.53879294 0.98095826 0.28745977 0.48471675\n",
      "  0.6845905  0.8840862  0.09286431 0.78120406 0.8584851  0.39262198\n",
      "  0.59650319 0.26025009 0.19876832 0.29945196 0.21288358 0.51198343\n",
      "  0.66546152 0.48049906 0.70071477 0.48750807 0.83246167 0.85894875\n",
      "  0.76552998 0.64742842 0.69793016 0.64363096 0.05000086 0.85755882\n",
      "  0.         0.44171083 0.60923479 0.65673411 0.62345456 0.09737479\n",
      "  0.6539977  0.16698102 0.46059697 0.69071204 0.33717453 0.21617256\n",
      "  0.26426711 0.1317332  0.11745621 0.39758474 1.06733566 0.12507191\n",
      "  0.71693555 0.39179887 0.56047497 0.39726534 0.33624794 0.54053015\n",
      "  0.64170811 0.4431108  0.73000672 0.23981259 0.48276579 0.18341403\n",
      "  0.87657339 0.5243642  0.87656458 0.89448921 0.70898343 0.62127007\n",
      "  0.55842239 0.6122646  0.59129379 0.48503968 0.29582726 0.66401773\n",
      "  0.39807528 0.71230456 0.61844457 0.90512734 0.98555281 0.58020026\n",
      "  0.40626195 0.68257841 0.66248649 0.62550493 0.33916178 0.38102702\n",
      "  0.55885087 0.40245171 0.70410622 0.61250872]\n",
      " [0.29552376 0.32600722 0.59140072 0.64724764 0.6702834  0.45438096\n",
      "  0.60229414 0.52144507 0.25978039 0.34336157 0.30312422 0.72118216\n",
      "  0.48012041 0.85863055 0.27438276 0.61884851 0.21527581 0.10560883\n",
      "  0.34626771 0.62048058 0.49667518 0.8157355  0.63206971 0.6566445\n",
      "  0.27966725 0.53573766 0.31707082 0.25576316 0.32926156 0.35425287\n",
      "  0.39909709 0.05231916 0.26182688 0.42720459 0.43503996 0.58201549\n",
      "  0.75955144 0.22068802 0.56614339 0.36948333 0.39794045 0.57427635\n",
      "  0.44171083 0.         0.36601084 0.42134864 0.35575845 0.42808737\n",
      "  0.38144778 0.39267835 0.58289327 0.60862692 0.29753899 0.6349994\n",
      "  0.3190938  0.31475603 0.42922368 0.0666886  0.68183185 0.31730008\n",
      "  0.78463697 0.16763955 0.1333113  0.29749021 0.53895681 0.48582789\n",
      "  0.51412554 0.13796406 0.69723634 0.5665569  0.12561611 0.41556753\n",
      "  0.65465082 0.08287652 0.47660399 0.46682654 0.26931736 0.68898493\n",
      "  0.25329541 0.21145893 0.15691534 0.29711816 0.14589917 0.27234749\n",
      "  0.0437994  0.39712239 0.36820302 0.48764375 0.61632125 0.45149003\n",
      "  0.15740424 0.32289392 0.32533202 0.18423122 0.30890227 0.24241475\n",
      "  0.63305748 0.26168219 0.45630276 0.30456629]\n",
      " [0.42550526 0.63885736 0.80022447 0.93299569 0.93671963 0.65552672\n",
      "  0.89036768 0.73087133 0.40157736 0.09723044 0.62717478 1.08409163\n",
      "  0.80765421 1.22434829 0.09290025 0.89164851 0.33390151 0.4636363\n",
      "  0.14133936 0.95709451 0.69627699 1.17541189 0.9806656  0.94497485\n",
      "  0.10930486 0.80840683 0.41106734 0.58248073 0.61666417 0.71996716\n",
      "  0.05747115 0.39962094 0.37810296 0.78709612 0.69144541 0.91568382\n",
      "  1.12277415 0.48348713 0.93155383 0.04621187 0.5889187  0.90569345\n",
      "  0.60923479 0.36601084 0.         0.05639562 0.03210913 0.65229033\n",
      "  0.05125242 0.65577497 0.91553749 0.97450014 0.63684161 0.82497064\n",
      "  0.63047253 0.53330538 0.52423858 0.32941838 0.92032167 0.52226733\n",
      "  1.13854453 0.52624895 0.43615315 0.21553736 0.8415679  0.84770211\n",
      "  0.88006706 0.23634205 1.06172454 0.81802336 0.48650139 0.6838198\n",
      "  1.00346817 0.35798541 0.72163915 0.65348839 0.388199   1.04002087\n",
      "  0.11729018 0.24097327 0.32373988 0.12427401 0.40973937 0.57283709\n",
      "  0.37072145 0.73057823 0.0109937  0.69760346 0.88190176 0.81743079\n",
      "  0.2442761  0.17319291 0.13331962 0.40169754 0.27682219 0.22990593\n",
      "  0.98048188 0.20690595 0.0992434  0.09063208]\n",
      " [0.47469159 0.68674242 0.84876647 0.97505069 0.97614134 0.7049516\n",
      "  0.93302771 0.78009076 0.43915155 0.11985063 0.67641108 1.14020747\n",
      "  0.85606    1.27992203 0.14922157 0.93227459 0.38626975 0.51768884\n",
      "  0.15866712 1.00619644 0.74509979 1.23173058 1.03162395 0.99858464\n",
      "  0.15483642 0.86151693 0.45800132 0.63867836 0.67151547 0.77551654\n",
      "  0.04497383 0.45360586 0.41442643 0.84334777 0.73222086 0.9644822\n",
      "  1.1788635  0.52929107 0.98625566 0.06461435 0.63853851 0.95420098\n",
      "  0.65673411 0.42134864 0.05639562 0.         0.06916103 0.70338101\n",
      "  0.05746727 0.70920137 0.97149111 1.02996943 0.69317861 0.87169575\n",
      "  0.68616007 0.58556664 0.56725245 0.3857595  0.95612165 0.57391795\n",
      "  1.19493955 0.58240992 0.48656516 0.25996204 0.89628316 0.90386086\n",
      "  0.93514713 0.29268534 1.11763695 0.86967937 0.54074606 0.73733945\n",
      "  1.05442016 0.40978332 0.76060194 0.68653083 0.42406629 1.0964014\n",
      "  0.17001748 0.283487   0.37018462 0.17316646 0.46555499 0.62026668\n",
      "  0.42691876 0.78017879 0.05314965 0.73264663 0.92165597 0.87283847\n",
      "  0.30030273 0.19649886 0.15852141 0.44682503 0.32013519 0.28075188\n",
      "  1.03681972 0.25630163 0.0474348  0.13203685]\n",
      " [0.43855118 0.61771161 0.81306819 0.90790697 0.91029119 0.66764052\n",
      "  0.86561189 0.74308478 0.37404301 0.06512132 0.60725598 1.07626094\n",
      "  0.78697652 1.21422095 0.09131512 0.86579582 0.34331475 0.45016299\n",
      "  0.109251   0.93705685 0.70897805 1.16907646 0.96253921 0.95081489\n",
      "  0.0857646  0.81526937 0.42646454 0.58109378 0.620261   0.70994686\n",
      "  0.04572351 0.38608992 0.35002535 0.78032271 0.66561    0.89536418\n",
      "  1.114783   0.46065403 0.91918164 0.02024212 0.60095218 0.88511133\n",
      "  0.62345456 0.35575845 0.03210913 0.06916103 0.         0.66238803\n",
      "  0.03088421 0.66230529 0.91515433 0.9641087  0.6340893  0.8395674\n",
      "  0.63151417 0.54202488 0.54247071 0.32437279 0.89236793 0.53190829\n",
      "  1.13406972 0.51909421 0.41746266 0.23472574 0.84519194 0.84023302\n",
      "  0.86861656 0.23189821 1.05290039 0.82710524 0.47338735 0.69013331\n",
      "  0.98533358 0.34101956 0.69493615 0.62448663 0.35995868 1.03619477\n",
      "  0.10268022 0.21568076 0.30131089 0.14166368 0.41082037 0.55129793\n",
      "  0.36415405 0.71101794 0.02347462 0.66929749 0.85561796 0.80691362\n",
      "  0.24536999 0.14138333 0.10152828 0.37833352 0.29612593 0.24248879\n",
      "  0.97741459 0.22159491 0.10076341 0.06375883]\n",
      " [0.23142455 0.6386283  0.16355011 0.92724184 0.9719372  0.04433592\n",
      "  0.88601008 0.09347564 0.68628828 0.68704453 0.60597057 0.6328631\n",
      "  0.72031167 0.79615712 0.5735436  0.91997961 0.31907334 0.45008096\n",
      "  0.71056636 0.8061489  0.07434249 0.68394881 0.77592197 0.31005347\n",
      "  0.62385304 0.17235203 0.25666205 0.23576414 0.13776447 0.4333767\n",
      "  0.70642933 0.4586065  0.68980436 0.39826099 0.78444794 0.78357829\n",
      "  0.6683312  0.61605976 0.60842191 0.68215269 0.0742264  0.78324337\n",
      "  0.09737479 0.42808737 0.65229033 0.70338101 0.66238803 0.\n",
      "  0.6932696  0.07573428 0.36365674 0.59733196 0.26135009 0.20791648\n",
      "  0.18636937 0.12265276 0.20845557 0.39676933 1.01154376 0.13059199\n",
      "  0.62015189 0.34287247 0.53282449 0.44958471 0.24135234 0.44855066\n",
      "  0.55324573 0.45958745 0.63363656 0.16704892 0.44359814 0.08712501\n",
      "  0.79311954 0.5102626  0.82848683 0.85831852 0.69704695 0.52407317\n",
      "  0.58614266 0.61903261 0.58396472 0.53023647 0.28816472 0.61941845\n",
      "  0.38652329 0.64793383 0.66058631 0.86347349 0.92632302 0.49401859\n",
      "  0.42835395 0.70314821 0.68800157 0.60637625 0.39674162 0.4227065\n",
      "  0.46153961 0.44723365 0.75010476 0.64257143]\n",
      " [0.46921918 0.63418675 0.84380355 0.91910675 0.9194318  0.69843127\n",
      "  0.87732399 0.77387263 0.38233982 0.06238447 0.62502957 1.10252502\n",
      "  0.80373055 1.23916668 0.12172326 0.87589027 0.37419659 0.47361531\n",
      "  0.1022055  0.95434645 0.73972041 1.19605459 0.98165865 0.98144629\n",
      "  0.10499755 0.84601951 0.45675215 0.61024513 0.65060659 0.73520471\n",
      "  0.01791384 0.40967589 0.3574067  0.80723925 0.67597086 0.91239511\n",
      "  1.14095137 0.47555386 0.94283543 0.01214134 0.6317438  0.90187589\n",
      "  0.6539977  0.38144778 0.05125242 0.05746727 0.03088421 0.6932696\n",
      "  0.         0.69303904 0.94448264 0.9889902  0.66275564 0.87007387\n",
      "  0.66131693 0.57289923 0.57205871 0.35257645 0.89881986 0.56279223\n",
      "  1.16188528 0.54604903 0.4368647  0.26378699 0.87549603 0.86677767\n",
      "  0.8928981  0.26062022 1.07864314 0.85798074 0.49703145 0.72084256\n",
      "  1.004431   0.362216   0.70385768 0.62907948 0.36696219 1.06429879\n",
      "  0.12837486 0.2289048  0.31741331 0.17107955 0.44076119 0.5674659\n",
      "  0.39163827 0.72899987 0.04027894 0.67530649 0.86504179 0.83180784\n",
      "  0.27553065 0.13926527 0.10105638 0.39288576 0.32521799 0.27312433\n",
      "  1.00582692 0.25187667 0.07589803 0.08039562]\n",
      " [0.25399881 0.57429317 0.21078626 0.85616297 0.90226176 0.12005979\n",
      "  0.81550523 0.15073898 0.64528378 0.68004002 0.54145629 0.56558049\n",
      "  0.64844842 0.72867225 0.57154308 0.85062802 0.32358161 0.39911517\n",
      "  0.69936861 0.73123391 0.14389599 0.62249391 0.70030625 0.28943058\n",
      "  0.6150109  0.15302895 0.28577726 0.17156976 0.07166918 0.35876671\n",
      "  0.7074348  0.41633272 0.65135871 0.32282683 0.721859   0.70928855\n",
      "  0.60192891 0.56466022 0.53314518 0.68145267 0.12918153 0.70924135\n",
      "  0.16698102 0.39267835 0.65577497 0.70920137 0.66230529 0.07573428\n",
      "  0.69303904 0.         0.30650937 0.52384472 0.18889665 0.26252922\n",
      "  0.11450205 0.1284041  0.26652025 0.37210797 0.94433615 0.14458487\n",
      "  0.56207138 0.28493418 0.48503132 0.46502514 0.19663944 0.37412223\n",
      "  0.47773539 0.44597429 0.56412156 0.17432917 0.38971783 0.0283262\n",
      "  0.71743386 0.47237214 0.76567374 0.80210397 0.65780248 0.46373284\n",
      "  0.57826488 0.59439925 0.54954666 0.53770132 0.26427075 0.5597904\n",
      "  0.35413538 0.57783851 0.66318777 0.8040534  0.85772477 0.41828864\n",
      "  0.42016224 0.68781009 0.67673836 0.56328391 0.41825896 0.43027521\n",
      "  0.40024401 0.45651691 0.75482737 0.63558797]\n",
      " [0.55303106 0.59839657 0.37715769 0.78600022 0.84497002 0.39931425\n",
      "  0.75521591 0.37343186 0.78474468 0.91784591 0.56946927 0.28507007\n",
      "  0.58799532 0.4450635  0.82457745 0.80032899 0.60194515 0.53231017\n",
      "  0.92668336 0.60598214 0.39538523 0.32139859 0.549375   0.18409605\n",
      "  0.85186979 0.22125166 0.58741791 0.33441896 0.31128647 0.31741194\n",
      "  0.96080914 0.58015447 0.80011393 0.21472821 0.74077729 0.60151719\n",
      "  0.31606416 0.66773054 0.35104012 0.93238447 0.43246696 0.60744584\n",
      "  0.46059697 0.58289327 0.91553749 0.97149111 0.91515433 0.36365674\n",
      "  0.94448264 0.30650937 0.         0.30277775 0.28555549 0.42638092\n",
      "  0.28640852 0.42773756 0.57036778 0.59407349 0.90868023 0.44594503\n",
      "  0.25656022 0.4193483  0.61597387 0.74934395 0.1312829  0.20807951\n",
      "  0.3165665  0.68415586 0.29744265 0.27438465 0.51192881 0.28242389\n",
      "  0.55876527 0.64265572 0.7788479  0.85526889 0.80297583 0.16139106\n",
      "  0.81918332 0.79302835 0.72221184 0.80844292 0.50601164 0.61847385\n",
      "  0.55951246 0.54903532 0.92108211 0.83732894 0.81458385 0.29488364\n",
      "  0.67126213 0.90548568 0.9049667  0.70295534 0.7105852  0.70596261\n",
      "  0.10161846 0.73329545 1.01385647 0.87546204]\n",
      " [0.71580512 0.45549427 0.66074303 0.53089966 0.59450964 0.64032499\n",
      "  0.50997028 0.63903555 0.71792695 0.94604729 0.438572   0.13978125\n",
      "  0.36640342 0.25018271 0.88235751 0.55845151 0.72315722 0.5171318\n",
      "  0.94056155 0.3290451  0.65109893 0.24627123 0.26151365 0.48632826\n",
      "  0.88535683 0.5027598  0.75299531 0.44289955 0.48812654 0.2545923\n",
      "  1.00678394 0.58027179 0.74058334 0.21176852 0.56423652 0.33750794\n",
      "  0.17014425 0.58571577 0.07638868 0.97716504 0.64937977 0.34724261\n",
      "  0.69071204 0.60862692 0.97450014 1.02996943 0.9641087  0.59733196\n",
      "  0.9889902  0.52384472 0.30277775 0.         0.38458348 0.71403652\n",
      "  0.44020593 0.609224   0.7802447  0.64986816 0.66928551 0.62812166\n",
      "  0.25967532 0.45292259 0.57393467 0.86257174 0.41647918 0.1518536\n",
      "  0.10031417 0.74114854 0.10212346 0.56118953 0.49340758 0.51064072\n",
      "  0.26604138 0.63386811 0.59174569 0.69475728 0.73932093 0.22135222\n",
      "  0.86146032 0.78814854 0.70019874 0.89358324 0.60381752 0.50433373\n",
      "  0.60656255 0.36759288 0.97682666 0.66090124 0.57685811 0.15719816\n",
      "  0.74595435 0.90949874 0.92207471 0.65039607 0.84266514 0.80953053\n",
      "  0.22751907 0.83551243 1.06435952 0.91042628]\n",
      " [0.3312901  0.39341965 0.39180711 0.66730705 0.71394634 0.30475001\n",
      "  0.62681832 0.33829125 0.51510319 0.63350105 0.36063224 0.46421137\n",
      "  0.45956517 0.61932655 0.54463033 0.66254579 0.34563233 0.25798853\n",
      "  0.64130683 0.54711584 0.3326263  0.54561452 0.5221113  0.37535152\n",
      "  0.56775301 0.27852347 0.36847401 0.05962074 0.12513445 0.17484799\n",
      "  0.67949363 0.29839895 0.52726355 0.1731306  0.54269    0.52302552\n",
      "  0.50313765 0.41208663 0.37421637 0.65061813 0.28917068 0.52230887\n",
      "  0.33717453 0.29753899 0.63684161 0.69317861 0.6340893  0.26135009\n",
      "  0.66275564 0.18889665 0.28555549 0.38458348 0.         0.44614714\n",
      "  0.07498094 0.23146621 0.40662967 0.3104952  0.75802274 0.24951255\n",
      "  0.50302629 0.13830653 0.34567504 0.49073391 0.25374786 0.23530597\n",
      "  0.3162263  0.40220911 0.45040047 0.32672263 0.24102297 0.1938179\n",
      "  0.54072907 0.36081767 0.58584377 0.63396746 0.5314703  0.40364484\n",
      "  0.53605149 0.50831762 0.44113336 0.53706855 0.23340296 0.38834997\n",
      "  0.27437873 0.38950447 0.64162059 0.62981341 0.67020845 0.25057813\n",
      "  0.39381155 0.61994228 0.61968801 0.43158456 0.46357249 0.44133342\n",
      "  0.34364121 0.46845493 0.73391206 0.59168591]\n",
      " [0.4016414  0.83638401 0.05572412 1.11015408 1.15892034 0.18200904\n",
      "  1.07086692 0.11479217 0.89384604 0.87206773 0.80352055 0.71111908\n",
      "  0.90141923 0.86886089 0.75488764 1.10793536 0.50243253 0.65704044\n",
      "  0.89974361 0.96937029 0.13892877 0.73353371 0.92882766 0.28073788\n",
      "  0.81177906 0.21127699 0.41395737 0.43409575 0.33406769 0.6046602\n",
      "  0.8813845  0.66648215 0.89682576 0.54423466 0.98428695 0.95223751\n",
      "  0.74063312 0.82310659 0.74348799 0.85975414 0.24528241 0.95383669\n",
      "  0.21617256 0.6349994  0.82497064 0.87169575 0.8395674  0.20791648\n",
      "  0.87007387 0.26252922 0.42638092 0.71403652 0.44614714 0.\n",
      "  0.37460965 0.32268782 0.31161162 0.59998288 1.20416729 0.3246247\n",
      "  0.65990026 0.54644665 0.7405304  0.61179174 0.29920847 0.58014231\n",
      "  0.69427281 0.65471535 0.72336164 0.15328927 0.64953737 0.25253621\n",
      "  0.9433094  0.71748696 1.02805006 1.06352161 0.90424966 0.57950062\n",
      "  0.77369491 0.82012686 0.79002009 0.70070792 0.49267703 0.82213412\n",
      "  0.59284189 0.83487163 0.83428693 1.06643953 1.11609918 0.64489759\n",
      "  0.619614   0.89638365 0.87751163 0.81422894 0.55248826 0.59718171\n",
      "  0.52633496 0.61837455 0.91911861 0.82823901]\n",
      " [0.28235716 0.46201849 0.32114575 0.74179658 0.78776218 0.22982692\n",
      "  0.70103639 0.26480711 0.55721939 0.63861166 0.42914552 0.50445914\n",
      "  0.53432344 0.66426545 0.54044925 0.73614814 0.31703915 0.3027758\n",
      "  0.65142476 0.62121212 0.2578802  0.57651287 0.59422265 0.3376129\n",
      "  0.57246691 0.22319746 0.31909621 0.06725397 0.05139474 0.24839185\n",
      "  0.67723735 0.33158155 0.56650442 0.22992892 0.61046086 0.59769384\n",
      "  0.54273479 0.46486665 0.43820921 0.6492935  0.21738784 0.59712422\n",
      "  0.26426711 0.3190938  0.63047253 0.68616007 0.63151417 0.18636937\n",
      "  0.66131693 0.11450205 0.28640852 0.44020593 0.07498094 0.37460965\n",
      "  0.         0.16905634 0.34125775 0.31627871 0.83029926 0.18801811\n",
      "  0.52598225 0.1828454  0.39086305 0.46462701 0.22043198 0.28840604\n",
      "  0.38091608 0.40262234 0.49574387 0.26477198 0.2897705  0.12238274\n",
      "  0.61232943 0.39200173 0.65404365 0.69577711 0.57182576 0.4253116\n",
      "  0.53820504 0.52950029 0.47196969 0.52204546 0.2208242  0.45135106\n",
      "  0.2874989  0.46333646 0.63637968 0.694906   0.74334606 0.31746156\n",
      "  0.38649317 0.63413155 0.62916916 0.47376578 0.42959134 0.41988892\n",
      "  0.36228228 0.44724929 0.7292225  0.59524299]\n",
      " [0.12624247 0.56154209 0.28365038 0.86709279 0.90615628 0.14074652\n",
      "  0.8239901  0.21213205 0.57452624 0.56493627 0.52994197 0.66990164\n",
      "  0.6659368  0.83111345 0.45242766 0.85351983 0.19941846 0.35301336\n",
      "  0.58798844 0.76993778 0.18376102 0.73593874 0.75056619 0.41556001\n",
      "  0.50143583 0.27706291 0.15971792 0.18264063 0.12378186 0.4030483\n",
      "  0.58651987 0.35081838 0.5759902  0.39845937 0.70135754 0.74216945\n",
      "  0.70765418 0.51619071 0.60485036 0.56160941 0.08419039 0.73974335\n",
      "  0.1317332  0.31475603 0.53330538 0.58556664 0.54202488 0.12265276\n",
      "  0.57289923 0.1284041  0.42773756 0.609224   0.23146621 0.32268782\n",
      "  0.16905634 0.         0.17534233 0.27730548 0.93777729 0.01913457\n",
      "  0.67981771 0.26259213 0.42969293 0.33737514 0.32461151 0.45745239\n",
      "  0.5470664  0.33700681 0.6632145  0.28508289 0.35111856 0.15653375\n",
      "  0.76987936 0.39762581 0.74542844 0.76291883 0.58379389 0.5798956\n",
      "  0.46381128 0.49824889 0.4680745  0.41295099 0.17038487 0.53262664\n",
      "  0.27174554 0.58761329 0.54123896 0.77340853 0.85734986 0.48193714\n",
      "  0.30581451 0.58053778 0.56541228 0.49718184 0.28985521 0.30514409\n",
      "  0.51606325 0.33074949 0.63182228 0.52042657]\n",
      " [0.13481736 0.7174077  0.30097491 1.03099522 1.06640708 0.18166096\n",
      "  0.98711673 0.2436289  0.67904262 0.58314814 0.68721738 0.83131199\n",
      "  0.83402713 0.99409679 0.46450823 1.01369218 0.23404669 0.49516747\n",
      "  0.61624236 0.9432169  0.20781794 0.8886923  0.92551355 0.51007806\n",
      "  0.52874747 0.37697232 0.12466813 0.35747366 0.29217218 0.57823609\n",
      "  0.5815662  0.47567323 0.6743434  0.57110843 0.84956465 0.91429282\n",
      "  0.86800937 0.647465   0.77910471 0.56267224 0.13801096 0.91128806\n",
      "  0.11745621 0.42922368 0.52423858 0.56725245 0.54247071 0.20845557\n",
      "  0.57205871 0.26652025 0.57036778 0.7802447  0.40662967 0.31161162\n",
      "  0.34125775 0.17534233 0.         0.372848   1.09192152 0.15799691\n",
      "  0.82685003 0.42519094 0.55891916 0.30870305 0.44980784 0.62846317\n",
      "  0.72151912 0.3942767  0.8281443  0.35695993 0.49886849 0.28837372\n",
      "  0.94497643 0.50789484 0.89304848 0.89527514 0.6836313  0.72946312\n",
      "  0.49138386 0.56755295 0.56394888 0.4009797  0.29049682 0.68025041\n",
      "  0.38627284 0.75370794 0.53421016 0.91278424 1.01577438 0.65684913\n",
      "  0.35303686 0.62023619 0.59511958 0.611203   0.24754028 0.30580834\n",
      "  0.6662367  0.32231233 0.61457541 0.54132891]\n",
      " [0.23806371 0.39228889 0.55995149 0.71376378 0.73696417 0.41799442\n",
      "  0.66880444 0.48875814 0.3069575  0.323833   0.36876064 0.75537868\n",
      "  0.54417864 0.89856488 0.23653793 0.685537   0.15063856 0.16783298\n",
      "  0.33515001 0.68228674 0.46106223 0.84600145 0.69063684 0.64928536\n",
      "  0.2578054  0.52146089 0.2561198  0.25990585 0.3158671  0.39583624\n",
      "  0.36951226 0.11900445 0.3042973  0.45787512 0.50106848 0.64456994\n",
      "  0.79417382 0.28447668 0.61275265 0.34043521 0.35730437 0.63726371\n",
      "  0.39758474 0.0666886  0.32941838 0.3857595  0.32437279 0.39676933\n",
      "  0.35257645 0.37210797 0.59407349 0.64986816 0.3104952  0.59998288\n",
      "  0.31627871 0.27730548 0.372848   0.         0.74793634 0.2763631\n",
      "  0.8097605  0.19786057 0.19857315 0.23417405 0.53582665 0.51888089\n",
      "  0.55868737 0.09307639 0.73410373 0.54605983 0.18504379 0.39738998\n",
      "  0.71304103 0.13581973 0.54230653 0.52799492 0.31303361 0.7118279\n",
      "  0.2255574  0.22289138 0.19413775 0.24484234 0.10893939 0.33903147\n",
      "  0.0438862  0.46081325 0.33331532 0.55113133 0.68297473 0.49386333\n",
      "  0.0984608  0.31872369 0.31292267 0.23887524 0.24250363 0.17853743\n",
      "  0.65325658 0.19965302 0.42476171 0.28143096]\n",
      " [0.96595086 0.37624283 1.14974768 0.14624263 0.08369255 1.05193001\n",
      "  0.15932395 1.0950128  0.51881087 0.83659799 0.40794312 0.79885758\n",
      "  0.32069359 0.8180737  0.86120256 0.11092058 0.89672516 0.59815538\n",
      "  0.80217274 0.35452169 1.08543291 0.89756139 0.4296552  1.07734507\n",
      "  0.81216073 1.02321688 0.99298072 0.77578451 0.87471237 0.61210275\n",
      "  0.91364217 0.62994575 0.5423502  0.70104573 0.24688475 0.33431495\n",
      "  0.81685933 0.46750818 0.59451353 0.89177327 1.01749861 0.32323259\n",
      "  1.06733566 0.68183185 0.92032167 0.95612165 0.89236793 1.01154376\n",
      "  0.89881986 0.94433615 0.90868023 0.66928551 0.75802274 1.20416729\n",
      "  0.83029926 0.93777729 1.09192152 0.74793634 0.         0.94900532\n",
      "  0.92689669 0.6755697  0.54961079 0.96108035 0.96722387 0.7012882\n",
      "  0.60439886 0.78647796 0.7576871  1.07773297 0.59308562 0.95172289\n",
      "  0.43827632 0.62258394 0.20682587 0.27274567 0.53242161 0.88577058\n",
      "  0.8172604  0.68153018 0.61258929 0.92390063 0.80367606 0.41304236\n",
      "  0.71912349 0.37181248 0.91498464 0.22362317 0.09425682 0.61386121\n",
      "  0.82250891 0.76237656 0.79821765 0.53588229 0.98553215 0.91088348\n",
      "  0.87352861 0.92323333 0.96256632 0.82974201]\n",
      " [0.10941695 0.57280366 0.28812701 0.88039726 0.91864209 0.14296017\n",
      "  0.83709213 0.21656442 0.57691552 0.55667229 0.54146845 0.68902315\n",
      "  0.68023703 0.85024796 0.44295233 0.86596328 0.18863003 0.36088959\n",
      "  0.58086985 0.78598903 0.18617467 0.75484471 0.76753013 0.42964966\n",
      "  0.49381715 0.29079061 0.14185702 0.19948169 0.14291062 0.42025897\n",
      "  0.5760806  0.35543719 0.57749022 0.41722337 0.71124083 0.75776394\n",
      "  0.72676377 0.52265827 0.6232327  0.55163657 0.08106619 0.75513259\n",
      "  0.12507191 0.31730008 0.52226733 0.57391795 0.53190829 0.13059199\n",
      "  0.56279223 0.14458487 0.44594503 0.62812166 0.24951255 0.3246247\n",
      "  0.18801811 0.01913457 0.15799691 0.2763631  0.94900532 0.\n",
      "  0.69845854 0.27480904 0.43549969 0.3233555  0.34118554 0.47637925\n",
      "  0.56539388 0.3315248  0.68234393 0.29579979 0.36013805 0.17241353\n",
      "  0.78697957 0.40010805 0.75524787 0.77005814 0.58553221 0.59861812\n",
      "  0.45600133 0.49550568 0.46877551 0.40095765 0.17168979 0.54214438\n",
      "  0.27384453 0.60132309 0.53042222 0.78176035 0.86941587 0.50007519\n",
      "  0.29872445 0.57464045 0.55835668 0.50074304 0.27432662 0.29318721\n",
      "  0.53478316 0.31830657 0.62042521 0.51223417]\n",
      " [0.8032965  0.70066546 0.61671435 0.78605095 0.85027294 0.65511581\n",
      "  0.76767346 0.62394104 0.94201692 1.1277637  0.67934756 0.13065658\n",
      "  0.62576145 0.22843823 1.04589074 0.81635502 0.84211521 0.71141492\n",
      "  1.13006064 0.57927638 0.64861681 0.07677834 0.50664432 0.38303142\n",
      "  1.06323224 0.46955502 0.83869608 0.56015744 0.55917605 0.45070234\n",
      "  1.17902186 0.76916788 0.96205726 0.35926075 0.8197306  0.59313139\n",
      "  0.12709195 0.81297078 0.33600296 1.1497571  0.68889326 0.60376601\n",
      "  0.71693555 0.78463697 1.13854453 1.19493955 1.13406972 0.62015189\n",
      "  1.16188528 0.56207138 0.25656022 0.25967532 0.50302629 0.65990026\n",
      "  0.52598225 0.67981771 0.82685003 0.8097605  0.92689669 0.69845854\n",
      "  0.         0.61723913 0.7835004  0.98940383 0.38315659 0.3067957\n",
      "  0.34445229 0.90261639 0.1711074  0.51573136 0.68829208 0.53866502\n",
      "  0.50536496 0.82910669 0.84919078 0.94842894 0.96250206 0.10067193\n",
      "  1.03390405 0.9850272  0.90375271 1.03998015 0.73579977 0.74141516\n",
      "  0.77028665 0.62074396 1.14286169 0.91725082 0.83526912 0.37373029\n",
      "  0.89658504 1.10378607 1.10957998 0.8669221  0.95554993 0.94232418\n",
      "  0.16411858 0.96963139 1.23452221 1.08782795]\n",
      " [0.31375457 0.29954709 0.49565019 0.60623844 0.64383318 0.38033554\n",
      "  0.56266081 0.4325182  0.37784612 0.51052478 0.26762674 0.55786228\n",
      "  0.40953106 0.70095699 0.43340269 0.5911563  0.28479498 0.12105163\n",
      "  0.51383324 0.52763268 0.41714095 0.65002431 0.52177577 0.51194435\n",
      "  0.44613427 0.40562784 0.34763531 0.11613594 0.21340384 0.20050741\n",
      "  0.56344184 0.16098491 0.38928706 0.26123219 0.44249291 0.49520437\n",
      "  0.59658332 0.28212653 0.41990854 0.53396794 0.34202662 0.49084781\n",
      "  0.39179887 0.16763955 0.52624895 0.58240992 0.51909421 0.34287247\n",
      "  0.54604903 0.28493418 0.4193483  0.45292259 0.13830653 0.54644665\n",
      "  0.1828454  0.26259213 0.42519094 0.19786057 0.6755697  0.27480904\n",
      "  0.61723913 0.         0.20933362 0.41400694 0.39082172 0.32145439\n",
      "  0.3642365  0.29040203 0.53624467 0.44724295 0.10692693 0.30033257\n",
      "  0.54315862 0.22353322 0.48661369 0.51722616 0.39373231 0.52134807\n",
      "  0.41771353 0.37438242 0.30354109 0.44066889 0.16396279 0.27654605\n",
      "  0.15554992 0.32857006 0.52958484 0.52067247 0.5947727  0.29815262\n",
      "  0.29304175 0.48955194 0.49296542 0.29420204 0.40267855 0.3595001\n",
      "  0.46561586 0.3846544  0.61985034 0.47082932]\n",
      " [0.42664801 0.20776967 0.69289238 0.52287076 0.54162402 0.56448586\n",
      "  0.47816813 0.62575201 0.16976902 0.38504341 0.19204522 0.70080465\n",
      "  0.37340334 0.82150422 0.35373778 0.49102237 0.34849831 0.08830021\n",
      "  0.37225744 0.52144677 0.60504697 0.80247334 0.5450831  0.72077103\n",
      "  0.33238201 0.61405979 0.44971465 0.32361665 0.41537452 0.33324241\n",
      "  0.45465045 0.08339537 0.184143   0.42727388 0.3027338  0.48046096\n",
      "  0.73727429 0.08854714 0.51838512 0.42605456 0.51387997 0.47094936\n",
      "  0.56047497 0.1333113  0.43615315 0.48656516 0.41746266 0.53282449\n",
      "  0.4368647  0.48503132 0.61597387 0.57393467 0.34567504 0.7405304\n",
      "  0.39086305 0.42969293 0.55891916 0.19857315 0.54961079 0.43549969\n",
      "  0.7835004  0.20933362 0.         0.41770781 0.59933303 0.47672433\n",
      "  0.47416899 0.24496728 0.67100713 0.65333126 0.10505731 0.50372807\n",
      "  0.56787558 0.08127345 0.34374323 0.33664132 0.18717503 0.69507165\n",
      "  0.3190872  0.21758119 0.12708246 0.39788379 0.26969944 0.14635617\n",
      "  0.17374039 0.29466387 0.43520796 0.35488686 0.48707135 0.42078532\n",
      "  0.27653863 0.33840061 0.35593019 0.08700089 0.43696859 0.3649413\n",
      "  0.64637986 0.38029405 0.51232467 0.35652574]\n",
      " [0.21832224 0.62148788 0.58990673 0.94039651 0.95864058 0.44750839\n",
      "  0.89560526 0.52213619 0.46749285 0.28099002 0.60006326 0.9543348\n",
      "  0.77757942 1.10625597 0.16537327 0.90847167 0.14759276 0.40174472\n",
      "  0.31861943 0.91645877 0.48670563 1.03579706 0.92368221 0.75285379\n",
      "  0.23578083 0.61411246 0.1985451  0.43159401 0.43918846 0.61396109\n",
      "  0.27289322 0.34785452 0.45290602 0.65814306 0.71601897 0.87868655\n",
      "  0.99333133 0.49408461 0.83372547 0.25480414 0.38170814 0.87126945\n",
      "  0.39726534 0.29749021 0.21553736 0.25996204 0.23472574 0.44958471\n",
      "  0.26378699 0.46502514 0.74934395 0.86257174 0.49073391 0.61179174\n",
      "  0.46462701 0.33737514 0.30870305 0.23417405 0.96108035 0.3233555\n",
      "  0.98940383 0.41400694 0.41770781 0.         0.65896504 0.72101233\n",
      "  0.77753802 0.17463599 0.93826378 0.61663188 0.41919766 0.49333216\n",
      "  0.94595312 0.33975808 0.75432359 0.71788116 0.46354986 0.88887717\n",
      "  0.20245021 0.31689378 0.3554909  0.09317972 0.25947856 0.56365329\n",
      "  0.27588169 0.69445635 0.225551   0.7506878  0.90380673 0.71078623\n",
      "  0.14154588 0.33091182 0.29951052 0.42733397 0.06143188 0.05579363\n",
      "  0.8263813  0.0378513  0.30739627 0.24270053]\n",
      " [0.45057135 0.62641507 0.24795435 0.85595492 0.91093267 0.27315269\n",
      "  0.8208991  0.24236921 0.76853964 0.85621336 0.59481536 0.41538305\n",
      "  0.64994296 0.57619191 0.75387845 0.86294091 0.51448886 0.51142434\n",
      "  0.87066612 0.69316077 0.26556066 0.45107626 0.64468699 0.12173397\n",
      "  0.79019452 0.09028593 0.48233703 0.28360407 0.22497307 0.35570054\n",
      "  0.89080854 0.54788872 0.78003733 0.2702593  0.77480522 0.68209351\n",
      "  0.44713291 0.66469879 0.45203039 0.86361678 0.31366846 0.68590564\n",
      "  0.33624794 0.53895681 0.8415679  0.89628316 0.84519194 0.24135234\n",
      "  0.87549603 0.19663944 0.1312829  0.41647918 0.25374786 0.29920847\n",
      "  0.22043198 0.32461151 0.44980784 0.53582665 0.96722387 0.34118554\n",
      "  0.38315659 0.39082172 0.59933303 0.65896504 0.         0.29201455\n",
      "  0.40753767 0.61979284 0.42511512 0.14594508 0.49477023 0.16922562\n",
      "  0.65703514 0.60947462 0.8159904  0.87737576 0.7845536  0.29165887\n",
      "  0.75504722 0.7497939  0.68984345 0.72724603 0.43577139 0.63275639\n",
      "  0.50792803 0.5970028  0.84824099 0.86734481 0.87466524 0.36805038\n",
      "  0.60000356 0.85422749 0.8482906  0.68493406 0.61412695 0.62104153\n",
      "  0.23289966 0.64786396 0.94079329 0.81238468]\n",
      " [0.56559992 0.41036425 0.52534249 0.57799436 0.63690287 0.49210607\n",
      "  0.54719227 0.4965704  0.63609305 0.82871952 0.38496279 0.23649951\n",
      "  0.38081139 0.38538535 0.75484759 0.59251634 0.57851623 0.40622025\n",
      "  0.82819448 0.40287517 0.5056872  0.33028066 0.35267486 0.38515107\n",
      "  0.76548496 0.37086975 0.60277502 0.29450931 0.33631084 0.14410114\n",
      "  0.88428998 0.46571362 0.65567834 0.06292005 0.54484701 0.3952643\n",
      "  0.27532795 0.50843168 0.1636264  0.85474012 0.49831423 0.40054819\n",
      "  0.54053015 0.48582789 0.84770211 0.90386086 0.84023302 0.44855066\n",
      "  0.86677767 0.37412223 0.20807951 0.1518536  0.23530597 0.58014231\n",
      "  0.28840604 0.45745239 0.62846317 0.51888089 0.7012882  0.47637925\n",
      "  0.3067957  0.32145439 0.47672433 0.72101233 0.29201455 0.\n",
      "  0.11554827 0.61171781 0.21731763 0.43015807 0.38282302 0.3626539\n",
      "  0.36529745 0.52438041 0.58045547 0.66612051 0.65636698 0.22212634\n",
      "  0.73840993 0.68055376 0.59772871 0.75873895 0.46154427 0.44257248\n",
      "  0.47698777 0.34790598 0.85101254 0.64272716 0.60709459 0.08783615\n",
      "  0.61176303 0.80037036 0.8083174  0.56023254 0.69743412 0.66940631\n",
      "  0.18488878 0.6959869  0.94099324 0.79039414]\n",
      " [0.64480378 0.35885987 0.63918443 0.4740439  0.5352011  0.59738164\n",
      "  0.44688255 0.6073884  0.61773164 0.84866873 0.34029093 0.23574321\n",
      "  0.28888963 0.34792506 0.78846144 0.49396009 0.64216319 0.41978591\n",
      "  0.84211777 0.28958805 0.61418096 0.34198427 0.23715809 0.4977277\n",
      "  0.78878395 0.48589428 0.68178358 0.37112319 0.43147428 0.16373508\n",
      "  0.91074664 0.48340055 0.64030592 0.15503838 0.47556006 0.28571263\n",
      "  0.26882565 0.48559436 0.0581154  0.88116394 0.59697531 0.29243085\n",
      "  0.64170811 0.51412554 0.88006706 0.93514713 0.86861656 0.55324573\n",
      "  0.8928981  0.47773539 0.3165665  0.10031417 0.3162263  0.69427281\n",
      "  0.38091608 0.5470664  0.72151912 0.55868737 0.60439886 0.56539388\n",
      "  0.34445229 0.3642365  0.47416899 0.77753802 0.40753767 0.11554827\n",
      "  0.         0.6486552  0.20089186 0.54517264 0.3961696  0.46930372\n",
      "  0.24984551 0.53560776 0.50616351 0.60398178 0.63909772 0.28481932\n",
      "  0.7659422  0.68915423 0.60069513 0.80337088 0.52121114 0.40532824\n",
      "  0.51498481 0.27631403 0.88200631 0.5733264  0.51036119 0.06742251\n",
      "  0.65598793 0.81054534 0.82393274 0.55012548 0.7617142  0.72346837\n",
      "  0.2692451  0.74883036 0.96850091 0.8138419 ]\n",
      " [0.26431117 0.45130307 0.61964945 0.76770031 0.78451901 0.47416299\n",
      "  0.72305777 0.54807648 0.30185434 0.23642054 0.43203493 0.84819427\n",
      "  0.6121287  0.99035705 0.14346425 0.73464931 0.16065218 0.2427489\n",
      "  0.25339881 0.75546898 0.51726494 0.93907436 0.76933282 0.72995005\n",
      "  0.17044066 0.59816214 0.26991259 0.34977718 0.39630791 0.48668279\n",
      "  0.27728758 0.1823918  0.29116948 0.55086856 0.54142191 0.71618283\n",
      "  0.88695111 0.31947514 0.70181276 0.24849089 0.40944515 0.70785359\n",
      "  0.4431108  0.13796406 0.23634205 0.29268534 0.23189821 0.45958745\n",
      "  0.26062022 0.44597429 0.68415586 0.74114854 0.40220911 0.65471535\n",
      "  0.40262234 0.33700681 0.3942767  0.09307639 0.78647796 0.3315248\n",
      "  0.90261639 0.29040203 0.24496728 0.17463599 0.61979284 0.61171781\n",
      "  0.6486552  0.         0.82651783 0.61730636 0.263482   0.47272278\n",
      "  0.79197062 0.16559959 0.57970255 0.5464283  0.30138555 0.80446438\n",
      "  0.13558278 0.17327636 0.18607584 0.15933852 0.18430025 0.39132131\n",
      "  0.13495563 0.53019273 0.24029744 0.57735161 0.72959459 0.58460709\n",
      "  0.04271556 0.24358079 0.23077254 0.25395322 0.20464614 0.1258028\n",
      "  0.7455281  0.13681019 0.33200039 0.19270611]\n",
      " [0.77725743 0.55761572 0.67302294 0.61580004 0.6801667  0.67451343\n",
      "  0.59875928 0.66195859 0.81822752 1.03784099 0.54049249 0.04117053\n",
      "  0.46370991 0.16901475 0.96906899 0.64752188 0.79522651 0.61007252\n",
      "  1.03425708 0.40835971 0.67902749 0.14525098 0.33553913 0.47062617\n",
      "  0.97596061 0.51511944 0.81425556 0.50998469 0.53962244 0.3440809\n",
      "  1.09631977 0.67223998 0.84049841 0.28012968 0.66470565 0.42344437\n",
      "  0.06807034 0.68625808 0.17557275 1.0667001  0.69285019 0.43448304\n",
      "  0.73000672 0.69723634 1.06172454 1.11763695 1.05290039 0.63363656\n",
      "  1.07864314 0.56412156 0.29744265 0.10212346 0.45040047 0.72336164\n",
      "  0.49574387 0.6632145  0.8281443  0.73410373 0.7576871  0.68234393\n",
      "  0.1711074  0.53624467 0.67100713 0.93826378 0.42511512 0.21731763\n",
      "  0.20089186 0.82651783 0.         0.57060847 0.58631357 0.54671212\n",
      "  0.33447346 0.7278133  0.69103535 0.79573568 0.83951313 0.16746233\n",
      "  0.95052832 0.88313878 0.79642622 0.97541594 0.67881896 0.60601123\n",
      "  0.69156395 0.46914421 1.06460328 0.76081548 0.66689787 0.25047116\n",
      "  0.82815516 1.00424318 1.0152353  0.74920928 0.9137828  0.88672347\n",
      "  0.2015083  0.91329273 1.15351981 1.00099656]\n",
      " [0.39845263 0.71960176 0.10279807 0.97572336 1.02738947 0.17712243\n",
      "  0.93815151 0.1175084  0.8166795  0.84897465 0.68691632 0.55945346\n",
      "  0.76727858 0.71866645 0.73742971 0.97754988 0.4841951  0.56589333\n",
      "  0.87027993 0.82512926 0.15063656 0.58740413 0.78126008 0.15529148\n",
      "  0.78474223 0.05928914 0.42281814 0.33111392 0.23901782 0.46880077\n",
      "  0.87154811 0.58816087 0.82378497 0.39863999 0.86905149 0.81047037\n",
      "  0.58994011 0.7293667  0.59278775 0.84669072 0.23764829 0.8129991\n",
      "  0.23981259 0.5665569  0.81802336 0.86967937 0.82710524 0.16704892\n",
      "  0.85798074 0.17432917 0.27438465 0.56118953 0.32672263 0.15328927\n",
      "  0.26477198 0.28508289 0.35695993 0.54605983 1.07773297 0.29579979\n",
      "  0.51573136 0.44724295 0.65333126 0.61663188 0.14594508 0.43015807\n",
      "  0.54517264 0.61730636 0.57060847 0.         0.55403172 0.15115897\n",
      "  0.79490717 0.6454679  0.91196218 0.95952156 0.82991237 0.43062803\n",
      "  0.74745771 0.76859207 0.72328284 0.69663815 0.43772585 0.71430289\n",
      "  0.52840981 0.70604266 0.8261021  0.95650167 0.98732385 0.4991482\n",
      "  0.58905404 0.86021824 0.84764474 0.73396378 0.563512   0.58892834\n",
      "  0.37524018 0.61379421 0.91622324 0.80443931]\n",
      " [0.3740732  0.22050672 0.59984749 0.54069756 0.57070309 0.47862489\n",
      "  0.49594092 0.53500865 0.2748258  0.45266877 0.19246838 0.61331672\n",
      "  0.36104542 0.74341161 0.39654719 0.51820908 0.31670143 0.0237635\n",
      "  0.44794484 0.49727132 0.51730594 0.71212079 0.506705   0.61634103\n",
      "  0.39268138 0.512478   0.40306673 0.2229417  0.3186567  0.24275226\n",
      "  0.51491097 0.08735834 0.28860891 0.32950068 0.35168323 0.45979607\n",
      "  0.65085953 0.17542272 0.44584796 0.48537873 0.43409116 0.45275502\n",
      "  0.48276579 0.12561611 0.48650139 0.54074606 0.47338735 0.44359814\n",
      "  0.49703145 0.38971783 0.51192881 0.49340758 0.24102297 0.64953737\n",
      "  0.2897705  0.35111856 0.49886849 0.18504379 0.59308562 0.36013805\n",
      "  0.68829208 0.10692693 0.10505731 0.41919766 0.49477023 0.38282302\n",
      "  0.3961696  0.263482   0.58631357 0.55403172 0.         0.40632855\n",
      "  0.52924251 0.1418827  0.39554006 0.41479784 0.29203045 0.59713853\n",
      "  0.37088832 0.29797044 0.21565604 0.42272183 0.21170672 0.18225557\n",
      "  0.14413096 0.27738642 0.48774193 0.42251371 0.51873661 0.33673123\n",
      "  0.28156541 0.41845744 0.42899938 0.19180089 0.42356045 0.36350775\n",
      "  0.54619967 0.38456669 0.57277439 0.41772816]\n",
      " [0.28181178 0.5843966  0.1987799  0.86000062 0.90751064 0.1296883\n",
      "  0.82000775 0.14547106 0.66588424 0.70726706 0.55152357 0.54656462\n",
      "  0.65163808 0.70983666 0.5992868  0.85623995 0.3518425  0.41692925\n",
      "  0.72610798 0.72914189 0.14561544 0.60044038 0.69554168 0.26124932\n",
      "  0.64209475 0.12556884 0.3131499  0.1849237  0.08838909 0.35823972\n",
      "  0.73531573 0.43718127 0.67271471 0.31432916 0.73281472 0.7086605\n",
      "  0.58237624 0.58169065 0.52369213 0.70922814 0.15036449 0.70916904\n",
      "  0.18341403 0.41556753 0.6838198  0.73733945 0.69013331 0.08712501\n",
      "  0.72084256 0.0283262  0.28242389 0.51064072 0.1938179  0.25253621\n",
      "  0.12238274 0.15653375 0.28837372 0.39738998 0.95172289 0.17241353\n",
      "  0.53866502 0.30033257 0.50372807 0.49333216 0.16922562 0.3626539\n",
      "  0.46930372 0.47272278 0.54671212 0.15115897 0.40632855 0.\n",
      "  0.71206208 0.4943091  0.77641792 0.81649022 0.67891356 0.44109258\n",
      "  0.60548447 0.61914789 0.57220163 0.56594406 0.29019956 0.57285626\n",
      "  0.37792581 0.58314838 0.6911824  0.81676169 0.86402027 0.41193095\n",
      "  0.44754727 0.71400473 0.70348795 0.58339491 0.44636718 0.45855403\n",
      "  0.3779302  0.4848194  0.78290394 0.66284947]\n",
      " [0.85140365 0.37798397 0.88801252 0.29228268 0.35649216 0.83745449\n",
      "  0.28575658 0.85335644 0.66206625 0.9508362  0.38109011 0.37471792\n",
      "  0.21609394 0.38017816 0.91821611 0.33310273 0.82699767 0.54926601\n",
      "  0.9332974  0.0857857  0.85766725 0.46591463 0.02280256 0.74243232\n",
      "  0.9002031  0.73564556 0.88700697 0.58751569 0.66372397 0.36686029\n",
      "  1.02214622 0.61046486 0.68847743 0.40003808 0.4180105  0.12003074\n",
      "  0.38643934 0.53848758 0.20773949 0.99376135 0.82945914 0.13394019\n",
      "  0.87657339 0.65465082 1.00346817 1.05442016 0.98533358 0.79311954\n",
      "  1.004431   0.71743386 0.55876527 0.26604138 0.54072907 0.9433094\n",
      "  0.61232943 0.76987936 0.94497643 0.71304103 0.43827632 0.78697957\n",
      "  0.50536496 0.54315862 0.56787558 0.94595312 0.65703514 0.36529745\n",
      "  0.24984551 0.79197062 0.33447346 0.79490717 0.52924251 0.71206208\n",
      "  0.         0.64557482 0.42816315 0.54658828 0.68346334 0.48569792\n",
      "  0.88619244 0.78001034 0.68882138 0.95128944 0.70700834 0.44402073\n",
      "  0.67032928 0.27754751 1.00286336 0.49963455 0.3546507  0.3003609\n",
      "  0.8105818  0.89631333 0.91927248 0.61905215 0.94283196 0.89017746\n",
      "  0.49272861 0.91251533 1.079591   0.92420439]\n",
      " [0.37331558 0.28903364 0.67335184 0.60247081 0.61896626 0.53712609\n",
      "  0.55793169 0.60369669 0.17690421 0.31397784 0.27286104 0.75514735\n",
      "  0.45425075 0.88344447 0.27351484 0.56904993 0.28521427 0.11826706\n",
      "  0.30670355 0.60151495 0.57932455 0.8539484  0.62277349 0.72897565\n",
      "  0.25722073 0.61222003 0.39192648 0.32627239 0.4069156  0.38458972\n",
      "  0.3801153  0.06254833 0.17962225 0.46989431 0.37661777 0.56084195\n",
      "  0.79261415 0.15509276 0.58327228 0.35099532 0.48079988 0.55155393\n",
      "  0.5243642  0.08287652 0.35798541 0.40978332 0.34101956 0.5102626\n",
      "  0.362216   0.47237214 0.64265572 0.63386811 0.36081767 0.71748696\n",
      "  0.39200173 0.39762581 0.50789484 0.13581973 0.62258394 0.40010805\n",
      "  0.82910669 0.22353322 0.08127345 0.33975808 0.60947462 0.52438041\n",
      "  0.53560776 0.16559959 0.7278133  0.6454679  0.1418827  0.4943091\n",
      "  0.64557482 0.         0.41579253 0.3931101  0.18678977 0.73669852\n",
      "  0.24069626 0.15617782 0.08044298 0.31667011 0.2285523  0.22686667\n",
      "  0.12629964 0.3746849  0.35768896 0.4186456  0.5640816  0.47777934\n",
      "  0.19996166 0.2766027  0.28832498 0.10330825 0.36328935 0.28843617\n",
      "  0.68402426 0.30205726 0.43807421 0.28193398]\n",
      " [0.76456896 0.19242633 0.97511727 0.22304323 0.21558297 0.86682568\n",
      "  0.18767303 0.91588403 0.32152165 0.64230918 0.22522052 0.73076477\n",
      "  0.22943158 0.79061659 0.65819357 0.17428323 0.69183932 0.39788296\n",
      "  0.61097762 0.34670096 0.90282639 0.83624491 0.41064344 0.93274326\n",
      "  0.61260992 0.86094816 0.79027328 0.59435265 0.69446252 0.46433494\n",
      "  0.71950173 0.4251188  0.34679067 0.56429112 0.04413285 0.30821386\n",
      "  0.75689985 0.26070339 0.51590423 0.69599016 0.82725492 0.29430036\n",
      "  0.87656458 0.47660399 0.72163915 0.76060194 0.69493615 0.82848683\n",
      "  0.70385768 0.76567374 0.7788479  0.59174569 0.58584377 1.02805006\n",
      "  0.65404365 0.74542844 0.89304848 0.54230653 0.20682587 0.75524787\n",
      "  0.84919078 0.48661369 0.34374323 0.75432359 0.8159904  0.58045547\n",
      "  0.50616351 0.57970255 0.69103535 0.91196218 0.39554006 0.77641792\n",
      "  0.42816315 0.41579253 0.         0.11967486 0.33764237 0.78915282\n",
      "  0.61508332 0.48103596 0.40780014 0.7187905  0.60307363 0.21328642\n",
      "  0.51499885 0.2329211  0.71700954 0.07194589 0.16150336 0.4941714\n",
      "  0.61569568 0.57095476 0.60462532 0.33019653 0.77886669 0.70405892\n",
      "  0.7636941  0.7164811  0.77100837 0.63155426]\n",
      " [0.76224182 0.2570958  1.01286294 0.33211685 0.31000897 0.89330814\n",
      "  0.30187067 0.94928218 0.25577776 0.56670384 0.28591764 0.83451262\n",
      "  0.34169757 0.90356425 0.60130469 0.27920791 0.67820536 0.41018007\n",
      "  0.53091584 0.46598495 0.93209869 0.94082113 0.52849787 0.99726456\n",
      "  0.54702736 0.9124805  0.78350532 0.63158388 0.73049128 0.53787589\n",
      "  0.64337246 0.41965176 0.27662376 0.64143181 0.13237933 0.42690161\n",
      "  0.86268586 0.24822284 0.62019513 0.62260118 0.84677923 0.41300937\n",
      "  0.89448921 0.46682654 0.65348839 0.68653083 0.62448663 0.85831852\n",
      "  0.62907948 0.80210397 0.85526889 0.69475728 0.63396746 1.06352161\n",
      "  0.69577711 0.76291883 0.89527514 0.52799492 0.27274567 0.77005814\n",
      "  0.94842894 0.51722616 0.33664132 0.71788116 0.87737576 0.66612051\n",
      "  0.60398178 0.5464283  0.79573568 0.95952156 0.41479784 0.81649022\n",
      "  0.54658828 0.3931101  0.11967486 0.         0.2661719  0.88194092\n",
      "  0.55611063 0.41923098 0.36242113 0.6693587  0.60631656 0.24567786\n",
      "  0.50917134 0.32781344 0.64748283 0.05464428 0.26169035 0.58302714\n",
      "  0.58625753 0.49136291 0.52809963 0.29343652 0.75076021 0.67216032\n",
      "  0.8509832  0.68038814 0.69103175 0.56294281]\n",
      " [0.54908211 0.30673795 0.86007654 0.55629461 0.5531321  0.72367886\n",
      "  0.51609898 0.79048539 0.02177461 0.30505104 0.31078929 0.87206258\n",
      "  0.46973232 0.98067198 0.33598964 0.5109303  0.45231959 0.27356415\n",
      "  0.27344488 0.6201431  0.76599141 0.97614211 0.66148989 0.905581\n",
      "  0.28097307 0.79425248 0.56263727 0.50486363 0.59090884 0.51229101\n",
      "  0.38226547 0.24175164 0.01074539 0.6104157  0.31251489 0.57729296\n",
      "  0.907024   0.15400513 0.67649539 0.35957415 0.66647518 0.56513602\n",
      "  0.70898343 0.26931736 0.388199   0.42406629 0.35995868 0.69704695\n",
      "  0.36696219 0.65780248 0.80297583 0.73932093 0.5314703  0.90424966\n",
      "  0.57182576 0.58379389 0.6836313  0.31303361 0.53242161 0.58553221\n",
      "  0.96250206 0.39373231 0.18717503 0.46354986 0.7845536  0.65636698\n",
      "  0.63909772 0.30138555 0.83951313 0.82991237 0.29203045 0.67891356\n",
      "  0.68346334 0.18678977 0.33764237 0.2661719  0.         0.87710261\n",
      "  0.29047288 0.15380349 0.11968265 0.40655997 0.41387638 0.24360551\n",
      "  0.31204838 0.40872657 0.38264412 0.30941439 0.49911996 0.59272298\n",
      "  0.34380068 0.23344102 0.2671167  0.10023133 0.50379091 0.42336251\n",
      "  0.83057139 0.42719168 0.433366   0.29756727]\n",
      " [0.70296726 0.6288345  0.53307632 0.75018293 0.81317671 0.56047774\n",
      "  0.72691003 0.53400036 0.85708917 1.0314785  0.60498544 0.14074326\n",
      "  0.57352044 0.28985925 0.9475228  0.77488613 0.74153726 0.61985772\n",
      "  1.0350577  0.5503397  0.55665792 0.1600611  0.48245465 0.31210124\n",
      "  0.96657128 0.38055011 0.73849828 0.46024452 0.4587862  0.36529632\n",
      "  1.08131717 0.67591331 0.87604147 0.26792817 0.75658288 0.55724186\n",
      "  0.16352061 0.73032104 0.2923737  1.05216101 0.59145666 0.56629118\n",
      "  0.62127007 0.68898493 1.04002087 1.0964014  1.03619477 0.52407317\n",
      "  1.06429879 0.46373284 0.16139106 0.22135222 0.40364484 0.57950062\n",
      "  0.4253116  0.5798956  0.72946312 0.7118279  0.88577058 0.59861812\n",
      "  0.10067193 0.52134807 0.69507165 0.88887717 0.29165887 0.22212634\n",
      "  0.28481932 0.80446438 0.16746233 0.43062803 0.59713853 0.44109258\n",
      "  0.48569792 0.73669852 0.78915282 0.88194092 0.87710261 0.\n",
      "  0.93659759 0.89204394 0.81276925 0.94022095 0.63590148 0.66413167\n",
      "  0.67301493 0.55701114 1.04453324 0.85472773 0.79231102 0.29936384\n",
      "  0.79744159 1.00977627 1.01429051 0.77989013 0.85487818 0.84203028\n",
      "  0.06383511 0.86935432 1.13646446 0.99102606]\n",
      " [0.37342912 0.52295689 0.74257196 0.82203376 0.82883795 0.59636496\n",
      "  0.7788242  0.67143036 0.30051289 0.10178259 0.51047791 0.97421126\n",
      "  0.69129067 1.11158799 0.04593194 0.78241261 0.27126559 0.34775065\n",
      "  0.12619153 0.84032628 0.63887296 1.06769711 0.86338993 0.86418033\n",
      "  0.03808668 0.7310533  0.36878039 0.48477224 0.53105091 0.60736964\n",
      "  0.14589539 0.28366309 0.27985478 0.67888067 0.58266857 0.7990678\n",
      "  1.01266534 0.36977887 0.81660382 0.11633026 0.53017751 0.78922928\n",
      "  0.55842239 0.25329541 0.11729018 0.17001748 0.10268022 0.58614266\n",
      "  0.12837486 0.57826488 0.81918332 0.86146032 0.53605149 0.77369491\n",
      "  0.53820504 0.46381128 0.49138386 0.2255574  0.8172604  0.45600133\n",
      "  1.03390405 0.41771353 0.3190872  0.20245021 0.75504722 0.73840993\n",
      "  0.7659422  0.13558278 0.95052832 0.74745771 0.37088832 0.60548447\n",
      "  0.88619244 0.24069626 0.61508332 0.55611063 0.29047288 0.93659759\n",
      "  0.         0.13687988 0.21048127 0.12286599 0.31929264 0.45737138\n",
      "  0.2636336  0.61366926 0.11730252 0.5967668  0.7737505  0.70426298\n",
      "  0.15841457 0.12999707 0.10428661 0.28927406 0.25834369 0.18631956\n",
      "  0.87852519 0.17489064 0.20301678 0.0574426 ]\n",
      " [0.43692689 0.40639798 0.78175043 0.69230368 0.6958677  0.63827955\n",
      "  0.64993664 0.71032584 0.16371197 0.17154892 0.3991222  0.91097433\n",
      "  0.57598609 1.03704165 0.18222327 0.65067634 0.33379253 0.27441698\n",
      "  0.15474922 0.7270435  0.68149124 1.01008889 0.75732947 0.86647313\n",
      "  0.13170918 0.74213737 0.44315494 0.46708073 0.53552837 0.54050095\n",
      "  0.24594862 0.21613212 0.14313479 0.62576812 0.45047216 0.68483484\n",
      "  0.94829005 0.24681859 0.73502955 0.21950973 0.57552859 0.67404797\n",
      "  0.6122646  0.21145893 0.24097327 0.283487   0.21568076 0.61903261\n",
      "  0.2289048  0.59439925 0.79302835 0.78814854 0.50831762 0.82012686\n",
      "  0.52950029 0.49824889 0.56755295 0.22289138 0.68153018 0.49550568\n",
      "  0.9850272  0.37438242 0.21758119 0.31689378 0.7497939  0.68055376\n",
      "  0.68915423 0.17327636 0.88313878 0.76859207 0.29797044 0.61914789\n",
      "  0.78001034 0.15617782 0.48103596 0.41923098 0.15380349 0.89204394\n",
      "  0.13687988 0.         0.09150195 0.25357197 0.33180405 0.33949731\n",
      "  0.24275293 0.50309599 0.23694623 0.46026169 0.64099611 0.63280019\n",
      "  0.21494238 0.12139339 0.13934541 0.16410471 0.36297161 0.28294963\n",
      "  0.83848383 0.28227145 0.30191119 0.15192238]\n",
      " [0.42941823 0.31678959 0.7474675  0.61163898 0.61983681 0.6085934\n",
      "  0.56835509 0.67710327 0.11674539 0.26209388 0.30821243 0.82533657\n",
      "  0.48631746 0.94829399 0.25162949 0.57266676 0.33295326 0.1929703\n",
      "  0.24609868 0.63700269 0.6512869  0.92583898 0.66611751 0.80918395\n",
      "  0.21561085 0.69133404 0.44312    0.40651134 0.48538826 0.45576184\n",
      "  0.33484632 0.14273481 0.11049338 0.54514989 0.37357064 0.5949964\n",
      "  0.86222087 0.15976071 0.64542376 0.30734916 0.54983912 0.58446387\n",
      "  0.59129379 0.15691534 0.32373988 0.37018462 0.30131089 0.58396472\n",
      "  0.31741331 0.54954666 0.72221184 0.70019874 0.44113336 0.79002009\n",
      "  0.47196969 0.4680745  0.56394888 0.19413775 0.61258929 0.46877551\n",
      "  0.90375271 0.30354109 0.12708246 0.3554909  0.68984345 0.59772871\n",
      "  0.60069513 0.18607584 0.79642622 0.72328284 0.21565604 0.57220163\n",
      "  0.68882138 0.08044298 0.40780014 0.36242113 0.11968265 0.81276925\n",
      "  0.21048127 0.09150195 0.         0.31131194 0.29769169 0.25014735\n",
      "  0.19744391 0.41224094 0.32112644 0.39679595 0.5646576  0.54596479\n",
      "  0.22760044 0.21146368 0.23080273 0.07887412 0.39056717 0.31093581\n",
      "  0.76129395 0.3180741  0.39165293 0.23823097]\n",
      " [0.3018336  0.60563555 0.67635168 0.91692439 0.92918123 0.53206193\n",
      "  0.87274681 0.60730249 0.41410939 0.18916275 0.58825471 0.9947481\n",
      "  0.76920013 1.14129473 0.07922522 0.88080899 0.21414539 0.40208734\n",
      "  0.22852338 0.9138975  0.57250476 1.08153037 0.92864294 0.82710356\n",
      "  0.15056968 0.6894737  0.28679341 0.47999349 0.50340795 0.64020266\n",
      "  0.18106439 0.34127251 0.39582096 0.69662662 0.68340941 0.8742286\n",
      "  1.0337198  0.4636329  0.85759099 0.16180455 0.46556298 0.86559987\n",
      "  0.48503968 0.29711816 0.12427401 0.17316646 0.14166368 0.53023647\n",
      "  0.17107955 0.53770132 0.80844292 0.89358324 0.53706855 0.70070792\n",
      "  0.52204546 0.41295099 0.4009797  0.24484234 0.92390063 0.40095765\n",
      "  1.03998015 0.44066889 0.39788379 0.09317972 0.72724603 0.75873895\n",
      "  0.80337088 0.15933852 0.97541594 0.69663815 0.42272183 0.56594406\n",
      "  0.95128944 0.31667011 0.7187905  0.6693587  0.40655997 0.94022095\n",
      "  0.12286599 0.25357197 0.31131194 0.         0.30438682 0.54324041\n",
      "  0.28869144 0.68797086 0.13376564 0.70692197 0.87398911 0.73820154\n",
      "  0.1476289  0.24483378 0.21072199 0.38864015 0.15450717 0.1078167\n",
      "  0.8791026  0.08318635 0.2200933  0.15334459]\n",
      " [0.16243707 0.43217884 0.45156    0.7512718  0.78238172 0.31098823\n",
      "  0.70668863 0.38058296 0.40526395 0.4206128  0.40358032 0.69537122\n",
      "  0.56396936 0.84678085 0.31967376 0.72985649 0.12149816 0.20558702\n",
      "  0.4369113  0.68909403 0.35380917 0.7789277  0.68553411 0.54576772\n",
      "  0.35471954 0.41513724 0.19177134 0.17566074 0.21201388 0.35872443\n",
      "  0.4565414  0.18724854 0.405903   0.39868978 0.55980745 0.6551737\n",
      "  0.73438692 0.35810894 0.57823777 0.42877605 0.25259882 0.64994645\n",
      "  0.29582726 0.14589917 0.40973937 0.46555499 0.41082037 0.28816472\n",
      "  0.44076119 0.26427075 0.50601164 0.60381752 0.23340296 0.49267703\n",
      "  0.2208242  0.17038487 0.29049682 0.10893939 0.80367606 0.17168979\n",
      "  0.73579977 0.16396279 0.26969944 0.25947856 0.43577139 0.46154427\n",
      "  0.52121114 0.18430025 0.67881896 0.43772585 0.21170672 0.29019956\n",
      "  0.70700834 0.2285523  0.60307363 0.60631656 0.41387638 0.63590148\n",
      "  0.31929264 0.33180405 0.29769169 0.30438682 0.         0.39091551\n",
      "  0.10225365 0.480923   0.41556772 0.62244724 0.73042606 0.45398692\n",
      "  0.16566936 0.42383735 0.41435428 0.32993068 0.2406603  0.20838252\n",
      "  0.57471783 0.23533096 0.50840993 0.37666169]\n",
      " [0.55301924 0.06694345 0.77043906 0.37674344 0.39793787 0.65652599\n",
      "  0.3319625  0.70867652 0.2218453  0.51104355 0.06751386 0.6409206\n",
      "  0.23649044 0.74031232 0.49506079 0.34655612 0.48536242 0.18533458\n",
      "  0.49069202 0.38765701 0.6936791  0.74677717 0.42162624 0.75325904\n",
      "  0.46553931 0.66683644 0.57996429 0.38839619 0.48814218 0.30421914\n",
      "  0.58481859 0.22002845 0.24729387 0.40840118 0.16947975 0.34536008\n",
      "  0.6740419  0.09448969 0.43759087 0.55748087 0.61493821 0.33455837\n",
      "  0.66401773 0.27234749 0.57283709 0.62026668 0.55129793 0.61941845\n",
      "  0.5674659  0.5597904  0.61847385 0.50433373 0.38834997 0.82213412\n",
      "  0.45135106 0.53262664 0.68025041 0.33903147 0.41304236 0.54214438\n",
      "  0.74141516 0.27654605 0.14635617 0.56365329 0.63275639 0.44257248\n",
      "  0.40532824 0.39132131 0.60601123 0.71430289 0.18225557 0.57285626\n",
      "  0.44402073 0.22686667 0.21328642 0.24567786 0.24360551 0.66413167\n",
      "  0.45737138 0.33949731 0.25014735 0.54324041 0.39091551 0.\n",
      "  0.30728666 0.16677353 0.57071826 0.24431532 0.34408166 0.36770434\n",
      "  0.42223515 0.4530362  0.47779293 0.17608614 0.58058625 0.51036711\n",
      "  0.62560137 0.52637123 0.64129257 0.48836671]\n",
      " [0.25314024 0.35706822 0.55002407 0.67899481 0.70457745 0.41178381\n",
      "  0.63404605 0.47969816 0.30307342 0.35939031 0.33200558 0.7134119\n",
      "  0.50485063 0.85553409 0.27785982 0.652705   0.17808946 0.12895317\n",
      "  0.36722309 0.64107316 0.45427456 0.80505221 0.64799141 0.6238456\n",
      "  0.29392194 0.49984096 0.27607561 0.22726998 0.29309469 0.35232873\n",
      "  0.4088542  0.09046091 0.30428852 0.41646494 0.47280105 0.60386618\n",
      "  0.75213091 0.26199962 0.56892893 0.37951794 0.35462082 0.5968833\n",
      "  0.39807528 0.0437994  0.37072145 0.42691876 0.36415405 0.38652329\n",
      "  0.39163827 0.35413538 0.55951246 0.60656255 0.27437873 0.59284189\n",
      "  0.2874989  0.27174554 0.38627284 0.0438862  0.71912349 0.27384453\n",
      "  0.77028665 0.15554992 0.17374039 0.27588169 0.50792803 0.47698777\n",
      "  0.51498481 0.13495563 0.69156395 0.52840981 0.14413096 0.37792581\n",
      "  0.67032928 0.12629964 0.51499885 0.50917134 0.31204838 0.67301493\n",
      "  0.2636336  0.24275293 0.19744391 0.28869144 0.10225365 0.30728666\n",
      "  0.         0.42126137 0.37416287 0.52862641 0.65113467 0.45034175\n",
      "  0.14225287 0.34749623 0.34545615 0.22803062 0.27981345 0.2200929\n",
      "  0.61528791 0.24220745 0.4648383  0.31817581]\n",
      " [0.63960396 0.10202082 0.77999462 0.28011976 0.32445645 0.689914\n",
      "  0.23814783 0.72777647 0.38708829 0.67431777 0.1040307  0.50735449\n",
      "  0.08368097 0.58800974 0.64813968 0.27310089 0.59278454 0.29299205\n",
      "  0.65592014 0.22684126 0.72080348 0.61386054 0.25504675 0.70984325\n",
      "  0.62546446 0.65140501 0.67171766 0.41407688 0.51018255 0.24130227\n",
      "  0.74659784 0.34823505 0.41306848 0.33579572 0.19967367 0.18634944\n",
      "  0.53660786 0.26110843 0.29413097 0.71857903 0.66236486 0.17767111\n",
      "  0.71230456 0.39712239 0.73057823 0.78017879 0.71101794 0.64793383\n",
      "  0.72899987 0.57783851 0.54903532 0.36759288 0.38950447 0.83487163\n",
      "  0.46333646 0.58761329 0.75370794 0.46081325 0.37181248 0.60132309\n",
      "  0.62074396 0.32857006 0.29466387 0.69445635 0.5970028  0.34790598\n",
      "  0.27631403 0.53019273 0.46914421 0.70604266 0.27738642 0.58314838\n",
      "  0.27754751 0.3746849  0.2329211  0.32781344 0.40872657 0.55701114\n",
      "  0.61366926 0.50309599 0.41224094 0.68797086 0.480923   0.16677353\n",
      "  0.42126137 0.         0.72934758 0.29775949 0.28155675 0.26128769\n",
      "  0.55438077 0.61879789 0.64219326 0.34152159 0.70093005 0.6391014\n",
      "  0.53078053 0.65880449 0.80372771 0.64907546]\n",
      " [0.43441322 0.63692618 0.80916759 0.92923433 0.93225358 0.66428818\n",
      "  0.88677199 0.73966688 0.39643925 0.08806344 0.6257735  1.0873091\n",
      "  0.80595317 1.22678971 0.09701476 0.88748861 0.34190944 0.4647341\n",
      "  0.13191958 0.95568599 0.70517531 1.17913296 0.98006216 0.95225271\n",
      "  0.10576178 0.81593179 0.42046929 0.5876591  0.62328615 0.72238484\n",
      "  0.04736243 0.40066214 0.37264325 0.79062728 0.68727941 0.91414983\n",
      "  1.12594111 0.48075917 0.93316675 0.03543454 0.59764908 0.90404437\n",
      "  0.61844457 0.36820302 0.0109937  0.05314965 0.02347462 0.66058631\n",
      "  0.04027894 0.66318777 0.92108211 0.97682666 0.64162059 0.83428693\n",
      "  0.63637968 0.54123896 0.53421016 0.33331532 0.91498464 0.53042222\n",
      "  1.14286169 0.52958484 0.43520796 0.225551   0.84824099 0.85101254\n",
      "  0.88200631 0.24029744 1.06460328 0.8261021  0.48774193 0.6911824\n",
      "  1.00286336 0.35768896 0.71700954 0.64748283 0.38264412 1.04453324\n",
      "  0.11730252 0.23694623 0.32112644 0.13376564 0.41556772 0.57071826\n",
      "  0.37416287 0.72934758 0.         0.69204203 0.87751124 0.81969213\n",
      "  0.24993326 0.16476309 0.12493076 0.39869527 0.28690206 0.23856358\n",
      "  0.98522397 0.21600514 0.09284284 0.08545727]\n",
      " [0.78135047 0.24114252 1.0146315  0.27752603 0.25609784 0.9000788\n",
      "  0.24793099 0.95297741 0.29673575 0.61304848 0.27253061 0.80027156\n",
      "  0.3007827  0.8623852  0.64137039 0.22456401 0.70176753 0.42093825\n",
      "  0.57857187 0.41752786 0.93767107 0.90606619 0.48234497 0.98581875\n",
      "  0.58997344 0.90743531 0.80454912 0.63258271 0.73241991 0.52061659\n",
      "  0.69005718 0.43822322 0.31951017 0.62264693 0.09816546 0.37961803\n",
      "  0.82704419 0.26696273 0.58539993 0.66836787 0.85659007 0.36570415\n",
      "  0.90512734 0.48764375 0.69760346 0.73264663 0.66929749 0.86347349\n",
      "  0.67530649 0.8040534  0.83732894 0.66090124 0.62981341 1.06643953\n",
      "  0.694906   0.77340853 0.91278424 0.55113133 0.22362317 0.78176035\n",
      "  0.91725082 0.52067247 0.35488686 0.7506878  0.86734481 0.64272716\n",
      "  0.5733264  0.57735161 0.76081548 0.95650167 0.42251371 0.81676169\n",
      "  0.49963455 0.4186456  0.07194589 0.05464428 0.30941439 0.85472773\n",
      "  0.5967668  0.46026169 0.39679595 0.70692197 0.62244724 0.24431532\n",
      "  0.52862641 0.29775949 0.69204203 0.         0.20715109 0.55762273\n",
      "  0.61585069 0.53876015 0.57463357 0.32346016 0.78040604 0.70305882\n",
      "  0.82697534 0.71294704 0.73898588 0.60697408]\n",
      " [0.89280943 0.29854375 1.06135177 0.07585241 0.05520218 0.96743368\n",
      "  0.06918465 1.00812886 0.48278984 0.80362028 0.32860163 0.70804144\n",
      "  0.22668629 0.73460685 0.81610374 0.02242744 0.82921276 0.52624826\n",
      "  0.77247958 0.26927694 0.99982863 0.80806683 0.34384385 0.98395725\n",
      "  0.77269865 0.93223032 0.92142011 0.69091163 0.78891776 0.52022004\n",
      "  0.88078736 0.56401256 0.50821367 0.60762235 0.19112948 0.24478057\n",
      "  0.72727156 0.41100626 0.50165427 0.8570428  0.93558125 0.23290834\n",
      "  0.98555281 0.61632125 0.88190176 0.92165597 0.85561796 0.92632302\n",
      "  0.86504179 0.85772477 0.81458385 0.57685811 0.67020845 1.11609918\n",
      "  0.74334606 0.85734986 1.01577438 0.68297473 0.09425682 0.86941587\n",
      "  0.83526912 0.5947727  0.48707135 0.90380673 0.87466524 0.60709459\n",
      "  0.51036119 0.72959459 0.66689787 0.98732385 0.51873661 0.86402027\n",
      "  0.3546507  0.5640816  0.16150336 0.26169035 0.49911996 0.79231102\n",
      "  0.7737505  0.64099611 0.5646576  0.87398911 0.73042606 0.34408166\n",
      "  0.65113467 0.28155675 0.87751124 0.20715109 0.         0.51972725\n",
      "  0.76326392 0.73245707 0.76602454 0.48608667 0.92382064 0.85178639\n",
      "  0.7794136  0.86613389 0.93248028 0.79209393]\n",
      " [0.5778402  0.32954389 0.58935137 0.49251369 0.55053948 0.53832649\n",
      "  0.46061972 0.5530453  0.57176818 0.78918593 0.30644302 0.28023844\n",
      "  0.29323516 0.40735978 0.7253969  0.50547172 0.57484131 0.36048635\n",
      "  0.78442916 0.32614272 0.55748154 0.38344809 0.28458783 0.4683528\n",
      "  0.72825069 0.44028413 0.61476928 0.30446395 0.3685006  0.0980278\n",
      "  0.8495969  0.42334253 0.59308662 0.10070787 0.45952569 0.31407459\n",
      "  0.31648956 0.4410449  0.12526301 0.81997663 0.53450516 0.31817621\n",
      "  0.58020026 0.45149003 0.81743079 0.87283847 0.80691362 0.49401859\n",
      "  0.83180784 0.41828864 0.29488364 0.15719816 0.25057813 0.64489759\n",
      "  0.31746156 0.48193714 0.65684913 0.49386333 0.61386121 0.50007519\n",
      "  0.37373029 0.29815262 0.42078532 0.71078623 0.36805038 0.08783615\n",
      "  0.06742251 0.58460709 0.25047116 0.4991482  0.33673123 0.41193095\n",
      "  0.3003609  0.47777934 0.4941714  0.58302714 0.59272298 0.29936384\n",
      "  0.70426298 0.63280019 0.54596479 0.73820154 0.45398692 0.36770434\n",
      "  0.45034175 0.26128769 0.81969213 0.55762273 0.51972725 0.\n",
      "  0.5906541  0.75399339 0.76568321 0.50022878 0.69441513 0.65691703\n",
      "  0.26955071 0.68244113 0.90716305 0.75331932]\n",
      " [0.22484153 0.47997938 0.58636502 0.79896674 0.81796725 0.44033293\n",
      "  0.75415117 0.51495409 0.34383077 0.2600597  0.45886211 0.84801937\n",
      "  0.63718857 0.9937659  0.15410697 0.76753392 0.12059144 0.262741\n",
      "  0.28222352 0.77783231 0.48319659 0.9361285  0.78810377 0.70709327\n",
      "  0.19575202 0.57308799 0.22844394 0.33852735 0.37519062 0.49267935\n",
      "  0.29106596 0.20674096 0.33363657 0.54990096 0.57654803 0.73941934\n",
      "  0.88695198 0.35500139 0.71049527 0.26362487 0.37476286 0.73164929\n",
      "  0.40626195 0.15740424 0.2442761  0.30030273 0.24536999 0.42835395\n",
      "  0.27553065 0.42016224 0.67126213 0.74595435 0.39381155 0.619614\n",
      "  0.38649317 0.30581451 0.35303686 0.0984608  0.82250891 0.29872445\n",
      "  0.89658504 0.29304175 0.27653863 0.14154588 0.60000356 0.61176303\n",
      "  0.65598793 0.04271556 0.82815516 0.58905404 0.28156541 0.44754727\n",
      "  0.8105818  0.19996166 0.61569568 0.58625753 0.34380068 0.79744159\n",
      "  0.15841457 0.21494238 0.22760044 0.1476289  0.16566936 0.42223515\n",
      "  0.14225287 0.55438077 0.24993326 0.61585069 0.76326392 0.5906541\n",
      "  0.         0.27677205 0.25967666 0.29304904 0.16462522 0.08854993\n",
      "  0.73725599 0.10476584 0.34276888 0.21554805]\n",
      " [0.49904707 0.51983488 0.86268707 0.78945441 0.78629851 0.71684704\n",
      "  0.74879805 0.79117173 0.25084668 0.07763434 0.51533444 1.03175005\n",
      "  0.68867531 1.15843501 0.16637687 0.7443711  0.39534841 0.39478644\n",
      "  0.04002443 0.84011211 0.75980559 1.13029137 0.87375103 0.96797454\n",
      "  0.0951534  0.83894463 0.49681178 0.57475572 0.63432378 0.66119089\n",
      "  0.1524366  0.33479037 0.22467761 0.74465054 0.54564175 0.79754252\n",
      "  1.06919651 0.35874195 0.85632443 0.13455197 0.65148453 0.78622872\n",
      "  0.68257841 0.32289392 0.17319291 0.19649886 0.14138333 0.70314821\n",
      "  0.13926527 0.68781009 0.90548568 0.90949874 0.61994228 0.89638365\n",
      "  0.63413155 0.58053778 0.62023619 0.31872369 0.76237656 0.57464045\n",
      "  1.10378607 0.48955194 0.33840061 0.33091182 0.85422749 0.80037036\n",
      "  0.81054534 0.24358079 1.00424318 0.86021824 0.41845744 0.71400473\n",
      "  0.89631333 0.2766027  0.57095476 0.49136291 0.23344102 1.00977627\n",
      "  0.12999707 0.12139339 0.21146368 0.24483378 0.42383735 0.4530362\n",
      "  0.34749623 0.61879789 0.16476309 0.53876015 0.73245707 0.75399339\n",
      "  0.27677205 0.         0.03987341 0.27728076 0.38802452 0.31607873\n",
      "  0.95505186 0.30475771 0.20039532 0.09338063]\n",
      " [0.47765261 0.54473607 0.84565825 0.82154106 0.82017978 0.69949512\n",
      "  0.78031521 0.77436027 0.28333074 0.03870351 0.53828316 1.04157043\n",
      "  0.71417215 1.17175557 0.13414567 0.7773812  0.37513651 0.4052362\n",
      "  0.02263865 0.86544409 0.74216755 1.1385925  0.89660495 0.96005141\n",
      "  0.06643881 0.82889979 0.47292011 0.57200418 0.62615897 0.67131399\n",
      "  0.11542464 0.34320479 0.25783668 0.75119171 0.57792243 0.82308443\n",
      "  1.07939297 0.38421279 0.87125468 0.09543567 0.63352331 0.81208564\n",
      "  0.66248649 0.32533202 0.13331962 0.15852141 0.10152828 0.68800157\n",
      "  0.10105638 0.67673836 0.9049667  0.92207471 0.61968801 0.87751163\n",
      "  0.62916916 0.56541228 0.59511958 0.31292267 0.79821765 0.55835668\n",
      "  1.10957998 0.49296542 0.35593019 0.29951052 0.8482906  0.8083174\n",
      "  0.82393274 0.23077254 1.0152353  0.84764474 0.42899938 0.70348795\n",
      "  0.91927248 0.28832498 0.60462532 0.52809963 0.2671167  1.01429051\n",
      "  0.10428661 0.13934541 0.23080273 0.21072199 0.41435428 0.47779293\n",
      "  0.34545615 0.64219326 0.12493076 0.57463357 0.76602454 0.76568321\n",
      "  0.25967666 0.03987341 0.         0.3017585  0.35814819 0.28947929\n",
      "  0.95828535 0.27580836 0.16687338 0.05738628]\n",
      " [0.47660793 0.24301728 0.76839273 0.53278299 0.54128166 0.63535123\n",
      "  0.48955667 0.69980035 0.08365387 0.33543004 0.23821827 0.78040519\n",
      "  0.41241401 0.89533219 0.33046585 0.49388327 0.38714058 0.17359622\n",
      "  0.31465633 0.56370014 0.67697955 0.88334665 0.59650788 0.80614362\n",
      "  0.29295183 0.69670687 0.49479252 0.40660089 0.49508402 0.41622024\n",
      "  0.41001572 0.14779158 0.09721143 0.51248744 0.29510218 0.52132595\n",
      "  0.81617667 0.08271548 0.59097704 0.38327368 0.58094402 0.51035194\n",
      "  0.62550493 0.18423122 0.40169754 0.44682503 0.37833352 0.60637625\n",
      "  0.39288576 0.56328391 0.70295534 0.65039607 0.43158456 0.81422894\n",
      "  0.47376578 0.49718184 0.611203   0.23887524 0.53588229 0.50074304\n",
      "  0.8669221  0.29420204 0.08700089 0.42733397 0.68493406 0.56023254\n",
      "  0.55012548 0.25395322 0.74920928 0.73396378 0.19180089 0.58339491\n",
      "  0.61905215 0.10330825 0.33019653 0.29343652 0.10023133 0.77989013\n",
      "  0.28927406 0.16410471 0.07887412 0.38864015 0.32993068 0.17608614\n",
      "  0.22803062 0.34152159 0.39869527 0.32346016 0.48608667 0.50022878\n",
      "  0.29304904 0.27728076 0.3017585  0.         0.45766117 0.37972645\n",
      "  0.73218997 0.38955703 0.46597402 0.3148164 ]\n",
      " [0.16595872 0.63479093 0.53229324 0.95614467 0.9781562  0.39166921\n",
      "  0.91119328 0.46558049 0.50562787 0.34126179 0.61103678 0.9275589\n",
      "  0.78456602 1.08255201 0.2242454  0.92707982 0.11962675 0.40867975\n",
      "  0.37785474 0.9187149  0.42979156 1.00508785 0.92093087 0.70338782\n",
      "  0.2932891  0.56436292 0.14156108 0.40395218 0.39929873 0.59938409\n",
      "  0.33422421 0.36100821 0.4933398  0.63457398 0.73901061 0.88241109\n",
      "  0.9664129  0.51828759 0.81885191 0.31621983 0.32677468 0.87583437\n",
      "  0.33916178 0.30890227 0.27682219 0.32013519 0.29612593 0.39674162\n",
      "  0.32521799 0.41825896 0.7105852  0.84266514 0.46357249 0.55248826\n",
      "  0.42959134 0.28985521 0.24754028 0.24250363 0.98553215 0.27432662\n",
      "  0.95554993 0.40267855 0.43696859 0.06143188 0.61412695 0.69743412\n",
      "  0.7617142  0.20464614 0.9137828  0.563512   0.42356045 0.44636718\n",
      "  0.94283196 0.36328935 0.77886669 0.75076021 0.50379091 0.85487818\n",
      "  0.25834369 0.36297161 0.39056717 0.15450717 0.2406603  0.58058625\n",
      "  0.27981345 0.70093005 0.28690206 0.78040604 0.92382064 0.69441513\n",
      "  0.16462522 0.38802452 0.35814819 0.45766117 0.         0.0805286\n",
      "  0.79170859 0.08364259 0.36754087 0.30190723]\n",
      " [0.19610358 0.5672913  0.57078792 0.88701673 0.90646632 0.42573166\n",
      "  0.84216159 0.5011237  0.42547584 0.27783759 0.54535362 0.90371291\n",
      "  0.72232024 1.05428892 0.15924933 0.85596345 0.10677414 0.34624983\n",
      "  0.31046239 0.86077901 0.4667396  0.9869367  0.86789973 0.71959104\n",
      "  0.22323191 0.58178069 0.18530945 0.38276258 0.39824092 0.55977865\n",
      "  0.28511909 0.29324064 0.41289097 0.60665107 0.66505026 0.82310533\n",
      "  0.94273104 0.44340254 0.77939512 0.26263854 0.35908636 0.81576137\n",
      "  0.38102702 0.24241475 0.22990593 0.28075188 0.24248879 0.4227065\n",
      "  0.27312433 0.43027521 0.70596261 0.80953053 0.44133342 0.59718171\n",
      "  0.41988892 0.30514409 0.30580834 0.17853743 0.91088348 0.29318721\n",
      "  0.94232418 0.3595001  0.3649413  0.05579363 0.62104153 0.66940631\n",
      "  0.72346837 0.1258028  0.88672347 0.58892834 0.36350775 0.45855403\n",
      "  0.89017746 0.28843617 0.70405892 0.67216032 0.42336251 0.84203028\n",
      "  0.18631956 0.28294963 0.31093581 0.1078167  0.20838252 0.51036711\n",
      "  0.2200929  0.6391014  0.23856358 0.70305882 0.85178639 0.65691703\n",
      "  0.08854993 0.31607873 0.28947929 0.37972645 0.0805286  0.\n",
      "  0.78005586 0.02737046 0.32739859 0.2355721 ]\n",
      " [0.63923006 0.5951912  0.47803157 0.74261317 0.80424329 0.49864144\n",
      "  0.71611775 0.47493233 0.81103193 0.97443183 0.56941462 0.18497389\n",
      "  0.55605672 0.34359362 0.8882202  0.76318207 0.67892022 0.56841403\n",
      "  0.97932185 0.5499654  0.49632362 0.22253301 0.48657117 0.26927745\n",
      "  0.9091796  0.32282329 0.67471248 0.39921823 0.3950774  0.32245124\n",
      "  1.0227038  0.62255023 0.82896755 0.2204502  0.72894416 0.55194712\n",
      "  0.21471739 0.68674664 0.28935323 0.99368558 0.52826014 0.55973749\n",
      "  0.55885087 0.63305748 0.98048188 1.03681972 0.97741459 0.46153961\n",
      "  1.00582692 0.40024401 0.10161846 0.22751907 0.34364121 0.52633496\n",
      "  0.36228228 0.51606325 0.6662367  0.65325658 0.87352861 0.53478316\n",
      "  0.16411858 0.46561586 0.64637986 0.8263813  0.23289966 0.18488878\n",
      "  0.2692451  0.7455281  0.2015083  0.37524018 0.54619967 0.3779302\n",
      "  0.49272861 0.68402426 0.7636941  0.8509832  0.83057139 0.06383511\n",
      "  0.87852519 0.83848383 0.76129395 0.8791026  0.57471783 0.62560137\n",
      "  0.61528791 0.53078053 0.98522397 0.82697534 0.7794136  0.26955071\n",
      "  0.73725599 0.95505186 0.95828535 0.73218997 0.79170859 0.78005586\n",
      "  0.         0.80740483 1.07742497 0.93346257]\n",
      " [0.21870677 0.58464909 0.59334618 0.90309489 0.92099381 0.44890035\n",
      "  0.85833333 0.52416625 0.4306713  0.26116404 0.5636262  0.93053051\n",
      "  0.74174735 1.08069899 0.14282077 0.87090108 0.13339102 0.36652692\n",
      "  0.29604237 0.88159309 0.48944027 1.01406916 0.8901544  0.74568953\n",
      "  0.21035786 0.60765156 0.2048818  0.409973   0.4253533  0.58510002\n",
      "  0.26301915 0.31147952 0.41658644 0.63327971 0.67821933 0.84349609\n",
      "  0.96955025 0.45627763 0.80453325 0.24183205 0.38238431 0.83589176\n",
      "  0.40245171 0.26168219 0.20690595 0.25630163 0.22159491 0.44723365\n",
      "  0.25187667 0.45651691 0.73329545 0.83551243 0.46845493 0.61837455\n",
      "  0.44724929 0.33074949 0.32231233 0.19965302 0.92323333 0.31830657\n",
      "  0.96963139 0.3846544  0.38029405 0.0378513  0.64786396 0.6959869\n",
      "  0.74883036 0.13681019 0.91329273 0.61379421 0.38456669 0.4848194\n",
      "  0.91251533 0.30205726 0.7164811  0.68038814 0.42719168 0.86935432\n",
      "  0.17489064 0.28227145 0.3180741  0.08318635 0.23533096 0.52637123\n",
      "  0.24220745 0.65880449 0.21600514 0.71294704 0.86613389 0.68244113\n",
      "  0.10476584 0.30475771 0.27580836 0.38955703 0.08364259 0.02737046\n",
      "  0.80740483 0.         0.30327807 0.22032709]\n",
      " [0.52182801 0.70813739 0.89604995 0.98840286 0.98647185 0.75208687\n",
      "  0.9471824  0.82726998 0.45003103 0.13076304 0.69970908 1.17699756\n",
      "  0.87773803 1.31451427 0.18941029 0.94406147 0.4324217  0.54939444\n",
      "  0.16045704 1.02861123 0.79233742 1.26981611 1.05683181 1.04409731\n",
      "  0.18087567 0.90735528 0.50538987 0.68027438 0.7158743  0.81036754\n",
      "  0.05798457 0.48541623 0.42430338 0.88107564 0.74474807 0.98652166\n",
      "  1.21550541 0.54868556 1.01860916 0.08740299 0.68562774 0.97584327\n",
      "  0.70410622 0.45630276 0.0992434  0.0474348  0.10076341 0.75010476\n",
      "  0.07589803 0.75482737 1.01385647 1.06435952 0.73391206 0.91911861\n",
      "  0.7292225  0.63182228 0.61457541 0.42476171 0.96256632 0.62042521\n",
      "  1.23452221 0.61985034 0.51232467 0.30739627 0.94079329 0.94099324\n",
      "  0.96850091 0.33200039 1.15351981 0.91622324 0.57277439 0.78290394\n",
      "  1.079591   0.43807421 0.77100837 0.69103175 0.433366   1.13646446\n",
      "  0.20301678 0.30191119 0.39165293 0.2200933  0.50840993 0.64129257\n",
      "  0.4648383  0.80372771 0.09284284 0.73898588 0.93248028 0.90716305\n",
      "  0.34276888 0.20039532 0.16687338 0.46597402 0.36754087 0.32739859\n",
      "  1.07742497 0.30327807 0.         0.15616073]\n",
      " [0.42707348 0.55493082 0.79808794 0.84416218 0.84681744 0.65190518\n",
      "  0.80185337 0.72711801 0.31106887 0.04453549 0.54516568 1.02557728\n",
      "  0.72435587 1.160599   0.0776787  0.80215825 0.32619346 0.39420442\n",
      "  0.07596207 0.87472998 0.69421923 1.12023675 0.90142601 0.92162249\n",
      "  0.02506948 0.78841696 0.42029266 0.54113935 0.58847065 0.65715765\n",
      "  0.09825254 0.3304423  0.28747953 0.73155344 0.60195855 0.83289533\n",
      "  1.06385062 0.39725574 0.86332424 0.06955797 0.58553149 0.82250742\n",
      "  0.61250872 0.30456629 0.09063208 0.13203685 0.06375883 0.64257143\n",
      "  0.08039562 0.63558797 0.87546204 0.91042628 0.59168591 0.82823901\n",
      "  0.59524299 0.52042657 0.54132891 0.28143096 0.82974201 0.51223417\n",
      "  1.08782795 0.47082932 0.35652574 0.24270053 0.81238468 0.79039414\n",
      "  0.8138419  0.19270611 1.00099656 0.80443931 0.41772816 0.66284947\n",
      "  0.92420439 0.28193398 0.63155426 0.56294281 0.29756727 0.99102606\n",
      "  0.0574426  0.15192238 0.23823097 0.15334459 0.37666169 0.48836671\n",
      "  0.31817581 0.64907546 0.08545727 0.60697408 0.79209393 0.75331932\n",
      "  0.21554805 0.09338063 0.05738628 0.3148164  0.30190723 0.2355721\n",
      "  0.93346257 0.22032709 0.15616073 0.        ]]\n"
     ]
    }
   ],
   "source": [
    "myarray = np.random.random((100,2))\n",
    "x,y = np.atleast_2d(myarray[:,0], myarray[:,1])\n",
    "d = np.sqrt( (x-x.T)**2 + (y-y.T)**2)\n",
    "print(d)"
   ]
  },
  {
   "cell_type": "markdown",
   "id": "f5c164f2",
   "metadata": {},
   "source": [
    "#### 53. How to convert a float (32 bits) array into an integer (32 bits) in place?"
   ]
  },
  {
   "cell_type": "code",
   "execution_count": 138,
   "id": "ea262de8",
   "metadata": {},
   "outputs": [
    {
     "name": "stdout",
     "output_type": "stream",
     "text": [
      "[1.35e-43 2.80e-44 1.26e-43 9.81e-45 2.52e-44 7.57e-44 8.41e-44 1.30e-43\n",
      " 1.68e-44 1.18e-43]\n",
      "[96 20 90  7 18 54 60 93 12 84]\n"
     ]
    }
   ],
   "source": [
    "myarray = (np.random.rand(10)*100).astype(np.float32)\n",
    "myarray1 = myarray.view(np.int32)\n",
    "myarray1[:] = myarray\n",
    "print(myarray)\n",
    "print(myarray1)"
   ]
  },
  {
   "cell_type": "markdown",
   "id": "a8b7e6f5",
   "metadata": {},
   "source": [
    "#### 54. How to read the following file? (★★☆)\n",
    "```\n",
    "1, 2, 3, 4, 5\n",
    "6,  ,  , 7, 8\n",
    " ,  , 9,10,11\n",
    "```"
   ]
  },
  {
   "cell_type": "code",
   "execution_count": 139,
   "id": "bde0538a",
   "metadata": {},
   "outputs": [
    {
     "name": "stderr",
     "output_type": "stream",
     "text": [
      "C:\\Users\\admin\\AppData\\Local\\Temp\\ipykernel_22408\\445262623.py:5: DeprecationWarning: `np.int` is a deprecated alias for the builtin `int`. To silence this warning, use `int` by itself. Doing this will not modify any behavior and is safe. When replacing `np.int`, you may wish to use e.g. `np.int64` or `np.int32` to specify the precision. If you wish to review your current use, check the release note link for additional information.\n",
      "Deprecated in NumPy 1.20; for more details and guidance: https://numpy.org/devdocs/release/1.20.0-notes.html#deprecations\n",
      "  myarray = np.genfromtxt(s, delimiter=\",\", dtype=np.int, filling_values=0)\n"
     ]
    },
    {
     "data": {
      "text/plain": [
       "array([[ 1,  2,  3,  4,  5],\n",
       "       [ 6,  0,  0,  7,  8],\n",
       "       [ 0,  0,  9, 10, 11]])"
      ]
     },
     "execution_count": 139,
     "metadata": {},
     "output_type": "execute_result"
    }
   ],
   "source": [
    "from io import StringIO\n",
    "s = StringIO('''1, 2, 3, 4, 5\n",
    "                6,  ,  , 7, 8\n",
    "                 ,  , 9,10,11''')\n",
    "myarray = np.genfromtxt(s, delimiter=\",\", dtype=np.int, filling_values=0)\n",
    "myarray"
   ]
  },
  {
   "cell_type": "markdown",
   "id": "c6b32834",
   "metadata": {},
   "source": [
    "#### 55. What is the equivalent of enumerate for numpy arrays? (★★☆)"
   ]
  },
  {
   "cell_type": "code",
   "execution_count": 140,
   "id": "ab02472a",
   "metadata": {},
   "outputs": [
    {
     "name": "stdout",
     "output_type": "stream",
     "text": [
      "(0, 0) 0\n",
      "(0, 1) 1\n",
      "(0, 2) 2\n",
      "(0, 3) 3\n",
      "(1, 0) 4\n",
      "(1, 1) 5\n",
      "(1, 2) 6\n",
      "(1, 3) 7\n",
      "(2, 0) 8\n",
      "(2, 1) 9\n",
      "(2, 2) 10\n",
      "(2, 3) 11\n",
      "(3, 0) 12\n",
      "(3, 1) 13\n",
      "(3, 2) 14\n",
      "(3, 3) 15\n"
     ]
    }
   ],
   "source": [
    "myarray = np.arange(16).reshape(4,4)\n",
    "for index, value in np.ndenumerate(myarray):\n",
    "    print(index, value)"
   ]
  },
  {
   "cell_type": "markdown",
   "id": "a2121a05",
   "metadata": {},
   "source": [
    "#### 56. Generate a generic 2D Gaussian-like array (★★☆)"
   ]
  },
  {
   "cell_type": "code",
   "execution_count": 141,
   "id": "18507102",
   "metadata": {},
   "outputs": [
    {
     "name": "stdout",
     "output_type": "stream",
     "text": [
      "[[0.36787944 0.44822088 0.51979489 0.57375342 0.60279818 0.60279818\n",
      "  0.57375342 0.51979489 0.44822088 0.36787944]\n",
      " [0.44822088 0.54610814 0.63331324 0.69905581 0.73444367 0.73444367\n",
      "  0.69905581 0.63331324 0.54610814 0.44822088]\n",
      " [0.51979489 0.63331324 0.73444367 0.81068432 0.85172308 0.85172308\n",
      "  0.81068432 0.73444367 0.63331324 0.51979489]\n",
      " [0.57375342 0.69905581 0.81068432 0.89483932 0.9401382  0.9401382\n",
      "  0.89483932 0.81068432 0.69905581 0.57375342]\n",
      " [0.60279818 0.73444367 0.85172308 0.9401382  0.98773022 0.98773022\n",
      "  0.9401382  0.85172308 0.73444367 0.60279818]\n",
      " [0.60279818 0.73444367 0.85172308 0.9401382  0.98773022 0.98773022\n",
      "  0.9401382  0.85172308 0.73444367 0.60279818]\n",
      " [0.57375342 0.69905581 0.81068432 0.89483932 0.9401382  0.9401382\n",
      "  0.89483932 0.81068432 0.69905581 0.57375342]\n",
      " [0.51979489 0.63331324 0.73444367 0.81068432 0.85172308 0.85172308\n",
      "  0.81068432 0.73444367 0.63331324 0.51979489]\n",
      " [0.44822088 0.54610814 0.63331324 0.69905581 0.73444367 0.73444367\n",
      "  0.69905581 0.63331324 0.54610814 0.44822088]\n",
      " [0.36787944 0.44822088 0.51979489 0.57375342 0.60279818 0.60279818\n",
      "  0.57375342 0.51979489 0.44822088 0.36787944]]\n"
     ]
    }
   ],
   "source": [
    "x, y = np.meshgrid(np.linspace(-1,1,10), np.linspace(-1,1,10))\n",
    "d = np.sqrt(x*x+y*y)\n",
    "sigma, mu = 1.0, 0.0\n",
    "g = np.exp(-( (d-mu)**2 / ( 2.0 * sigma**2 ) ) )\n",
    "print(g)"
   ]
  },
  {
   "cell_type": "markdown",
   "id": "97055efa",
   "metadata": {},
   "source": [
    "#### 57. How to randomly place p elements in a 2D array? (★★☆)"
   ]
  },
  {
   "cell_type": "code",
   "execution_count": 142,
   "id": "292e842f",
   "metadata": {},
   "outputs": [
    {
     "name": "stdout",
     "output_type": "stream",
     "text": [
      "[[1. 0. 0. 0. 0.]\n",
      " [0. 1. 1. 0. 0.]\n",
      " [0. 1. 1. 1. 1.]\n",
      " [0. 1. 0. 0. 0.]\n",
      " [0. 1. 0. 0. 1.]]\n"
     ]
    }
   ],
   "source": [
    "n = 5\n",
    "p = 10\n",
    "myarray = np.zeros((n,n))\n",
    "np.put(myarray, np.random.choice(range(n*n), p, replace=False),1)\n",
    "print(myarray)"
   ]
  },
  {
   "cell_type": "markdown",
   "id": "bfd2513c",
   "metadata": {},
   "source": [
    "#### 58. Subtract the mean of each row of a matrix (★★☆)"
   ]
  },
  {
   "cell_type": "code",
   "execution_count": 143,
   "id": "f306ab72",
   "metadata": {},
   "outputs": [
    {
     "data": {
      "text/plain": [
       "array([[ 0.25526115,  0.53702555,  0.38168031,  0.03098996, -0.03142627,\n",
       "        -0.40442811,  0.16514272, -0.37186553, -0.35903737, -0.20334241],\n",
       "       [-0.45205327,  0.07655821,  0.07827856, -0.01747673,  0.31909847,\n",
       "         0.02200597,  0.22670908, -0.34000469,  0.23492318, -0.14803876],\n",
       "       [-0.48827187,  0.05105618,  0.2616353 ,  0.30022603,  0.27676642,\n",
       "        -0.45251366, -0.01430849,  0.33179214, -0.28507523,  0.01869318],\n",
       "       [-0.10650548,  0.28742552, -0.40641764, -0.26118037, -0.15665871,\n",
       "        -0.27612519,  0.21897246,  0.41585829,  0.16607962,  0.11855151],\n",
       "       [-0.10838436,  0.45100095,  0.0053073 , -0.32236496, -0.19119379,\n",
       "        -0.0707733 ,  0.17275321, -0.01697604,  0.17518941, -0.09455842]])"
      ]
     },
     "execution_count": 143,
     "metadata": {},
     "output_type": "execute_result"
    }
   ],
   "source": [
    "x = np.random.rand(5, 10)\n",
    "y = x - x.mean(axis=1, keepdims=True)\n",
    "y"
   ]
  },
  {
   "cell_type": "markdown",
   "id": "da9f2f9b",
   "metadata": {},
   "source": [
    "#### 59. How to sort an array by the nth column? (★★☆)"
   ]
  },
  {
   "cell_type": "code",
   "execution_count": 144,
   "id": "68cde57f",
   "metadata": {},
   "outputs": [
    {
     "name": "stdout",
     "output_type": "stream",
     "text": [
      "[[4 6 4]\n",
      " [5 2 3]\n",
      " [6 9 8]]\n",
      "[[5 2 3]\n",
      " [4 6 4]\n",
      " [6 9 8]]\n"
     ]
    }
   ],
   "source": [
    "myarray = np.random.randint(0,10,(3,3))\n",
    "print(myarray)\n",
    "myarray = myarray[myarray[:,1].argsort()]\n",
    "print(myarray)"
   ]
  },
  {
   "cell_type": "markdown",
   "id": "5b7be45c",
   "metadata": {},
   "source": [
    "#### 60. How to tell if a given 2D array has null columns? (★★☆)"
   ]
  },
  {
   "cell_type": "code",
   "execution_count": 145,
   "id": "7dbe2c27",
   "metadata": {},
   "outputs": [
    {
     "name": "stdout",
     "output_type": "stream",
     "text": [
      "[[2 0 1 2 1 0 0 1 2 2]\n",
      " [0 0 2 2 2 2 1 2 1 1]\n",
      " [1 1 0 1 1 1 1 0 2 2]\n",
      " [0 0 1 0 2 1 1 0 2 2]]\n",
      "False\n"
     ]
    }
   ],
   "source": [
    "myarray = np.random.randint(0,3,(4,10))\n",
    "print(myarray)\n",
    "bool = (~myarray.any(axis=0)).any()\n",
    "print(bool)"
   ]
  },
  {
   "cell_type": "markdown",
   "id": "7c18c02e",
   "metadata": {},
   "source": [
    "#### 61. Find the nearest value from a given value in an array (★★☆)"
   ]
  },
  {
   "cell_type": "code",
   "execution_count": 146,
   "id": "b78ae9c4",
   "metadata": {},
   "outputs": [
    {
     "name": "stdout",
     "output_type": "stream",
     "text": [
      "[ 3.43123271  4.24409544  9.35354973 10.21329973  9.00705482]\n",
      "4.244095437771044\n"
     ]
    }
   ],
   "source": [
    "myarray = np.random.uniform(1, 12, 5)\n",
    "v = 4\n",
    "n = myarray.flat[np.abs(myarray - v).argmin()]\n",
    "print(myarray)\n",
    "print(n)"
   ]
  },
  {
   "cell_type": "markdown",
   "id": "8174ba2c",
   "metadata": {},
   "source": [
    "#### 62. Considering two arrays with shape (1,3) and (3,1), how to compute their sum using an iterator? (★★☆)"
   ]
  },
  {
   "cell_type": "code",
   "execution_count": 147,
   "id": "8a18fe57",
   "metadata": {},
   "outputs": [
    {
     "name": "stdout",
     "output_type": "stream",
     "text": [
      "[[0 1 2]\n",
      " [1 2 3]\n",
      " [2 3 4]]\n"
     ]
    }
   ],
   "source": [
    "myarrayA = np.arange(3).reshape(3,1)\n",
    "myarrayB = np.arange(3).reshape(1,3)\n",
    "it = np.nditer([myarrayA,myarrayB,None])\n",
    "for x,y,z in it: z[...] = x + y\n",
    "print(it.operands[2])"
   ]
  },
  {
   "cell_type": "markdown",
   "id": "9189bd7c",
   "metadata": {},
   "source": [
    "#### 63. Create an array class that has a name attribute (★★☆)"
   ]
  },
  {
   "cell_type": "code",
   "execution_count": 148,
   "id": "1c01ed42",
   "metadata": {},
   "outputs": [
    {
     "name": "stdout",
     "output_type": "stream",
     "text": [
      "range_10\n"
     ]
    }
   ],
   "source": [
    "class ArrayClass(np.ndarray):\n",
    "    def __new__(cls, array, name=\"no name\"):\n",
    "        obj = np.asarray(array).view(cls)\n",
    "        obj.name = name\n",
    "        return obj\n",
    "    def __array_finalize__(self, obj):\n",
    "        if obj is None: return\n",
    "        self.name = getattr(obj, 'name', \"no name\")\n",
    "\n",
    "myarray = ArrayClass(np.arange(10), \"range_10\")\n",
    "print (myarray.name)"
   ]
  },
  {
   "cell_type": "markdown",
   "id": "f30162d2",
   "metadata": {},
   "source": [
    "#### 64. Consider a given vector, how to add 1 to each element indexed by a second vector (be careful with repeated indices)? (★★★)"
   ]
  },
  {
   "cell_type": "code",
   "execution_count": 149,
   "id": "093ba36f",
   "metadata": {},
   "outputs": [
    {
     "name": "stdout",
     "output_type": "stream",
     "text": [
      "[3. 3. 5. 3. 2. 5. 2. 4. 2. 1.]\n"
     ]
    }
   ],
   "source": [
    "myarray = np.ones(10)\n",
    "i = np.random.randint(0,len(myarray),20)\n",
    "myarray += np.bincount(i, minlength=len(myarray))\n",
    "print(myarray)"
   ]
  },
  {
   "cell_type": "markdown",
   "id": "f5b1c584",
   "metadata": {},
   "source": [
    "#### 65. How to accumulate elements of a vector (X) to an array (F) based on an index list (I)? (★★★)"
   ]
  },
  {
   "cell_type": "code",
   "execution_count": 150,
   "id": "c9d92a75",
   "metadata": {},
   "outputs": [
    {
     "name": "stdout",
     "output_type": "stream",
     "text": [
      "[0. 7. 0. 6. 5. 0. 0. 0. 0. 3.]\n"
     ]
    }
   ],
   "source": [
    "x = [1,2,3,4,5,6]\n",
    "i = [1,3,9,3,4,1]\n",
    "f = np.bincount(i,x)\n",
    "print(f)"
   ]
  },
  {
   "cell_type": "markdown",
   "id": "994c452d",
   "metadata": {},
   "source": [
    "#### 66. Considering a (w,h,3) image of (dtype=ubyte), compute the number of unique colors (★★☆)"
   ]
  },
  {
   "cell_type": "code",
   "execution_count": 151,
   "id": "269cdaea",
   "metadata": {},
   "outputs": [
    {
     "name": "stdout",
     "output_type": "stream",
     "text": [
      "64\n"
     ]
    }
   ],
   "source": [
    "w = 256\n",
    "h = 256\n",
    "i = np.random.randint(0, 4, (h, w, 3)).astype(np.ubyte)\n",
    "colors = np.unique(i.reshape(-1, 3), axis=0)\n",
    "n = len(colors)\n",
    "print(n)"
   ]
  },
  {
   "cell_type": "markdown",
   "id": "4bddeb31",
   "metadata": {},
   "source": [
    "#### 67. Considering a four dimensions array, how to get sum over the last two axis at once? (★★★)"
   ]
  },
  {
   "cell_type": "code",
   "execution_count": 152,
   "id": "32af15f5",
   "metadata": {},
   "outputs": [
    {
     "name": "stdout",
     "output_type": "stream",
     "text": [
      "[[43 63 41 59]\n",
      " [48 63 62 41]\n",
      " [42 46 52 53]]\n"
     ]
    }
   ],
   "source": [
    "a = np.random.randint(0,10,(3,4,3,4))\n",
    "sum = a.sum(axis=(-2,-1))\n",
    "print(sum)"
   ]
  },
  {
   "cell_type": "markdown",
   "id": "c4cf083c",
   "metadata": {},
   "source": [
    "#### 68. Considering a one-dimensional vector D, how to compute means of subsets of D using a vector S of same size describing subset  indices? (★★★)"
   ]
  },
  {
   "cell_type": "code",
   "execution_count": 153,
   "id": "9600a2dd",
   "metadata": {},
   "outputs": [
    {
     "name": "stdout",
     "output_type": "stream",
     "text": [
      "[0.98342539 0.42575199 0.78258173 0.96298419 0.75019833 0.94519077\n",
      " 0.47138601 0.00603359 0.2144755  0.38877591 0.87858877 0.84548317\n",
      " 0.2064984  0.7778791  0.70954238 0.57493184 0.87473392 0.30623921\n",
      " 0.38079701 0.73389314 0.58805296 0.3055465  0.46883822 0.47530369\n",
      " 0.35640934 0.05282761 0.57541796 0.17022656 0.8300005  0.81845325\n",
      " 0.50576723 0.16179918 0.41010208 0.86667974 0.84884328 0.43896028\n",
      " 0.99475284 0.19008841 0.58597741 0.32917281 0.60320623 0.97274849\n",
      " 0.69781989 0.23386879 0.45178222 0.88047383 0.69792607 0.45180124\n",
      " 0.8269731  0.87608322 0.14290211 0.97908593 0.27388415 0.73657108\n",
      " 0.99861305 0.40121475 0.38268877 0.64295021 0.02286653 0.43664484\n",
      " 0.72908636 0.31308719 0.83900387 0.52363406 0.78209129 0.17704034\n",
      " 0.01521709 0.26814753 0.38653469 0.52406778 0.01768734 0.31880626\n",
      " 0.45528514 0.65780135 0.5082213  0.83065326 0.79608717 0.04638011\n",
      " 0.03028259 0.79636625 0.71750104 0.43494575 0.66326178 0.89772674\n",
      " 0.98769078 0.42203237 0.69912838 0.92909189 0.50513946 0.92225074\n",
      " 0.76867403 0.56200294 0.48592872 0.12767617 0.97823692 0.72551259\n",
      " 0.17120888 0.90983017 0.22364398 0.04721525]\n",
      "[1 8 3 4 6 3 2 8 8 4 4 0 7 4 1 6 0 6 6 4 2 5 0 9 5 2 3 7 8 8 2 1 4 5 5 4 4\n",
      " 3 9 6 2 3 3 9 9 3 5 7 3 5 7 6 9 9 6 7 8 2 7 4 8 3 4 3 2 2 8 0 3 5 0 9 8 4\n",
      " 0 2 8 7 9 6 7 0 0 3 0 6 3 1 6 6 7 3 4 5 5 6 5 2 6 1]\n",
      "[0.56322331 0.56621482 0.55638053 0.66095773 0.66710959 0.57526779\n",
      " 0.60876797 0.32534053 0.46730794 0.38830952]\n"
     ]
    }
   ],
   "source": [
    "d = np.random.uniform(0,1,100)\n",
    "s = np.random.randint(0,10,100)\n",
    "d_sums = np.bincount(s, weights=d)\n",
    "d_counts = np.bincount(s)\n",
    "d_means = d_sums / d_counts\n",
    "print(d)\n",
    "print(s)\n",
    "print(d_means)"
   ]
  },
  {
   "cell_type": "markdown",
   "id": "a5e316db",
   "metadata": {},
   "source": [
    "#### 69. How to get the diagonal of a dot product? (★★★)"
   ]
  },
  {
   "cell_type": "code",
   "execution_count": 154,
   "id": "94735dbd",
   "metadata": {},
   "outputs": [
    {
     "data": {
      "text/plain": [
       "array([1.5803482 , 0.52061224, 0.73058753, 1.82069703, 0.68960589])"
      ]
     },
     "execution_count": 154,
     "metadata": {},
     "output_type": "execute_result"
    }
   ],
   "source": [
    "a = np.random.uniform(0,1,(5,5))\n",
    "b = np.random.uniform(0,1,(5,5))\n",
    "np.diag(np.dot(a, b))"
   ]
  },
  {
   "cell_type": "markdown",
   "id": "de727a7b",
   "metadata": {},
   "source": [
    "#### 70. Consider the vector [1, 2, 3, 4, 5], how to build a new vector with 3 consecutive zeros interleaved between each value? (★★★)"
   ]
  },
  {
   "cell_type": "code",
   "execution_count": 155,
   "id": "982be812",
   "metadata": {},
   "outputs": [
    {
     "name": "stdout",
     "output_type": "stream",
     "text": [
      "[1. 0. 0. 0. 2. 0. 0. 0. 3. 0. 0. 0. 4. 0. 0. 0. 5.]\n"
     ]
    }
   ],
   "source": [
    "myarray = np.array([1,2,3,4,5])\n",
    "zeros = 3\n",
    "myarray0 = np.zeros(len(myarray) + (len(myarray)-1)*(zeros))\n",
    "myarray0[::zeros+1] = myarray\n",
    "print(myarray0)"
   ]
  },
  {
   "cell_type": "markdown",
   "id": "a9a73d6b",
   "metadata": {},
   "source": [
    "#### 71. Consider an array of dimension (5,5,3), how to mulitply it by an array with dimensions (5,5)? (★★★)"
   ]
  },
  {
   "cell_type": "code",
   "execution_count": 156,
   "id": "282a90cc",
   "metadata": {},
   "outputs": [
    {
     "name": "stdout",
     "output_type": "stream",
     "text": [
      "[[[2. 2. 2.]\n",
      "  [2. 2. 2.]\n",
      "  [2. 2. 2.]\n",
      "  [2. 2. 2.]\n",
      "  [2. 2. 2.]]\n",
      "\n",
      " [[2. 2. 2.]\n",
      "  [2. 2. 2.]\n",
      "  [2. 2. 2.]\n",
      "  [2. 2. 2.]\n",
      "  [2. 2. 2.]]\n",
      "\n",
      " [[2. 2. 2.]\n",
      "  [2. 2. 2.]\n",
      "  [2. 2. 2.]\n",
      "  [2. 2. 2.]\n",
      "  [2. 2. 2.]]\n",
      "\n",
      " [[2. 2. 2.]\n",
      "  [2. 2. 2.]\n",
      "  [2. 2. 2.]\n",
      "  [2. 2. 2.]\n",
      "  [2. 2. 2.]]\n",
      "\n",
      " [[2. 2. 2.]\n",
      "  [2. 2. 2.]\n",
      "  [2. 2. 2.]\n",
      "  [2. 2. 2.]\n",
      "  [2. 2. 2.]]]\n"
     ]
    }
   ],
   "source": [
    "a = np.ones((5,5,3))\n",
    "b = 2*np.ones((5,5))\n",
    "print(a * b[:,:,None])"
   ]
  },
  {
   "cell_type": "markdown",
   "id": "a951c78f",
   "metadata": {},
   "source": [
    "#### 72. How to swap two rows of an array? (★★★)"
   ]
  },
  {
   "cell_type": "code",
   "execution_count": 157,
   "id": "e29b3fde",
   "metadata": {},
   "outputs": [
    {
     "name": "stdout",
     "output_type": "stream",
     "text": [
      "[[3 4 5]\n",
      " [0 1 2]\n",
      " [6 7 8]]\n"
     ]
    }
   ],
   "source": [
    "a = np.arange(9).reshape(3,3)\n",
    "a[[0,1]] = a[[1,0]]\n",
    "print(a)"
   ]
  },
  {
   "cell_type": "markdown",
   "id": "43b639e8",
   "metadata": {},
   "source": [
    "#### 73. Consider a set of 10 triplets describing 10 triangles (with shared vertices), find the set of unique line segments composing all the  triangles (★★★)"
   ]
  },
  {
   "cell_type": "code",
   "execution_count": 158,
   "id": "147e1034",
   "metadata": {},
   "outputs": [
    {
     "name": "stdout",
     "output_type": "stream",
     "text": [
      "[( 7, 32) ( 7, 39) ( 9, 70) ( 9, 77) ( 9, 84) ( 9, 85) (12, 14) (12, 89)\n",
      " (14, 89) (24, 85) (24, 99) (29, 31) (29, 79) (31, 79) (32, 39) (35, 45)\n",
      " (35, 58) (45, 57) (45, 58) (45, 69) (50, 93) (52, 64) (52, 65) (57, 69)\n",
      " (64, 65) (70, 85) (77, 84) (85, 99) (93, 93)]\n"
     ]
    }
   ],
   "source": [
    "myarray = np.random.randint(0,100,(10,3))\n",
    "f = np.roll(myarray.repeat(2,axis=1),-1,axis=1)\n",
    "f = f.reshape(len(f)*3,2)\n",
    "f = np.sort(f,axis=1)\n",
    "g = f.view( dtype=[('p0',f.dtype),('p1',f.dtype)] )\n",
    "g = np.unique(g)\n",
    "print(g)"
   ]
  },
  {
   "cell_type": "markdown",
   "id": "d41de585",
   "metadata": {},
   "source": [
    "#### 74. Given a sorted array C that corresponds to a bincount, how to produce an array A such that np.bincount(A) == C? (★★★)"
   ]
  },
  {
   "cell_type": "code",
   "execution_count": 159,
   "id": "5f5d6e36",
   "metadata": {},
   "outputs": [
    {
     "name": "stdout",
     "output_type": "stream",
     "text": [
      "[1 1 2 3 4 4 6]\n"
     ]
    }
   ],
   "source": [
    "c = np.bincount([1,1,2,3,4,4,6])\n",
    "a = np.repeat(np.arange(len(c)), c)\n",
    "print(a)"
   ]
  },
  {
   "cell_type": "markdown",
   "id": "b50adf7c",
   "metadata": {},
   "source": [
    "#### 75. How to compute averages using a sliding window over an array? (★★★)"
   ]
  },
  {
   "cell_type": "code",
   "execution_count": 160,
   "id": "e631a9d2",
   "metadata": {},
   "outputs": [
    {
     "name": "stdout",
     "output_type": "stream",
     "text": [
      "[ 1.  2.  3.  4.  5.  6.  7.  8.  9. 10. 11. 12. 13. 14. 15. 16. 17. 18.]\n"
     ]
    }
   ],
   "source": [
    "def moving_average(a, n=3) :\n",
    "    ret = np.cumsum(a, dtype=float)\n",
    "    ret[n:] = ret[n:] - ret[:-n]\n",
    "    return ret[n - 1:] / n\n",
    "myarray = np.arange(20)\n",
    "print(moving_average(myarray, n=3))"
   ]
  },
  {
   "cell_type": "markdown",
   "id": "1ab4c50d",
   "metadata": {},
   "source": [
    "#### 76. Consider a one-dimensional array Z, build a two-dimensional array whose first row is (Z[0],Z[1],Z[2]) and each subsequent row is  shifted by 1 (last row should be (Z[-3],Z[-2],Z[-1]) (★★★)"
   ]
  },
  {
   "cell_type": "code",
   "execution_count": 161,
   "id": "3ccfe2c0",
   "metadata": {},
   "outputs": [
    {
     "name": "stdout",
     "output_type": "stream",
     "text": [
      "[[0 1 2]\n",
      " [1 2 3]\n",
      " [2 3 4]\n",
      " [3 4 5]\n",
      " [4 5 6]\n",
      " [5 6 7]\n",
      " [6 7 8]\n",
      " [7 8 9]]\n"
     ]
    }
   ],
   "source": [
    "from numpy.lib import stride_tricks\n",
    "def rolling(a, window):\n",
    "    shape = (a.size - window + 1, window)\n",
    "    strides = (a.strides[0], a.strides[0])\n",
    "    return stride_tricks.as_strided(a, shape=shape, strides=strides)\n",
    "myarray = rolling(np.arange(10), 3)\n",
    "print(myarray)"
   ]
  },
  {
   "cell_type": "markdown",
   "id": "5b4fe59d",
   "metadata": {},
   "source": [
    "#### 77. How to negate a boolean, or to change the sign of a float inplace? (★★★)"
   ]
  },
  {
   "cell_type": "code",
   "execution_count": 162,
   "id": "3c2373ff",
   "metadata": {},
   "outputs": [
    {
     "data": {
      "text/plain": [
       "array([-0.6566221 ,  0.24742808, -0.08898993,  0.76681917, -0.95180948,\n",
       "       -0.09156733,  0.52917663, -0.65070779, -0.0923564 , -0.66657917,\n",
       "        0.61909117,  0.06655474, -0.49133641,  0.57216522, -0.18335547,\n",
       "       -0.30173301,  0.82674877,  0.05233553, -0.81241456, -0.99945183,\n",
       "        0.93816622,  0.85470734,  0.2893691 ,  0.87325558, -0.55919483,\n",
       "        0.73626077, -0.63991628,  0.54290594,  0.97733201, -0.90809421,\n",
       "       -0.84621166, -0.22846464, -0.6296815 ,  0.6332374 , -0.44718037,\n",
       "        0.31700545,  0.81352618, -0.31145741, -0.07247246,  0.45794777,\n",
       "        0.3115938 , -0.70875433,  0.7428381 ,  0.70948317, -0.89664693,\n",
       "        0.98478389, -0.04507265,  0.65544257, -0.14832301, -0.69096441,\n",
       "        0.98931039, -0.01419886, -0.15487305, -0.12222975, -0.35782231,\n",
       "       -0.67798552, -0.96630938,  0.82818714,  0.01189921,  0.28235577,\n",
       "        0.56628003,  0.35035597,  0.13898277,  0.5070003 ,  0.73798047,\n",
       "        0.06977633, -0.01373288,  0.30336621,  0.37673187,  0.96773438,\n",
       "       -0.0684795 , -0.16030443,  0.75590356, -0.82685311, -0.02097146,\n",
       "        0.97479241, -0.06262487,  0.03784943,  0.90832423, -0.51328488,\n",
       "       -0.38374558,  0.86262331, -0.70792991,  0.25660184,  0.65083643,\n",
       "       -0.13655285, -0.73495542, -0.94616721, -0.78341822, -0.42300501,\n",
       "       -0.17168931,  0.60330857,  0.19383889,  0.07244199, -0.10143045,\n",
       "        0.35101215,  0.78649662, -0.84940874, -0.09046569,  0.60450131])"
      ]
     },
     "execution_count": 162,
     "metadata": {},
     "output_type": "execute_result"
    }
   ],
   "source": [
    "myarray = np.random.randint(0,2,100)\n",
    "np.logical_not(myarray, out=myarray)\n",
    "\n",
    "myarray = np.random.uniform(-1.0,1.0,100)\n",
    "np.negative(myarray, out=myarray)"
   ]
  },
  {
   "cell_type": "markdown",
   "id": "119ab5af",
   "metadata": {},
   "source": [
    "#### 78. Consider 2 sets of points P0,P1 describing lines (2d) and a point p, how to compute distance from p to each line i (P0[i],P1[i])? (★★★)"
   ]
  },
  {
   "cell_type": "code",
   "execution_count": 163,
   "id": "1d8d06dc",
   "metadata": {},
   "outputs": [
    {
     "name": "stdout",
     "output_type": "stream",
     "text": [
      "[ 7.22223967  5.61359058 10.17503469  2.05747328  1.32060926  3.36876506\n",
      " 10.86167853  4.56610843  1.02444287 13.13597606]\n"
     ]
    }
   ],
   "source": [
    "def distance(p0, p1, p):\n",
    "    t = p1 - p0\n",
    "    l = (t**2).sum(axis=1)\n",
    "    u = -((p0[:,0]-p[...,0])*t[:,0] + (p0[:,1]-p[...,1])*t[:,1]) / l\n",
    "    u = u.reshape(len(u),1)\n",
    "    d = p0 + u*t - p\n",
    "    return np.sqrt((d**2).sum(axis=1))\n",
    "\n",
    "P0 = np.random.uniform(-10,10,(10,2))\n",
    "P1 = np.random.uniform(-10,10,(10,2))\n",
    "p  = np.random.uniform(-10,10,( 1,2))\n",
    "print(distance(P0, P1, p))"
   ]
  },
  {
   "cell_type": "markdown",
   "id": "e5e7f323",
   "metadata": {},
   "source": [
    "#### 79. Consider 2 sets of points P0,P1 describing lines (2d) and a set of points P, how to compute distance from each point j (P[j]) to each line i (P0[i],P1[i])? (★★★)"
   ]
  },
  {
   "cell_type": "code",
   "execution_count": 164,
   "id": "d0ce77e2",
   "metadata": {},
   "outputs": [
    {
     "name": "stdout",
     "output_type": "stream",
     "text": [
      "[[10.28008161 13.89468292 15.41606386  0.11071785  5.03379972  3.41609708\n",
      "  12.66228844  7.43329118  0.78266701 13.58976033]\n",
      " [ 3.21553985  0.57811717  2.91575227  5.24689058  6.20245461  3.84257856\n",
      "   0.7828198  13.33390973  2.91993196  0.71147569]\n",
      " [ 9.79469776 13.11313432 15.80591738  1.67791509  3.49406722  1.39508069\n",
      "  12.03467732  9.52899674  2.6961518  12.53482326]\n",
      " [ 1.71543921  5.7351726   6.67443619  5.27119357  1.0030623   0.50492938\n",
      "   4.26846055  9.36360414  3.53863079  5.98693348]\n",
      " [ 6.64095622  8.7433078  16.37431893  8.68092377  3.85241915  7.61728861\n",
      "   8.29394882 18.7375338  10.33884149  7.06541317]\n",
      " [ 0.45450652  3.29943703  5.48170447  4.17600307  3.91522129  2.37546416\n",
      "   1.96641259 12.14589437  2.14158928  3.34018482]\n",
      " [ 1.7509483   1.72406966  5.10234495  2.73828966  6.10591699  4.79503363\n",
      "   0.53386302 14.55589203  0.49443837  1.52395901]\n",
      " [ 6.27335597  8.59884865 15.4283548   7.11766886  3.33938105  6.54557973\n",
      "   8.03162113 17.53973109  8.76177068  7.14145261]\n",
      " [10.01671691 13.12179618 16.5952545   3.13455798  2.88928834  0.29073931\n",
      "  12.1557066  10.74157664  4.18017312 12.33521757]\n",
      " [ 3.82870533  6.61951524 11.96316186  3.36434797  3.75024812  5.34279852\n",
      "   5.8021787  15.91422933  5.16328744  5.65514881]]\n"
     ]
    }
   ],
   "source": [
    "p0 = np.random.uniform(-10, 10, (10,2))\n",
    "p1 = np.random.uniform(-10,10,(10,2))\n",
    "p = np.random.uniform(-10, 10, (10,2))\n",
    "print(np.array([distance(p0,p1,p_i) for p_i in p]))"
   ]
  },
  {
   "cell_type": "markdown",
   "id": "9b9d03eb",
   "metadata": {},
   "source": [
    "#### 80. Consider an arbitrary array, write a function that extract a subpart with a fixed shape and centered on a given element (pad with a `fill` value when necessary) (★★★)"
   ]
  },
  {
   "cell_type": "code",
   "execution_count": 171,
   "id": "ec2b7ae3",
   "metadata": {},
   "outputs": [
    {
     "name": "stdout",
     "output_type": "stream",
     "text": [
      "[[1 0 9 2 9 6 7 2 4 0]\n",
      " [8 5 3 7 7 1 3 5 2 3]\n",
      " [9 5 1 1 6 8 2 5 3 4]\n",
      " [2 2 7 3 7 4 2 7 2 6]\n",
      " [6 9 3 3 8 4 9 0 0 0]\n",
      " [7 1 7 9 2 1 5 0 0 0]\n",
      " [4 0 2 7 4 7 8 8 6 8]\n",
      " [5 6 0 0 7 7 4 3 7 3]\n",
      " [4 8 7 3 9 4 4 6 6 6]\n",
      " [7 4 8 6 4 3 9 1 3 9]]\n",
      "[[0 0 0 0 0]\n",
      " [0 0 0 0 0]\n",
      " [0 0 0 0 0]\n",
      " [0 0 0 0 0]\n",
      " [0 0 0 0 0]]\n"
     ]
    }
   ],
   "source": [
    "Z = np.random.randint(0,10,(10,10))\n",
    "shape = (5,5)\n",
    "fill  = 0\n",
    "position = (1,1)\n",
    "\n",
    "R = np.ones(shape, dtype=Z.dtype)*fill\n",
    "P  = np.array(list(position)).astype(int)\n",
    "Rs = np.array(list(R.shape)).astype(int)\n",
    "Zs = np.array(list(Z.shape)).astype(int)\n",
    "\n",
    "R_start = np.zeros((len(shape),)).astype(int)\n",
    "R_stop  = np.array(list(shape)).astype(int)\n",
    "Z_start = (P-Rs//2)\n",
    "Z_stop  = (P+Rs//2)+Rs%2\n",
    "\n",
    "R_start = (R_start - np.minimum(Z_start,0)).tolist()\n",
    "Z_start = (np.maximum(Z_start,0)).tolist()\n",
    "R_stop = np.maximum(R_start, (R_stop - np.maximum(Z_stop-Zs,0))).tolist()\n",
    "Z_stop = (np.minimum(Z_stop,Zs)).tolist()\n",
    "\n",
    "r = [slice(start,stop) for start,stop in zip(R_start,R_stop)]\n",
    "z = [slice(start,stop) for start,stop in zip(Z_start,Z_stop)]\n",
    "\n",
    "print(Z)\n",
    "print(R)"
   ]
  },
  {
   "cell_type": "markdown",
   "id": "27794913",
   "metadata": {},
   "source": [
    "#### 81. Consider an array Z = [1,2,3,4,5,6,7,8,9,10,11,12,13,14], how to generate an array R = [[1,2,3,4], [2,3,4,5], [3,4,5,6], ..., [11,12,13,14]]? (★★★)"
   ]
  },
  {
   "cell_type": "code",
   "execution_count": 85,
   "id": "f3e7878b",
   "metadata": {},
   "outputs": [
    {
     "name": "stdout",
     "output_type": "stream",
     "text": [
      "[[ 1  2  3  4]\n",
      " [ 2  3  4  5]\n",
      " [ 3  4  5  6]\n",
      " [ 4  5  6  7]\n",
      " [ 5  6  7  8]\n",
      " [ 6  7  8  9]\n",
      " [ 7  8  9 10]\n",
      " [ 8  9 10 11]\n",
      " [ 9 10 11 12]\n",
      " [10 11 12 13]\n",
      " [11 12 13 14]]\n"
     ]
    }
   ],
   "source": [
    "myarray = np.arange(1,15,dtype=np.uint32)\n",
    "myarray = stride_tricks.as_strided(myarray,(11,4),(4,4))\n",
    "print(myarray)"
   ]
  },
  {
   "cell_type": "markdown",
   "id": "fae786f5",
   "metadata": {},
   "source": [
    "#### 82. Compute a matrix rank (★★★)"
   ]
  },
  {
   "cell_type": "code",
   "execution_count": 35,
   "id": "64b9615b",
   "metadata": {},
   "outputs": [
    {
     "name": "stdout",
     "output_type": "stream",
     "text": [
      "10\n"
     ]
    }
   ],
   "source": [
    "myarray = np.random.uniform(0,1,(10,10))\n",
    "rank = np.linalg.matrix_rank(myarray)\n",
    "print(rank)"
   ]
  },
  {
   "cell_type": "markdown",
   "id": "c85aa0b9",
   "metadata": {},
   "source": [
    "#### 83. How to find the most frequent value in an array?"
   ]
  },
  {
   "cell_type": "code",
   "execution_count": 38,
   "id": "056be85b",
   "metadata": {},
   "outputs": [
    {
     "name": "stdout",
     "output_type": "stream",
     "text": [
      "[1 7 0 2 1 8 6 7 3 0 0 4 8 1 0 4 1 2 2 8 3 1 0 0 2 0 3 4 5 1 7 7 7 8 9 6 8\n",
      " 3 2 9 8 2 4 5 0 9 8 8 2 8]\n",
      "8\n"
     ]
    }
   ],
   "source": [
    "myarray = np.random.randint(0,10,50)\n",
    "print(myarray)\n",
    "print(np.bincount(myarray).argmax())"
   ]
  },
  {
   "cell_type": "markdown",
   "id": "0ff2344d",
   "metadata": {},
   "source": [
    "#### 84. Extract all the contiguous 3x3 blocks from a random 10x10 matrix (★★★)"
   ]
  },
  {
   "cell_type": "code",
   "execution_count": 42,
   "id": "d58b1318",
   "metadata": {},
   "outputs": [
    {
     "name": "stdout",
     "output_type": "stream",
     "text": [
      "[[4 3 4 3 3 4 2 1 3 1]\n",
      " [4 1 4 4 0 1 2 2 0 2]\n",
      " [1 1 1 0 4 0 2 4 3 2]\n",
      " [4 4 1 1 0 0 2 1 1 1]\n",
      " [2 3 0 3 1 0 2 2 2 4]\n",
      " [1 3 2 4 4 0 3 2 4 2]\n",
      " [3 4 4 4 0 1 0 3 0 0]\n",
      " [2 4 3 0 2 4 2 0 2 0]\n",
      " [0 3 3 1 2 1 3 3 2 4]\n",
      " [1 2 0 2 3 2 3 0 4 2]]\n",
      "[[[[4 3 4]\n",
      "   [4 1 4]\n",
      "   [1 1 1]]\n",
      "\n",
      "  [[3 4 3]\n",
      "   [1 4 4]\n",
      "   [1 1 0]]\n",
      "\n",
      "  [[4 3 3]\n",
      "   [4 4 0]\n",
      "   [1 0 4]]\n",
      "\n",
      "  [[3 3 4]\n",
      "   [4 0 1]\n",
      "   [0 4 0]]\n",
      "\n",
      "  [[3 4 2]\n",
      "   [0 1 2]\n",
      "   [4 0 2]]\n",
      "\n",
      "  [[4 2 1]\n",
      "   [1 2 2]\n",
      "   [0 2 4]]\n",
      "\n",
      "  [[2 1 3]\n",
      "   [2 2 0]\n",
      "   [2 4 3]]\n",
      "\n",
      "  [[1 3 1]\n",
      "   [2 0 2]\n",
      "   [4 3 2]]]\n",
      "\n",
      "\n",
      " [[[4 1 4]\n",
      "   [1 1 1]\n",
      "   [4 4 1]]\n",
      "\n",
      "  [[1 4 4]\n",
      "   [1 1 0]\n",
      "   [4 1 1]]\n",
      "\n",
      "  [[4 4 0]\n",
      "   [1 0 4]\n",
      "   [1 1 0]]\n",
      "\n",
      "  [[4 0 1]\n",
      "   [0 4 0]\n",
      "   [1 0 0]]\n",
      "\n",
      "  [[0 1 2]\n",
      "   [4 0 2]\n",
      "   [0 0 2]]\n",
      "\n",
      "  [[1 2 2]\n",
      "   [0 2 4]\n",
      "   [0 2 1]]\n",
      "\n",
      "  [[2 2 0]\n",
      "   [2 4 3]\n",
      "   [2 1 1]]\n",
      "\n",
      "  [[2 0 2]\n",
      "   [4 3 2]\n",
      "   [1 1 1]]]\n",
      "\n",
      "\n",
      " [[[1 1 1]\n",
      "   [4 4 1]\n",
      "   [2 3 0]]\n",
      "\n",
      "  [[1 1 0]\n",
      "   [4 1 1]\n",
      "   [3 0 3]]\n",
      "\n",
      "  [[1 0 4]\n",
      "   [1 1 0]\n",
      "   [0 3 1]]\n",
      "\n",
      "  [[0 4 0]\n",
      "   [1 0 0]\n",
      "   [3 1 0]]\n",
      "\n",
      "  [[4 0 2]\n",
      "   [0 0 2]\n",
      "   [1 0 2]]\n",
      "\n",
      "  [[0 2 4]\n",
      "   [0 2 1]\n",
      "   [0 2 2]]\n",
      "\n",
      "  [[2 4 3]\n",
      "   [2 1 1]\n",
      "   [2 2 2]]\n",
      "\n",
      "  [[4 3 2]\n",
      "   [1 1 1]\n",
      "   [2 2 4]]]\n",
      "\n",
      "\n",
      " [[[4 4 1]\n",
      "   [2 3 0]\n",
      "   [1 3 2]]\n",
      "\n",
      "  [[4 1 1]\n",
      "   [3 0 3]\n",
      "   [3 2 4]]\n",
      "\n",
      "  [[1 1 0]\n",
      "   [0 3 1]\n",
      "   [2 4 4]]\n",
      "\n",
      "  [[1 0 0]\n",
      "   [3 1 0]\n",
      "   [4 4 0]]\n",
      "\n",
      "  [[0 0 2]\n",
      "   [1 0 2]\n",
      "   [4 0 3]]\n",
      "\n",
      "  [[0 2 1]\n",
      "   [0 2 2]\n",
      "   [0 3 2]]\n",
      "\n",
      "  [[2 1 1]\n",
      "   [2 2 2]\n",
      "   [3 2 4]]\n",
      "\n",
      "  [[1 1 1]\n",
      "   [2 2 4]\n",
      "   [2 4 2]]]\n",
      "\n",
      "\n",
      " [[[2 3 0]\n",
      "   [1 3 2]\n",
      "   [3 4 4]]\n",
      "\n",
      "  [[3 0 3]\n",
      "   [3 2 4]\n",
      "   [4 4 4]]\n",
      "\n",
      "  [[0 3 1]\n",
      "   [2 4 4]\n",
      "   [4 4 0]]\n",
      "\n",
      "  [[3 1 0]\n",
      "   [4 4 0]\n",
      "   [4 0 1]]\n",
      "\n",
      "  [[1 0 2]\n",
      "   [4 0 3]\n",
      "   [0 1 0]]\n",
      "\n",
      "  [[0 2 2]\n",
      "   [0 3 2]\n",
      "   [1 0 3]]\n",
      "\n",
      "  [[2 2 2]\n",
      "   [3 2 4]\n",
      "   [0 3 0]]\n",
      "\n",
      "  [[2 2 4]\n",
      "   [2 4 2]\n",
      "   [3 0 0]]]\n",
      "\n",
      "\n",
      " [[[1 3 2]\n",
      "   [3 4 4]\n",
      "   [2 4 3]]\n",
      "\n",
      "  [[3 2 4]\n",
      "   [4 4 4]\n",
      "   [4 3 0]]\n",
      "\n",
      "  [[2 4 4]\n",
      "   [4 4 0]\n",
      "   [3 0 2]]\n",
      "\n",
      "  [[4 4 0]\n",
      "   [4 0 1]\n",
      "   [0 2 4]]\n",
      "\n",
      "  [[4 0 3]\n",
      "   [0 1 0]\n",
      "   [2 4 2]]\n",
      "\n",
      "  [[0 3 2]\n",
      "   [1 0 3]\n",
      "   [4 2 0]]\n",
      "\n",
      "  [[3 2 4]\n",
      "   [0 3 0]\n",
      "   [2 0 2]]\n",
      "\n",
      "  [[2 4 2]\n",
      "   [3 0 0]\n",
      "   [0 2 0]]]\n",
      "\n",
      "\n",
      " [[[3 4 4]\n",
      "   [2 4 3]\n",
      "   [0 3 3]]\n",
      "\n",
      "  [[4 4 4]\n",
      "   [4 3 0]\n",
      "   [3 3 1]]\n",
      "\n",
      "  [[4 4 0]\n",
      "   [3 0 2]\n",
      "   [3 1 2]]\n",
      "\n",
      "  [[4 0 1]\n",
      "   [0 2 4]\n",
      "   [1 2 1]]\n",
      "\n",
      "  [[0 1 0]\n",
      "   [2 4 2]\n",
      "   [2 1 3]]\n",
      "\n",
      "  [[1 0 3]\n",
      "   [4 2 0]\n",
      "   [1 3 3]]\n",
      "\n",
      "  [[0 3 0]\n",
      "   [2 0 2]\n",
      "   [3 3 2]]\n",
      "\n",
      "  [[3 0 0]\n",
      "   [0 2 0]\n",
      "   [3 2 4]]]\n",
      "\n",
      "\n",
      " [[[2 4 3]\n",
      "   [0 3 3]\n",
      "   [1 2 0]]\n",
      "\n",
      "  [[4 3 0]\n",
      "   [3 3 1]\n",
      "   [2 0 2]]\n",
      "\n",
      "  [[3 0 2]\n",
      "   [3 1 2]\n",
      "   [0 2 3]]\n",
      "\n",
      "  [[0 2 4]\n",
      "   [1 2 1]\n",
      "   [2 3 2]]\n",
      "\n",
      "  [[2 4 2]\n",
      "   [2 1 3]\n",
      "   [3 2 3]]\n",
      "\n",
      "  [[4 2 0]\n",
      "   [1 3 3]\n",
      "   [2 3 0]]\n",
      "\n",
      "  [[2 0 2]\n",
      "   [3 3 2]\n",
      "   [3 0 4]]\n",
      "\n",
      "  [[0 2 0]\n",
      "   [3 2 4]\n",
      "   [0 4 2]]]]\n"
     ]
    }
   ],
   "source": [
    "myarray = np.random.randint(0,5,(10,10))\n",
    "n = 3\n",
    "i = 1 + (myarray.shape[0]-3)\n",
    "j = 1 + (myarray.shape[1]-3)\n",
    "c = stride_tricks.as_strided(myarray, shape=(i, j, n, n), strides=myarray.strides + myarray.strides)\n",
    "print(myarray)\n",
    "print(c)"
   ]
  },
  {
   "cell_type": "markdown",
   "id": "1a18b263",
   "metadata": {},
   "source": [
    "#### 85. Create a 2D array subclass such that Z[i,j] == Z[j,i] (★★★)"
   ]
  },
  {
   "cell_type": "code",
   "execution_count": 43,
   "id": "87f17adc",
   "metadata": {},
   "outputs": [
    {
     "name": "stdout",
     "output_type": "stream",
     "text": [
      "[[ 1  6 11  6  3]\n",
      " [ 6  2  7  5  5]\n",
      " [11  7  7 42 11]\n",
      " [ 6  5 42  3 11]\n",
      " [ 3  5 11 11  4]]\n"
     ]
    }
   ],
   "source": [
    "class Symetric(np.ndarray):\n",
    "    def __setitem__(self, index, value):\n",
    "        i,j = index\n",
    "        super(Symetric, self).__setitem__((i,j), value)\n",
    "        super(Symetric, self).__setitem__((j,i), value)\n",
    "\n",
    "def symetric(z):\n",
    "    return np.asarray(z + z.T - np.diag(z.diagonal())).view(Symetric)\n",
    "\n",
    "s = symetric(np.random.randint(0,10,(5,5)))\n",
    "s[2,3] = 42\n",
    "print(s)"
   ]
  },
  {
   "cell_type": "markdown",
   "id": "f85f2cad",
   "metadata": {},
   "source": [
    "#### 86. Consider a set of p matrices wich shape (n,n) and a set of p vectors with shape (n,1). How to compute the sum of of the p matrix products at once? (result has shape (n,1)) (★★★)"
   ]
  },
  {
   "cell_type": "code",
   "execution_count": 45,
   "id": "8d230557",
   "metadata": {},
   "outputs": [
    {
     "name": "stdout",
     "output_type": "stream",
     "text": [
      "[[200.]\n",
      " [200.]\n",
      " [200.]\n",
      " [200.]\n",
      " [200.]\n",
      " [200.]\n",
      " [200.]\n",
      " [200.]\n",
      " [200.]\n",
      " [200.]\n",
      " [200.]\n",
      " [200.]\n",
      " [200.]\n",
      " [200.]\n",
      " [200.]\n",
      " [200.]\n",
      " [200.]\n",
      " [200.]\n",
      " [200.]\n",
      " [200.]]\n"
     ]
    }
   ],
   "source": [
    "p = 10 \n",
    "n = 20\n",
    "m = np.ones((p,n,n))\n",
    "v = np.ones((p,n,1))\n",
    "s = np.tensordot(m, v, axes=[[0, 2], [0, 1]])\n",
    "print(s)"
   ]
  },
  {
   "cell_type": "markdown",
   "id": "5afb72c8",
   "metadata": {},
   "source": [
    "#### 87. Consider a 16x16 array, how to get the block-sum (block size is 4x4)? (★★★)"
   ]
  },
  {
   "cell_type": "code",
   "execution_count": 172,
   "id": "e86f47a9",
   "metadata": {},
   "outputs": [
    {
     "name": "stdout",
     "output_type": "stream",
     "text": [
      "[[16. 16. 16. 16.]\n",
      " [16. 16. 16. 16.]\n",
      " [16. 16. 16. 16.]\n",
      " [16. 16. 16. 16.]]\n"
     ]
    }
   ],
   "source": [
    "myarray = np.ones((16,16))\n",
    "k = 4\n",
    "s = np.add.reduceat(np.add.reduceat(myarray, np.arange(0, myarray.shape[0], k), axis=0),\n",
    "                                       np.arange(0, myarray.shape[1], k), axis=1)\n",
    "print(s)"
   ]
  },
  {
   "cell_type": "markdown",
   "id": "6094d37c",
   "metadata": {},
   "source": [
    "#### 88. How to implement the Game of Life using numpy arrays? (★★★)"
   ]
  },
  {
   "cell_type": "code",
   "execution_count": 173,
   "id": "a93e715f",
   "metadata": {},
   "outputs": [
    {
     "name": "stdout",
     "output_type": "stream",
     "text": [
      "[[0 0 0 0 0 0 0 0 0 0 0 0 0 0 0 0 0 0 0 0 0 0 0 0 0 0 0 0 0 0 0 0 0 0 0 0\n",
      "  0 0 0 0 0 0 0 0 0 0 0 0 0 0]\n",
      " [0 0 0 0 0 0 1 0 0 0 1 0 0 0 0 0 0 0 0 0 0 0 0 0 0 0 0 0 0 0 0 0 0 0 0 0\n",
      "  0 0 0 0 0 0 0 0 0 0 0 0 0 0]\n",
      " [0 0 0 0 0 0 1 0 0 0 1 0 0 0 0 0 0 0 0 0 0 0 0 0 0 0 0 0 0 0 0 0 0 0 0 0\n",
      "  0 0 0 0 0 0 0 0 0 0 0 0 0 0]\n",
      " [0 0 0 0 0 0 0 0 0 0 0 0 0 0 0 0 0 0 0 0 0 0 0 0 0 0 0 0 0 0 0 0 0 0 0 0\n",
      "  0 1 1 1 0 0 0 0 0 0 0 0 0 0]\n",
      " [0 0 0 0 0 0 0 0 0 0 0 0 0 1 1 0 0 0 0 0 0 0 0 0 0 0 0 0 0 0 0 0 0 0 0 0\n",
      "  1 1 0 0 1 1 0 0 0 0 0 0 0 0]\n",
      " [0 0 0 0 0 0 0 0 0 1 1 0 1 1 0 0 0 0 0 0 0 0 0 0 0 0 0 0 0 0 0 0 0 0 0 0\n",
      "  1 0 0 0 0 0 1 0 0 0 0 0 0 0]\n",
      " [0 0 0 0 0 0 1 1 1 0 0 1 1 0 0 0 0 0 0 0 0 0 0 0 0 0 0 0 0 0 0 0 0 0 1 0\n",
      "  0 0 0 0 0 1 1 0 0 0 0 0 0 0]\n",
      " [0 0 0 0 0 0 1 1 1 0 0 0 0 0 0 0 0 0 0 0 0 0 0 0 0 0 0 0 0 0 0 0 0 1 0 0\n",
      "  0 0 0 0 0 1 0 0 0 0 0 0 0 0]\n",
      " [0 0 0 0 0 0 0 0 0 0 0 0 0 0 0 0 0 0 0 0 0 0 0 0 0 0 0 0 0 0 0 0 1 0 0 0\n",
      "  0 1 1 0 0 0 0 0 0 0 0 0 0 0]\n",
      " [0 0 0 0 1 0 0 0 0 0 0 0 0 0 0 0 0 0 0 0 0 0 0 0 0 0 0 0 0 0 0 0 0 0 1 0\n",
      "  1 0 0 0 0 0 0 0 0 0 1 0 0 0]\n",
      " [0 0 0 1 0 0 0 0 0 0 0 0 0 0 0 0 0 0 0 0 0 0 0 0 0 0 0 0 0 0 0 0 0 1 0 1\n",
      "  0 0 0 0 0 0 1 1 1 0 1 1 0 0]\n",
      " [0 0 0 0 1 0 0 0 0 0 0 0 0 0 0 0 0 0 0 0 0 0 0 0 0 0 0 0 0 0 0 0 0 0 1 0\n",
      "  1 1 0 0 0 0 0 1 1 0 0 1 1 0]\n",
      " [0 0 0 0 0 0 0 0 0 0 0 0 0 0 0 0 0 0 0 0 0 0 0 0 0 0 0 0 0 0 0 0 0 0 1 0\n",
      "  0 0 0 1 0 0 0 1 0 1 0 1 0 0]\n",
      " [0 0 0 0 0 0 0 0 0 0 0 0 0 0 0 0 0 0 0 0 0 0 0 0 0 0 0 0 0 0 0 0 0 0 0 1\n",
      "  0 1 1 1 0 0 0 1 1 1 1 0 0 0]\n",
      " [0 0 0 0 0 0 0 0 0 0 0 0 0 0 0 0 0 0 0 0 0 0 0 0 0 0 0 0 0 0 0 0 0 0 0 1\n",
      "  0 0 0 0 0 1 0 0 1 0 0 0 0 0]\n",
      " [0 0 0 0 0 0 0 0 0 0 0 0 0 0 0 0 0 0 0 0 0 0 0 0 0 0 0 0 0 0 0 0 0 0 0 1\n",
      "  0 0 1 1 0 1 0 0 0 0 0 0 0 0]\n",
      " [0 0 0 0 0 0 0 0 0 0 0 0 0 0 0 0 0 0 0 0 0 0 0 0 0 0 0 0 0 1 1 0 0 0 0 0\n",
      "  1 0 0 0 0 0 1 0 0 0 0 0 0 0]\n",
      " [0 0 0 0 0 0 0 0 0 0 0 0 0 0 0 0 0 0 0 0 0 0 0 0 0 0 0 0 1 0 0 1 0 0 0 0\n",
      "  0 1 1 0 0 1 0 0 0 0 0 0 0 0]\n",
      " [0 0 0 0 0 0 0 0 0 0 0 0 1 0 0 0 0 0 0 0 0 0 0 1 1 0 0 0 0 1 1 0 0 0 0 0\n",
      "  0 0 1 0 0 1 0 0 0 0 0 0 0 0]\n",
      " [0 0 0 0 0 0 0 0 0 0 0 1 1 1 0 0 0 0 0 0 0 0 0 0 0 0 0 0 0 0 0 0 0 0 0 0\n",
      "  0 0 0 1 1 0 0 0 0 0 0 0 0 0]\n",
      " [0 0 0 0 0 0 0 0 0 0 1 1 0 1 1 1 1 1 0 0 0 0 0 0 0 0 0 0 0 0 0 0 0 0 0 0\n",
      "  0 0 0 0 0 0 0 0 0 0 0 0 0 0]\n",
      " [0 0 0 0 0 0 0 0 0 0 0 1 1 1 0 0 0 0 1 0 0 0 0 1 1 0 0 0 0 0 0 0 0 0 0 0\n",
      "  0 0 0 0 0 0 0 0 0 0 0 0 0 0]\n",
      " [0 0 0 0 0 0 0 0 0 0 0 0 1 0 0 0 1 1 0 0 0 0 0 0 0 0 0 0 0 0 0 0 0 0 0 0\n",
      "  0 0 1 0 0 0 0 0 0 0 0 0 0 0]\n",
      " [0 0 0 0 0 0 0 0 0 0 0 0 0 0 0 0 0 1 0 0 0 0 0 0 0 0 0 0 0 0 0 0 0 0 0 0\n",
      "  0 1 1 1 0 0 0 0 0 0 0 0 0 0]\n",
      " [0 0 0 0 0 0 0 0 0 0 0 0 0 0 0 0 0 0 0 0 0 0 0 0 0 0 0 0 0 1 0 0 0 0 0 0\n",
      "  1 0 0 0 1 0 0 0 0 0 0 0 0 0]\n",
      " [0 0 0 0 0 0 0 0 0 0 0 0 0 0 0 0 0 0 0 0 0 0 0 0 0 0 0 0 0 1 0 0 0 0 0 1\n",
      "  0 0 1 1 0 0 0 0 1 0 0 0 0 0]\n",
      " [0 0 0 1 0 0 0 0 0 0 0 0 0 0 0 0 0 0 0 0 0 0 0 0 0 0 0 0 0 1 0 0 0 0 0 0\n",
      "  1 1 1 0 0 0 0 1 0 1 0 0 0 0]\n",
      " [0 0 1 0 1 0 0 0 0 0 0 0 0 0 0 0 0 0 0 0 0 0 0 0 0 0 0 0 0 0 0 0 0 0 0 0\n",
      "  0 0 0 0 0 0 0 0 1 0 0 0 0 0]\n",
      " [0 0 1 0 1 0 0 0 0 0 0 0 0 0 0 0 0 0 0 0 0 0 0 0 0 0 0 0 0 0 0 0 0 1 0 0\n",
      "  0 0 0 0 0 0 0 0 0 0 0 0 0 0]\n",
      " [0 0 0 1 0 0 0 0 0 0 0 0 0 0 0 0 0 0 0 0 0 0 0 0 0 0 0 0 0 0 0 0 1 0 1 0\n",
      "  0 0 0 0 0 0 0 0 0 0 0 0 0 0]\n",
      " [0 0 0 0 0 0 0 0 0 0 0 0 0 0 0 0 0 0 0 0 0 0 0 0 0 0 0 0 0 0 0 0 1 0 1 0\n",
      "  0 0 0 0 0 0 0 0 0 0 0 0 0 0]\n",
      " [0 0 0 0 0 0 0 0 0 0 0 0 0 0 0 0 0 0 0 0 0 0 0 0 0 0 0 0 0 0 0 0 0 1 0 0\n",
      "  0 0 0 0 0 0 0 0 0 0 0 0 0 0]\n",
      " [0 0 0 0 0 0 0 0 0 0 0 0 0 0 0 0 0 0 0 0 0 0 0 0 0 0 0 0 0 0 0 0 0 0 0 0\n",
      "  0 0 0 0 0 0 0 0 0 0 0 0 0 0]\n",
      " [0 0 0 0 0 0 0 0 0 0 0 0 0 0 0 0 0 0 0 0 0 0 0 0 0 0 0 0 0 0 0 0 0 0 0 0\n",
      "  0 0 0 0 0 0 0 0 0 1 1 0 0 0]\n",
      " [0 0 0 0 0 0 0 0 0 0 0 0 0 0 0 0 0 0 0 0 0 0 0 0 0 0 0 0 0 0 0 0 0 0 0 0\n",
      "  0 0 0 0 0 0 0 0 0 1 1 0 0 0]\n",
      " [0 0 0 0 0 0 0 0 0 0 0 0 0 0 0 0 0 0 0 0 0 0 0 0 0 0 0 0 0 0 0 0 0 0 0 0\n",
      "  0 0 0 0 0 0 0 0 0 0 0 0 0 0]\n",
      " [0 0 0 0 0 0 0 0 0 0 0 0 0 0 0 0 0 0 0 0 0 0 0 0 0 0 0 0 0 0 0 0 0 0 0 0\n",
      "  0 0 0 0 0 0 0 0 0 0 0 0 0 0]\n",
      " [0 0 0 0 0 0 0 0 0 0 0 0 0 0 0 0 0 0 0 0 0 0 0 0 0 0 0 0 0 0 0 0 0 0 0 0\n",
      "  0 0 0 0 0 0 0 0 0 0 0 0 0 0]\n",
      " [0 0 0 0 0 0 1 0 0 0 0 1 0 0 0 0 0 0 0 0 0 0 0 0 0 0 0 0 0 0 0 0 0 0 0 0\n",
      "  0 0 0 0 0 0 0 0 0 0 0 0 0 0]\n",
      " [0 0 0 0 0 0 0 1 1 0 0 1 1 0 0 0 0 0 0 0 0 0 0 0 0 0 0 0 0 0 0 0 0 0 0 0\n",
      "  0 0 0 0 0 0 0 0 0 0 0 0 0 0]\n",
      " [0 0 0 1 1 1 1 0 0 0 0 0 0 1 0 0 0 0 0 0 0 0 0 0 0 0 0 0 0 0 0 0 0 0 0 0\n",
      "  0 0 0 0 0 0 0 0 0 0 0 0 0 0]\n",
      " [0 0 0 1 1 0 0 0 0 0 0 1 1 0 0 0 0 0 0 0 0 0 0 0 0 0 0 0 0 0 0 0 0 0 0 0\n",
      "  0 0 0 0 0 0 0 0 0 0 1 1 0 0]\n",
      " [0 0 1 0 0 1 0 0 0 0 0 1 0 0 0 0 0 0 0 0 0 0 0 0 0 0 0 0 0 0 0 0 0 0 0 0\n",
      "  0 0 0 0 0 1 1 0 0 0 1 1 0 0]\n",
      " [0 0 0 1 1 0 0 0 0 0 0 0 0 0 0 0 0 0 0 0 0 0 0 0 0 0 0 0 0 0 0 0 0 0 0 0\n",
      "  0 0 0 0 0 1 1 0 0 0 0 0 0 0]\n",
      " [0 0 0 0 1 0 0 0 0 0 0 0 0 0 0 0 0 0 0 0 0 0 0 0 0 0 0 0 0 0 0 0 0 0 0 0\n",
      "  0 0 0 0 0 0 0 0 0 0 0 0 0 0]\n",
      " [0 0 0 0 0 0 0 0 0 0 0 0 0 0 0 0 0 0 1 1 0 0 0 0 0 0 0 0 0 0 0 0 0 0 0 0\n",
      "  0 0 0 0 0 0 0 0 0 0 0 0 0 0]\n",
      " [0 0 0 0 0 0 0 0 0 0 0 1 1 0 0 0 0 0 1 1 0 0 1 1 0 0 0 0 0 0 0 0 0 0 0 0\n",
      "  0 0 0 0 0 0 0 0 0 0 0 0 0 0]\n",
      " [0 0 0 0 0 0 0 0 0 0 0 1 1 0 0 0 0 0 0 0 0 0 1 1 0 0 0 0 0 0 0 0 0 0 0 0\n",
      "  0 0 0 0 0 0 0 0 0 0 0 0 0 0]\n",
      " [0 0 0 0 0 0 0 0 0 0 0 0 0 0 0 0 0 0 0 0 0 0 0 0 0 0 0 0 0 0 0 0 0 0 0 0\n",
      "  0 0 0 0 0 0 0 0 0 0 0 0 0 0]\n",
      " [0 0 0 0 0 0 0 0 0 0 0 0 0 0 0 0 0 0 0 0 0 0 0 0 0 0 0 0 0 0 0 0 0 0 0 0\n",
      "  0 0 0 0 0 0 0 0 0 0 0 0 0 0]]\n"
     ]
    }
   ],
   "source": [
    "def iterate(myarray):\n",
    "    # Count neighbours\n",
    "    n = (myarray[0:-2,0:-2] + myarray[0:-2,1:-1] + myarray[0:-2,2:] +\n",
    "         myarray[1:-1,0:-2]                + myarray[1:-1,2:] +\n",
    "         myarray[2:  ,0:-2] + myarray[2:  ,1:-1] + myarray[2:  ,2:])\n",
    "\n",
    "    # Apply rules\n",
    "    birth = (n==3) & (myarray[1:-1,1:-1]==0)\n",
    "    survive = ((n==2) | (n==3)) & (myarray[1:-1,1:-1]==1)\n",
    "    myarray[...] = 0\n",
    "    myarray[1:-1,1:-1][birth | survive] = 1\n",
    "    return myarray\n",
    "\n",
    "myarray = np.random.randint(0,2,(50,50))\n",
    "for i in range(100): myarray = iterate(myarray)\n",
    "print(myarray)"
   ]
  },
  {
   "cell_type": "markdown",
   "id": "a173cf96",
   "metadata": {},
   "source": [
    "#### 89. How to get the n largest values of an array (★★★)"
   ]
  },
  {
   "cell_type": "code",
   "execution_count": 54,
   "id": "b7c2ff35",
   "metadata": {},
   "outputs": [
    {
     "name": "stdout",
     "output_type": "stream",
     "text": [
      "[5 6 7 8 9]\n"
     ]
    }
   ],
   "source": [
    "myarray = np.arange(10)\n",
    "np.random.shuffle(myarray)\n",
    "n = 5\n",
    "print (myarray[np.argsort(myarray)[-n:]])"
   ]
  },
  {
   "cell_type": "markdown",
   "id": "15db2d01",
   "metadata": {},
   "source": [
    "#### 90. Given an arbitrary number of vectors, build the cartesian product (every combinations of every item) (★★★)"
   ]
  },
  {
   "cell_type": "code",
   "execution_count": 55,
   "id": "a9a4633d",
   "metadata": {},
   "outputs": [
    {
     "name": "stdout",
     "output_type": "stream",
     "text": [
      "[[1 4 6]\n",
      " [1 4 7]\n",
      " [1 5 6]\n",
      " [1 5 7]\n",
      " [2 4 6]\n",
      " [2 4 7]\n",
      " [2 5 6]\n",
      " [2 5 7]\n",
      " [3 4 6]\n",
      " [3 4 7]\n",
      " [3 5 6]\n",
      " [3 5 7]]\n"
     ]
    }
   ],
   "source": [
    "def cartesian(arrays):\n",
    "    arrays = [np.asarray(a) for a in arrays]\n",
    "    shape = (len(x) for x in arrays)\n",
    "\n",
    "    ix = np.indices(shape, dtype=int)\n",
    "    ix = ix.reshape(len(arrays), -1).T\n",
    "\n",
    "    for n, arr in enumerate(arrays):\n",
    "        ix[:, n] = arrays[n][ix[:, n]]\n",
    "\n",
    "    return ix\n",
    "\n",
    "print (cartesian(([1, 2, 3], [4, 5], [6, 7])))"
   ]
  },
  {
   "cell_type": "markdown",
   "id": "5d94d1ef",
   "metadata": {},
   "source": [
    "#### 91. How to create a record array from a regular array? (★★★)"
   ]
  },
  {
   "cell_type": "code",
   "execution_count": 56,
   "id": "b1dae380",
   "metadata": {},
   "outputs": [
    {
     "name": "stdout",
     "output_type": "stream",
     "text": [
      "[(b'Hello', 2.5, 3) (b'World', 3.6, 2)]\n"
     ]
    }
   ],
   "source": [
    "myarray = np.array([(\"Hello\", 2.5, 3),\n",
    "              (\"World\", 3.6, 2)])\n",
    "r = np.core.records.fromarrays(myarray.T,\n",
    "                               names='col1, col2, col3',\n",
    "                               formats = 'S8, f8, i8')\n",
    "print(r)"
   ]
  },
  {
   "cell_type": "markdown",
   "id": "114ccc36",
   "metadata": {},
   "source": [
    "#### 92. Consider a large vector Z, compute Z to the power of 3 using 3 different methods (★★★)"
   ]
  },
  {
   "cell_type": "code",
   "execution_count": 174,
   "id": "877c65d6",
   "metadata": {},
   "outputs": [
    {
     "name": "stdout",
     "output_type": "stream",
     "text": [
      "6.83 ms ± 416 µs per loop (mean ± std. dev. of 7 runs, 100 loops each)\n",
      "1.41 ms ± 48.8 µs per loop (mean ± std. dev. of 7 runs, 1,000 loops each)\n",
      "218 µs ± 13.6 µs per loop (mean ± std. dev. of 7 runs, 1,000 loops each)\n"
     ]
    }
   ],
   "source": [
    "x = np.random.rand(int(100000))\n",
    "\n",
    "%timeit np.power(x,3)\n",
    "%timeit x*x*x\n",
    "%timeit np.einsum('i,i,i->i',x,x,x)"
   ]
  },
  {
   "cell_type": "markdown",
   "id": "d614fee4",
   "metadata": {},
   "source": [
    "#### 93. Consider two arrays A and B of shape (8,3) and (2,2). How to find rows of A that contain elements of each row of B regardless of the order of the elements in B? (★★★)"
   ]
  },
  {
   "cell_type": "code",
   "execution_count": 11,
   "id": "e6807a84",
   "metadata": {},
   "outputs": [
    {
     "name": "stdout",
     "output_type": "stream",
     "text": [
      "[0 1 4 5 7]\n"
     ]
    }
   ],
   "source": [
    "a = np.random.randint(0,5,(8,3))\n",
    "b = np.random.randint(0,5,(2,2))\n",
    "\n",
    "c = (a[..., np.newaxis, np.newaxis] == b)\n",
    "rows = np.where(c.any((3,1)).all(1))[0]\n",
    "print(rows)"
   ]
  },
  {
   "cell_type": "markdown",
   "id": "b0eedca6",
   "metadata": {},
   "source": [
    "#### 94. Considering a 10x3 matrix, extract rows with unequal values (e.g. [2,2,3]) (★★★)"
   ]
  },
  {
   "cell_type": "code",
   "execution_count": 178,
   "id": "fc136ce2",
   "metadata": {},
   "outputs": [
    {
     "name": "stdout",
     "output_type": "stream",
     "text": [
      "[[0 2 0]\n",
      " [0 4 4]\n",
      " [0 2 0]\n",
      " [2 0 2]\n",
      " [0 3 2]\n",
      " [2 1 1]\n",
      " [1 1 0]\n",
      " [3 4 3]\n",
      " [1 3 0]\n",
      " [4 3 3]]\n",
      "[[0 2 0]\n",
      " [0 4 4]\n",
      " [0 2 0]\n",
      " [2 0 2]\n",
      " [0 3 2]\n",
      " [2 1 1]\n",
      " [1 1 0]\n",
      " [3 4 3]\n",
      " [1 3 0]\n",
      " [4 3 3]]\n",
      "[[0 2 0]\n",
      " [0 4 4]\n",
      " [0 2 0]\n",
      " [2 0 2]\n",
      " [0 3 2]\n",
      " [2 1 1]\n",
      " [1 1 0]\n",
      " [3 4 3]\n",
      " [1 3 0]\n",
      " [4 3 3]]\n"
     ]
    }
   ],
   "source": [
    "myarray = np.random.randint(0,5,(10,3))\n",
    "print(myarray)\n",
    "e = np.all(myarray[:,1:] == myarray[:,:-1], axis=1)\n",
    "u = myarray[~e]\n",
    "print(u)\n",
    "u = myarray[myarray.max(axis=1) != myarray.min(axis=1),:]\n",
    "print(u)"
   ]
  },
  {
   "cell_type": "markdown",
   "id": "a65ec1cf",
   "metadata": {},
   "source": [
    "#### 95. Convert a vector of ints into a matrix binary representation (★★★)"
   ]
  },
  {
   "cell_type": "code",
   "execution_count": 14,
   "id": "323cdf4c",
   "metadata": {},
   "outputs": [
    {
     "name": "stdout",
     "output_type": "stream",
     "text": [
      "[[0 0 0 0 0 0 0 0]\n",
      " [0 0 0 0 0 0 0 1]\n",
      " [0 0 0 0 0 0 1 0]\n",
      " [0 0 0 0 0 0 1 1]\n",
      " [0 0 0 0 1 1 1 1]\n",
      " [0 0 0 1 0 0 0 0]\n",
      " [0 0 1 0 0 0 0 0]\n",
      " [0 1 0 0 0 0 0 0]\n",
      " [1 0 0 0 0 0 0 0]]\n"
     ]
    }
   ],
   "source": [
    "myarray = np.array([0, 1, 2, 3, 15, 16, 32, 64, 128], dtype=np.uint8)\n",
    "print(np.unpackbits(myarray[:, np.newaxis], axis=1))"
   ]
  },
  {
   "cell_type": "markdown",
   "id": "75b9397f",
   "metadata": {},
   "source": [
    "#### 96. Given a two dimensional array, how to extract unique rows? (★★★)"
   ]
  },
  {
   "cell_type": "code",
   "execution_count": 184,
   "id": "9bb56a47",
   "metadata": {},
   "outputs": [
    {
     "name": "stdout",
     "output_type": "stream",
     "text": [
      "[[0 0 0]\n",
      " [0 0 1]\n",
      " [0 1 0]\n",
      " [0 1 1]\n",
      " [1 1 0]\n",
      " [1 1 1]]\n"
     ]
    }
   ],
   "source": [
    "myarray = np.random.randint(0,2,(6,3))\n",
    "T = np.ascontiguousarray(myarray).view(np.dtype((np.void, myarray.dtype.itemsize * myarray.shape[1])))\n",
    "_, idx = np.unique(T, return_index=True)\n",
    "umyarray = myarray[idx]\n",
    "print(umyarray)"
   ]
  },
  {
   "cell_type": "markdown",
   "id": "82aaf21b",
   "metadata": {},
   "source": [
    "#### 97. Considering 2 vectors A & B, write the einsum equivalent of inner, outer, sum, and mul function (★★★)"
   ]
  },
  {
   "cell_type": "code",
   "execution_count": 22,
   "id": "cedcefd9",
   "metadata": {},
   "outputs": [
    {
     "data": {
      "text/plain": [
       "array([[0.75590243, 0.35294202, 0.52917566, 0.45863999, 0.77103817,\n",
       "        0.23868678, 0.59389642, 0.02728906, 0.73924307, 0.37015477],\n",
       "       [0.19959012, 0.09319158, 0.13972469, 0.1211003 , 0.20358659,\n",
       "        0.06302337, 0.1568137 , 0.00720546, 0.19519134, 0.09773647],\n",
       "       [0.5962712 , 0.27840784, 0.41742452, 0.36178454, 0.60821058,\n",
       "        0.18828098, 0.46847757, 0.02152616, 0.58312996, 0.2919856 ],\n",
       "       [0.63791712, 0.29785294, 0.44657908, 0.38705299, 0.65069039,\n",
       "        0.20143126, 0.50119788, 0.02302963, 0.62385804, 0.31237902],\n",
       "       [0.43869758, 0.20483439, 0.30711382, 0.26617754, 0.44748179,\n",
       "        0.1385249 , 0.34467533, 0.01583755, 0.42902911, 0.21482402],\n",
       "       [0.58841265, 0.27473857, 0.41192307, 0.35701641, 0.60019467,\n",
       "        0.18579953, 0.46230327, 0.02124246, 0.5754446 , 0.28813738],\n",
       "       [0.44670339, 0.20857242, 0.31271835, 0.27103503, 0.45564791,\n",
       "        0.14105285, 0.35096533, 0.01612657, 0.43685848, 0.21874435],\n",
       "       [0.89728444, 0.41895537, 0.62815129, 0.54442281, 0.91525112,\n",
       "        0.28333013, 0.70497725, 0.03239313, 0.87750915, 0.43938754],\n",
       "       [0.5759251 , 0.26890794, 0.40318106, 0.34943965, 0.58745707,\n",
       "        0.18185642, 0.45249207, 0.02079164, 0.56323226, 0.2820224 ],\n",
       "       [0.22590882, 0.10548017, 0.15814931, 0.13706904, 0.23043228,\n",
       "        0.07133387, 0.17749174, 0.0081556 , 0.22093001, 0.11062436]])"
      ]
     },
     "execution_count": 22,
     "metadata": {},
     "output_type": "execute_result"
    }
   ],
   "source": [
    "A = np.random.uniform(0,1,10)\n",
    "B = np.random.uniform(0,1,10)\n",
    "\n",
    "np.einsum('i->', A)       # np.sum(A)\n",
    "np.einsum('i,i->i', A, B) # A * B\n",
    "np.einsum('i,i', A, B)    # np.inner(A, B)\n",
    "np.einsum('i,j->ij', A, B)    # np.outer(A, B)"
   ]
  },
  {
   "cell_type": "markdown",
   "id": "7741e17f",
   "metadata": {},
   "source": [
    "#### 98. Considering a path described by two vectors (X,Y), how to sample it using equidistant samples (★★★)?"
   ]
  },
  {
   "cell_type": "code",
   "execution_count": 182,
   "id": "0b2432fe",
   "metadata": {},
   "outputs": [
    {
     "name": "stdout",
     "output_type": "stream",
     "text": [
      "[  0.           2.48788858   4.97577716   7.46366574   9.95155432\n",
      "  12.43944289  14.92733147  17.41522005  19.90310863  22.39099721\n",
      "  24.87888579  27.36677437  29.85466295  32.34255152  34.8304401\n",
      "  37.31832868  39.80621726  42.29410584  44.78199442  47.269883\n",
      "  49.75777158  52.24566016  54.73354873  57.22143731  59.70932589\n",
      "  62.19721447  64.68510305  67.17299163  69.66088021  72.14876879\n",
      "  74.63665736  77.12454594  79.61243452  82.1003231   84.58821168\n",
      "  87.07610026  89.56398884  92.05187742  94.539766    97.02765457\n",
      "  99.51554315 102.00343173 104.49132031 106.97920889 109.46709747\n",
      " 111.95498605 114.44287463 116.9307632  119.41865178 121.90654036\n",
      " 124.39442894 126.88231752 129.3702061  131.85809468 134.34598326\n",
      " 136.83387184 139.32176041 141.80964899 144.29753757 146.78542615\n",
      " 149.27331473 151.76120331 154.24909189 156.73698047 159.22486904\n",
      " 161.71275762 164.2006462  166.68853478 169.17642336 171.66431194\n",
      " 174.15220052 176.6400891  179.12797768 181.61586625 184.10375483\n",
      " 186.59164341 189.07953199 191.56742057 194.05530915 196.54319773\n",
      " 199.03108631 201.51897488 204.00686346 206.49475204 208.98264062\n",
      " 211.4705292  213.95841778 216.44630636 218.93419494 221.42208352\n",
      " 223.90997209 226.39786067 228.88574925 231.37363783 233.86152641\n",
      " 236.34941499 238.83730357 241.32519215 243.81308072 246.3009693\n",
      " 248.78885788 251.27674646 253.76463504 256.25252362 258.7404122\n",
      " 261.22830078 263.71618936 266.20407793 268.69196651 271.17985509\n",
      " 273.66774367 276.15563225 278.64352083 281.13140941 283.61929799\n",
      " 286.10718656 288.59507514 291.08296372 293.5708523  296.05874088\n",
      " 298.54662946 301.03451804 303.52240662 306.0102952  308.49818377\n",
      " 310.98607235 313.47396093 315.96184951 318.44973809 320.93762667\n",
      " 323.42551525 325.91340383 328.4012924  330.88918098 333.37706956\n",
      " 335.86495814 338.35284672 340.8407353  343.32862388 345.81651246\n",
      " 348.30440104 350.79228961 353.28017819 355.76806677 358.25595535\n",
      " 360.74384393 363.23173251 365.71962109 368.20750967 370.69539824\n",
      " 373.18328682 375.6711754  378.15906398 380.64695256 383.13484114\n",
      " 385.62272972 388.1106183  390.59850688 393.08639545 395.57428403\n",
      " 398.06217261 400.55006119 403.03794977 405.52583835 408.01372693\n",
      " 410.50161551 412.98950408 415.47739266 417.96528124 420.45316982\n",
      " 422.9410584  425.42894698 427.91683556 430.40472414 432.89261272\n",
      " 435.38050129 437.86838987 440.35627845 442.84416703 445.33205561\n",
      " 447.81994419 450.30783277 452.79572135 455.28360992 457.7714985\n",
      " 460.25938708 462.74727566 465.23516424 467.72305282 470.2109414\n",
      " 472.69882998 475.18671856 477.67460713 480.16249571 482.65038429\n",
      " 485.13827287 487.62616145 490.11405003 492.60193861 495.08982719]\n",
      "[ 0.00000000e+00 -3.73131229e-01 -2.59817608e+00 -3.26212050e+00\n",
      " -2.18442687e+00 -2.98929946e-02  2.42923642e+00  4.54913599e+00\n",
      "  5.92318348e+00  6.35117933e+00  5.82369277e+00  4.46259540e+00\n",
      "  2.47320794e+00  1.09577220e-01 -2.36575300e+00 -4.71261671e+00\n",
      " -6.72701769e+00 -8.25541575e+00 -9.18486120e+00 -9.46381505e+00\n",
      " -9.11085788e+00 -8.12875279e+00 -6.63306046e+00 -4.69271059e+00\n",
      " -2.44736165e+00 -2.05444585e-02  2.46101146e+00  4.86841760e+00\n",
      "  7.08937968e+00  9.02539126e+00  1.05948609e+01  1.17357250e+01\n",
      "  1.24068974e+01  1.25885805e+01  1.22815267e+01  1.15053927e+01\n",
      "  1.02963689e+01  8.70429550e+00  6.78948686e+00  4.61716636e+00\n",
      "  2.25853448e+00 -1.98731680e-01 -2.68040566e+00 -5.11543300e+00\n",
      " -7.41973991e+00 -9.53891040e+00 -1.14237629e+01 -1.29919305e+01\n",
      " -1.42355069e+01 -1.51243232e+01 -1.56061571e+01 -1.57219415e+01\n",
      " -1.54217066e+01 -1.47579136e+01 -1.37255236e+01 -1.23634834e+01\n",
      " -1.07024632e+01 -8.78327367e+00 -6.65029558e+00 -4.35514246e+00\n",
      " -1.94290275e+00  5.28038914e-01  3.00985904e+00  5.45450275e+00\n",
      "  7.80093594e+00  1.00179639e+01  1.20595602e+01  1.38732623e+01\n",
      "  1.54564938e+01  1.67497894e+01  1.77435802e+01  1.84439878e+01\n",
      "  1.87990820e+01  1.88271003e+01  1.85472755e+01  1.79378850e+01\n",
      "  1.70105456e+01  1.58085777e+01  1.43501808e+01  1.26222364e+01\n",
      "  1.06905445e+01  8.58498641e+00  6.33562529e+00  3.96179025e+00\n",
      "  1.51802643e+00 -9.61699044e-01 -3.44349301e+00 -5.88951759e+00\n",
      " -8.26006582e+00 -1.05270865e+01 -1.26610269e+01 -1.46343020e+01\n",
      " -1.64206033e+01 -1.79708499e+01 -1.92894561e+01 -2.03605967e+01\n",
      " -2.11716587e+01 -2.17133504e+01 -2.19797677e+01 -2.19626531e+01\n",
      " -2.16476737e+01 -2.10622561e+01 -2.02145809e+01 -1.91158467e+01\n",
      " -1.77800930e+01 -1.62239930e+01 -1.44666197e+01 -1.25291882e+01\n",
      " -1.04347777e+01 -8.20773276e+00 -5.86978851e+00 -3.45563299e+00\n",
      " -9.92556869e-01  1.49191203e+00  3.97031733e+00  6.41557503e+00\n",
      "  8.80126359e+00  1.11019001e+01  1.32931995e+01  1.53523150e+01\n",
      "  1.72580567e+01  1.89910866e+01  2.05340895e+01  2.18719167e+01\n",
      "  2.29917039e+01  2.38829603e+01  2.45376309e+01  2.49501314e+01\n",
      "  2.51173551e+01  2.50386548e+01  2.47157984e+01  2.41529019e+01\n",
      "  2.33563391e+01  2.23346314e+01  2.10983193e+01  1.96598169e+01\n",
      "  1.80332532e+01  1.62343003e+01  1.42799934e+01  1.21885425e+01\n",
      "  9.97914013e+00  7.67176574e+00  5.28699023e+00  2.84441658e+00\n",
      "  3.68190102e-01 -2.11846865e+00 -4.59426061e+00 -7.03829202e+00\n",
      " -9.43024209e+00 -1.17505186e+01 -1.39803999e+01 -1.61021634e+01\n",
      " -1.80991985e+01 -1.99561058e+01 -2.16587804e+01 -2.31850397e+01\n",
      " -2.45166960e+01 -2.56568097e+01 -2.65976904e+01 -2.73332424e+01\n",
      " -2.78589555e+01 -2.81718833e+01 -2.82706110e+01 -2.81552119e+01\n",
      " -2.78066635e+01 -2.72341677e+01 -2.64578863e+01 -2.54844118e+01\n",
      " -2.43214986e+01 -2.29779690e+01 -2.14636172e+01 -1.97837046e+01\n",
      " -1.79341987e+01 -1.59545785e+01 -1.38585628e+01 -1.16602783e+01\n",
      " -9.37416511e+00 -7.01488958e+00 -4.59184632e+00 -2.12995331e+00\n",
      "  3.50691071e-01  2.83498918e+00  5.30813450e+00  7.75565814e+00\n",
      "  1.01522531e+01  1.24813227e+01  1.47337756e+01  1.68973642e+01\n",
      "  1.89604991e+01  2.09071945e+01  2.26943693e+01  2.43420179e+01\n",
      "  2.58422998e+01  2.71881423e+01  2.83731992e+01  2.93376609e+01\n",
      "  3.01222558e+01  3.07280750e+01  3.11531219e+01  3.13960177e+01]\n",
      "[ 0.00000000e+00  1.74026724e+00  9.81816584e-01 -1.34251287e+00\n",
      " -3.53191891e+00 -4.70449474e+00 -4.59573427e+00 -3.33831870e+00\n",
      " -1.28956083e+00  1.14234685e+00  3.55645601e+00  5.62188218e+00\n",
      "  7.09389488e+00  7.82951803e+00  7.78700678e+00  6.99685666e+00\n",
      "  5.55535240e+00  3.60417006e+00  1.30506373e+00 -1.15819722e+00\n",
      " -3.61328132e+00 -5.89130465e+00 -7.87065053e+00 -9.41689057e+00\n",
      " -1.04714836e+01 -1.09903787e+01 -1.09354306e+01 -1.03330912e+01\n",
      " -9.22690166e+00 -7.67489830e+00 -5.75257980e+00 -3.54832201e+00\n",
      " -1.15854355e+00  1.31709956e+00  3.78023622e+00  6.13780326e+00\n",
      "  8.30540149e+00  1.02098724e+01  1.17910419e+01  1.29972950e+01\n",
      "  1.37774249e+01  1.41319792e+01  1.40585758e+01  1.35636816e+01\n",
      "  1.26345244e+01  1.13409083e+01  9.72216360e+00  7.79464305e+00\n",
      "  5.64544223e+00  3.32503222e+00  8.88107041e-01 -1.59329248e+00\n",
      " -4.05992507e+00 -6.45313746e+00 -8.71327144e+00 -1.07900854e+01\n",
      " -1.26380653e+01 -1.42147006e+01 -1.54892299e+01 -1.64390858e+01\n",
      " -1.70351433e+01 -1.72938948e+01 -1.71685631e+01 -1.67219979e+01\n",
      " -1.59044166e+01 -1.47824153e+01 -1.33665280e+01 -1.16678134e+01\n",
      " -9.75246391e+00 -7.63091465e+00 -5.35345831e+00 -2.96905840e+00\n",
      " -5.09631905e-01  1.97507060e+00  4.44430515e+00  6.85344809e+00\n",
      "  9.15903461e+00  1.13337844e+01  1.33467125e+01  1.51336120e+01\n",
      "  1.66966787e+01  1.80162922e+01  1.90746708e+01  1.98127969e+01\n",
      "  2.02634499e+01  2.04221761e+01  2.02877631e+01  1.98449702e+01\n",
      "  1.90974465e+01  1.80799531e+01  1.68069397e+01  1.52959771e+01\n",
      "  1.35665801e+01  1.16227312e+01  9.51601869e+00  7.27388893e+00\n",
      "  4.92519240e+00  2.49981337e+00  2.82932820e-02 -2.45817963e+00\n",
      " -4.92460367e+00 -7.34030894e+00 -9.67635928e+00 -1.19050601e+01\n",
      " -1.40002645e+01 -1.59376556e+01 -1.76950019e+01 -1.92523833e+01\n",
      " -2.05923861e+01 -2.16995543e+01 -2.25478860e+01 -2.31432552e+01\n",
      " -2.34800725e+01 -2.35556687e+01 -2.33702741e+01 -2.29269662e+01\n",
      " -2.22315865e+01 -2.12926288e+01 -2.01211000e+01 -1.87303570e+01\n",
      " -1.71359212e+01 -1.53552740e+01 -1.34076356e+01 -1.13137308e+01\n",
      " -9.09554383e+00 -6.77606668e+00 -4.37904252e+00 -1.92870828e+00\n",
      "  5.50461201e-01  3.03400451e+00  5.49771780e+00  7.91788934e+00\n",
      "  1.02715222e+01  1.25365431e+01  1.46919953e+01  1.67182148e+01\n",
      "  1.85969872e+01  2.03116866e+01  2.18473923e+01  2.31909872e+01\n",
      "  2.43312337e+01  2.52588296e+01  2.59664444e+01  2.64391214e+01\n",
      "  2.66748505e+01  2.66796333e+01  2.64545680e+01  2.60026765e+01\n",
      "  2.53288265e+01  2.44396400e+01  2.33433894e+01  2.20498837e+01\n",
      "  2.05703459e+01  1.89172843e+01  1.71043584e+01  1.51396391e+01\n",
      "  1.30387952e+01  1.08294252e+01  8.52903617e+00  6.15551380e+00\n",
      "  3.72697869e+00  1.26164946e+00 -1.22228693e+00 -3.70679651e+00\n",
      " -6.17014862e+00 -8.59028675e+00 -1.09516293e+01 -1.32379536e+01\n",
      " -1.54338179e+01 -1.75246263e+01 -1.94966815e+01 -2.13317519e+01\n",
      " -2.29952001e+01 -2.44987532e+01 -2.58335652e+01 -2.69919481e+01\n",
      " -2.79673583e+01 -2.87543764e+01 -2.93186910e+01 -2.96679958e+01\n",
      " -2.98181354e+01 -2.97693731e+01 -2.95229769e+01 -2.90811595e+01\n",
      " -2.84133854e+01 -2.75430665e+01 -2.64934034e+01 -2.52713717e+01\n",
      " -2.38845608e+01 -2.23353782e+01 -2.06051319e+01 -1.87442619e+01\n",
      " -1.67635423e+01 -1.46739620e+01 -1.24866789e+01 -1.01933401e+01\n",
      " -7.83474328e+00 -5.42495146e+00 -2.97607515e+00 -5.00072086e-01]\n"
     ]
    }
   ],
   "source": [
    "phi = np.arange(0, 10*np.pi, 0.1)\n",
    "a = 1\n",
    "x = a*phi*np.cos(phi)\n",
    "y = a*phi*np.sin(phi)\n",
    "\n",
    "dr = (np.diff(x)**2 + np.diff(y)**2)**.5 # segment lengths\n",
    "r = np.zeros_like(x)\n",
    "r[1:] = np.cumsum(dr)                # integrate path\n",
    "r_int = np.linspace(0, r.max(), 200) # regular spaced path\n",
    "x_int = np.interp(r_int, r, x)       # integrate path\n",
    "y_int = np.interp(r_int, r, y)\n",
    "print(r_int)\n",
    "print(x_int)\n",
    "print(y_int)"
   ]
  },
  {
   "cell_type": "markdown",
   "id": "340d6f36",
   "metadata": {},
   "source": [
    "#### 99. Given an integer n and a 2D array X, select from X the rows which can be interpreted as draws from a multinomial distribution with n degrees, i.e., the rows which only contain integers and which sum to n. (★★★)"
   ]
  },
  {
   "cell_type": "code",
   "execution_count": 25,
   "id": "a75323ae",
   "metadata": {},
   "outputs": [
    {
     "name": "stdout",
     "output_type": "stream",
     "text": [
      "[[2. 0. 1. 1.]]\n"
     ]
    }
   ],
   "source": [
    "x = np.asarray([[1.0, 0.0, 3.0, 8.0],\n",
    "                [2.0, 0.0, 1.0, 1.0],\n",
    "                [1.5, 2.5, 1.0, 0.0]])\n",
    "n = 4\n",
    "m = np.logical_and.reduce(np.mod(x, 1) == 0, axis=-1)\n",
    "m &= (x.sum(axis=-1) == n)\n",
    "print(x[m])"
   ]
  },
  {
   "cell_type": "markdown",
   "id": "19721849",
   "metadata": {},
   "source": [
    "#### 100. Compute bootstrapped 95% confidence intervals for the mean of a 1D array X (i.e., resample the elements of an array with replacement N times, compute the mean of each sample, and then compute percentiles over the means). (★★★)"
   ]
  },
  {
   "cell_type": "code",
   "execution_count": 26,
   "id": "87309c6f",
   "metadata": {},
   "outputs": [
    {
     "name": "stdout",
     "output_type": "stream",
     "text": [
      "[-0.23846818  0.15148558]\n"
     ]
    }
   ],
   "source": [
    "x = np.random.randn(100) # random 1D array\n",
    "n = 1000 # number of bootstrap samples\n",
    "idx = np.random.randint(0, x.size, (n, x.size))\n",
    "means = x[idx].mean(axis=1)\n",
    "confint = np.percentile(means, [2.5, 97.5])\n",
    "print(confint)"
   ]
  },
  {
   "cell_type": "code",
   "execution_count": null,
   "id": "e5e5a391",
   "metadata": {},
   "outputs": [],
   "source": []
  }
 ],
 "metadata": {
  "kernelspec": {
   "display_name": "Python 3 (ipykernel)",
   "language": "python",
   "name": "python3"
  },
  "language_info": {
   "codemirror_mode": {
    "name": "ipython",
    "version": 3
   },
   "file_extension": ".py",
   "mimetype": "text/x-python",
   "name": "python",
   "nbconvert_exporter": "python",
   "pygments_lexer": "ipython3",
   "version": "3.10.0"
  }
 },
 "nbformat": 4,
 "nbformat_minor": 5
}
